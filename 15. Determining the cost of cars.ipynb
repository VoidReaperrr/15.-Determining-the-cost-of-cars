{
 "cells": [
  {
   "cell_type": "markdown",
   "metadata": {},
   "source": [
    "# Определение стоимости автомобилей"
   ]
  },
  {
   "cell_type": "markdown",
   "metadata": {},
   "source": [
    "Сервис по продаже автомобилей с пробегом «Не бит, не крашен» разрабатывает приложение для привлечения новых клиентов. В нём можно быстро узнать рыночную стоимость своего автомобиля. В вашем распоряжении исторические данные: технические характеристики, комплектации и цены автомобилей. Вам нужно построить модель для определения стоимости. \n",
    "\n",
    "Заказчику важны:\n",
    "\n",
    "- качество предсказания;\n",
    "- скорость предсказания;\n",
    "- время обучения."
   ]
  },
  {
   "cell_type": "markdown",
   "metadata": {},
   "source": [
    "## Подготовка данных"
   ]
  },
  {
   "cell_type": "markdown",
   "metadata": {},
   "source": [
    "Установим нужные нам модули, импортируем библлиотеки и выгрузим данные"
   ]
  },
  {
   "cell_type": "code",
   "execution_count": 1,
   "metadata": {},
   "outputs": [
    {
     "name": "stdout",
     "output_type": "stream",
     "text": [
      "Requirement already satisfied: catboost in /opt/conda/lib/python3.9/site-packages (1.0.3)\n",
      "Requirement already satisfied: matplotlib in /opt/conda/lib/python3.9/site-packages (from catboost) (3.3.4)\n",
      "Requirement already satisfied: scipy in /opt/conda/lib/python3.9/site-packages (from catboost) (1.9.1)\n",
      "Requirement already satisfied: numpy>=1.16.0 in /opt/conda/lib/python3.9/site-packages (from catboost) (1.21.1)\n",
      "Requirement already satisfied: six in /opt/conda/lib/python3.9/site-packages (from catboost) (1.16.0)\n",
      "Requirement already satisfied: plotly in /opt/conda/lib/python3.9/site-packages (from catboost) (5.4.0)\n",
      "Requirement already satisfied: pandas>=0.24.0 in /opt/conda/lib/python3.9/site-packages (from catboost) (1.2.4)\n",
      "Requirement already satisfied: graphviz in /opt/conda/lib/python3.9/site-packages (from catboost) (0.20.1)\n",
      "Requirement already satisfied: python-dateutil>=2.7.3 in /opt/conda/lib/python3.9/site-packages (from pandas>=0.24.0->catboost) (2.8.1)\n",
      "Requirement already satisfied: pytz>=2017.3 in /opt/conda/lib/python3.9/site-packages (from pandas>=0.24.0->catboost) (2021.1)\n",
      "Requirement already satisfied: kiwisolver>=1.0.1 in /opt/conda/lib/python3.9/site-packages (from matplotlib->catboost) (1.4.4)\n",
      "Requirement already satisfied: cycler>=0.10 in /opt/conda/lib/python3.9/site-packages (from matplotlib->catboost) (0.11.0)\n",
      "Requirement already satisfied: pyparsing!=2.0.4,!=2.1.2,!=2.1.6,>=2.0.3 in /opt/conda/lib/python3.9/site-packages (from matplotlib->catboost) (2.4.7)\n",
      "Requirement already satisfied: pillow>=6.2.0 in /opt/conda/lib/python3.9/site-packages (from matplotlib->catboost) (8.4.0)\n",
      "Requirement already satisfied: tenacity>=6.2.0 in /opt/conda/lib/python3.9/site-packages (from plotly->catboost) (8.0.1)\n"
     ]
    }
   ],
   "source": [
    "!pip install catboost\n"
   ]
  },
  {
   "cell_type": "code",
   "execution_count": 2,
   "metadata": {
    "scrolled": true
   },
   "outputs": [
    {
     "name": "stdout",
     "output_type": "stream",
     "text": [
      "Requirement already satisfied: lightgbm in /opt/conda/lib/python3.9/site-packages (3.3.1)\n",
      "Requirement already satisfied: wheel in /opt/conda/lib/python3.9/site-packages (from lightgbm) (0.36.2)\n",
      "Requirement already satisfied: scikit-learn!=0.22.0 in /opt/conda/lib/python3.9/site-packages (from lightgbm) (0.24.1)\n",
      "Requirement already satisfied: numpy in /opt/conda/lib/python3.9/site-packages (from lightgbm) (1.21.1)\n",
      "Requirement already satisfied: scipy in /opt/conda/lib/python3.9/site-packages (from lightgbm) (1.9.1)\n",
      "Requirement already satisfied: threadpoolctl>=2.0.0 in /opt/conda/lib/python3.9/site-packages (from scikit-learn!=0.22.0->lightgbm) (3.1.0)\n",
      "Requirement already satisfied: joblib>=0.11 in /opt/conda/lib/python3.9/site-packages (from scikit-learn!=0.22.0->lightgbm) (1.1.0)\n"
     ]
    }
   ],
   "source": [
    "!pip install lightgbm"
   ]
  },
  {
   "cell_type": "code",
   "execution_count": 3,
   "metadata": {},
   "outputs": [
    {
     "name": "stdout",
     "output_type": "stream",
     "text": [
      "Requirement already satisfied: category_encoders in /opt/conda/lib/python3.9/site-packages (2.6.1)\n",
      "Requirement already satisfied: statsmodels>=0.9.0 in /opt/conda/lib/python3.9/site-packages (from category_encoders) (0.13.2)\n",
      "Requirement already satisfied: scipy>=1.0.0 in /opt/conda/lib/python3.9/site-packages (from category_encoders) (1.9.1)\n",
      "Requirement already satisfied: pandas>=1.0.5 in /opt/conda/lib/python3.9/site-packages (from category_encoders) (1.2.4)\n",
      "Requirement already satisfied: numpy>=1.14.0 in /opt/conda/lib/python3.9/site-packages (from category_encoders) (1.21.1)\n",
      "Requirement already satisfied: patsy>=0.5.1 in /opt/conda/lib/python3.9/site-packages (from category_encoders) (0.5.2)\n",
      "Requirement already satisfied: scikit-learn>=0.20.0 in /opt/conda/lib/python3.9/site-packages (from category_encoders) (0.24.1)\n",
      "Requirement already satisfied: python-dateutil>=2.7.3 in /opt/conda/lib/python3.9/site-packages (from pandas>=1.0.5->category_encoders) (2.8.1)\n",
      "Requirement already satisfied: pytz>=2017.3 in /opt/conda/lib/python3.9/site-packages (from pandas>=1.0.5->category_encoders) (2021.1)\n",
      "Requirement already satisfied: six in /opt/conda/lib/python3.9/site-packages (from patsy>=0.5.1->category_encoders) (1.16.0)\n",
      "Requirement already satisfied: threadpoolctl>=2.0.0 in /opt/conda/lib/python3.9/site-packages (from scikit-learn>=0.20.0->category_encoders) (3.1.0)\n",
      "Requirement already satisfied: joblib>=0.11 in /opt/conda/lib/python3.9/site-packages (from scikit-learn>=0.20.0->category_encoders) (1.1.0)\n",
      "Requirement already satisfied: packaging>=21.3 in /opt/conda/lib/python3.9/site-packages (from statsmodels>=0.9.0->category_encoders) (21.3)\n",
      "Requirement already satisfied: pyparsing!=3.0.5,>=2.0.2 in /opt/conda/lib/python3.9/site-packages (from packaging>=21.3->statsmodels>=0.9.0->category_encoders) (2.4.7)\n",
      "Note: you may need to restart the kernel to use updated packages.\n"
     ]
    }
   ],
   "source": [
    "pip install category_encoders"
   ]
  },
  {
   "cell_type": "code",
   "execution_count": 4,
   "metadata": {},
   "outputs": [],
   "source": [
    "import pandas as pd\n",
    "import numpy as np\n",
    "import matplotlib.pyplot as plt\n",
    "\n",
    "import seaborn as sns\n",
    "import catboost as cb\n",
    "from sklearn.model_selection import train_test_split\n",
    "from sklearn.preprocessing import OrdinalEncoder\n",
    "from sklearn.tree import DecisionTreeRegressor\n",
    "from sklearn.ensemble import RandomForestRegressor \n",
    "from sklearn.linear_model import LinearRegression \n",
    "from catboost import CatBoostRegressor, cv, train\n",
    "from sklearn.preprocessing import RobustScaler, StandardScaler\n",
    "import category_encoders as ce\n",
    "from sklearn.preprocessing import OneHotEncoder, StandardScaler\n",
    "import lightgbm as lgb\n",
    "from sklearn.metrics import mean_squared_error\n",
    "import time\n",
    "from sklearn.model_selection import cross_val_score, GridSearchCV , train_test_split \n",
    "from sklearn.metrics import make_scorer, mean_squared_error \n",
    "# import warnings\n",
    "# warnings.filterwarnings('ignore')\n"
   ]
  },
  {
   "cell_type": "code",
   "execution_count": 5,
   "metadata": {
    "scrolled": false
   },
   "outputs": [
    {
     "name": "stdout",
     "output_type": "stream",
     "text": [
      "<class 'pandas.core.frame.DataFrame'>\n",
      "RangeIndex: 354369 entries, 0 to 354368\n",
      "Data columns (total 16 columns):\n",
      " #   Column             Non-Null Count   Dtype \n",
      "---  ------             --------------   ----- \n",
      " 0   DateCrawled        354369 non-null  object\n",
      " 1   Price              354369 non-null  int64 \n",
      " 2   VehicleType        316879 non-null  object\n",
      " 3   RegistrationYear   354369 non-null  int64 \n",
      " 4   Gearbox            334536 non-null  object\n",
      " 5   Power              354369 non-null  int64 \n",
      " 6   Model              334664 non-null  object\n",
      " 7   Kilometer          354369 non-null  int64 \n",
      " 8   RegistrationMonth  354369 non-null  int64 \n",
      " 9   FuelType           321474 non-null  object\n",
      " 10  Brand              354369 non-null  object\n",
      " 11  Repaired           283215 non-null  object\n",
      " 12  DateCreated        354369 non-null  object\n",
      " 13  NumberOfPictures   354369 non-null  int64 \n",
      " 14  PostalCode         354369 non-null  int64 \n",
      " 15  LastSeen           354369 non-null  object\n",
      "dtypes: int64(7), object(9)\n",
      "memory usage: 43.3+ MB\n"
     ]
    },
    {
     "data": {
      "text/html": [
       "<div>\n",
       "<style scoped>\n",
       "    .dataframe tbody tr th:only-of-type {\n",
       "        vertical-align: middle;\n",
       "    }\n",
       "\n",
       "    .dataframe tbody tr th {\n",
       "        vertical-align: top;\n",
       "    }\n",
       "\n",
       "    .dataframe thead th {\n",
       "        text-align: right;\n",
       "    }\n",
       "</style>\n",
       "<table border=\"1\" class=\"dataframe\">\n",
       "  <thead>\n",
       "    <tr style=\"text-align: right;\">\n",
       "      <th></th>\n",
       "      <th>DateCrawled</th>\n",
       "      <th>Price</th>\n",
       "      <th>VehicleType</th>\n",
       "      <th>RegistrationYear</th>\n",
       "      <th>Gearbox</th>\n",
       "      <th>Power</th>\n",
       "      <th>Model</th>\n",
       "      <th>Kilometer</th>\n",
       "      <th>RegistrationMonth</th>\n",
       "      <th>FuelType</th>\n",
       "      <th>Brand</th>\n",
       "      <th>Repaired</th>\n",
       "      <th>DateCreated</th>\n",
       "      <th>NumberOfPictures</th>\n",
       "      <th>PostalCode</th>\n",
       "      <th>LastSeen</th>\n",
       "    </tr>\n",
       "  </thead>\n",
       "  <tbody>\n",
       "    <tr>\n",
       "      <th>0</th>\n",
       "      <td>2016-03-24 11:52:17</td>\n",
       "      <td>480</td>\n",
       "      <td>NaN</td>\n",
       "      <td>1993</td>\n",
       "      <td>manual</td>\n",
       "      <td>0</td>\n",
       "      <td>golf</td>\n",
       "      <td>150000</td>\n",
       "      <td>0</td>\n",
       "      <td>petrol</td>\n",
       "      <td>volkswagen</td>\n",
       "      <td>NaN</td>\n",
       "      <td>2016-03-24 00:00:00</td>\n",
       "      <td>0</td>\n",
       "      <td>70435</td>\n",
       "      <td>2016-04-07 03:16:57</td>\n",
       "    </tr>\n",
       "    <tr>\n",
       "      <th>1</th>\n",
       "      <td>2016-03-24 10:58:45</td>\n",
       "      <td>18300</td>\n",
       "      <td>coupe</td>\n",
       "      <td>2011</td>\n",
       "      <td>manual</td>\n",
       "      <td>190</td>\n",
       "      <td>NaN</td>\n",
       "      <td>125000</td>\n",
       "      <td>5</td>\n",
       "      <td>gasoline</td>\n",
       "      <td>audi</td>\n",
       "      <td>yes</td>\n",
       "      <td>2016-03-24 00:00:00</td>\n",
       "      <td>0</td>\n",
       "      <td>66954</td>\n",
       "      <td>2016-04-07 01:46:50</td>\n",
       "    </tr>\n",
       "    <tr>\n",
       "      <th>2</th>\n",
       "      <td>2016-03-14 12:52:21</td>\n",
       "      <td>9800</td>\n",
       "      <td>suv</td>\n",
       "      <td>2004</td>\n",
       "      <td>auto</td>\n",
       "      <td>163</td>\n",
       "      <td>grand</td>\n",
       "      <td>125000</td>\n",
       "      <td>8</td>\n",
       "      <td>gasoline</td>\n",
       "      <td>jeep</td>\n",
       "      <td>NaN</td>\n",
       "      <td>2016-03-14 00:00:00</td>\n",
       "      <td>0</td>\n",
       "      <td>90480</td>\n",
       "      <td>2016-04-05 12:47:46</td>\n",
       "    </tr>\n",
       "    <tr>\n",
       "      <th>3</th>\n",
       "      <td>2016-03-17 16:54:04</td>\n",
       "      <td>1500</td>\n",
       "      <td>small</td>\n",
       "      <td>2001</td>\n",
       "      <td>manual</td>\n",
       "      <td>75</td>\n",
       "      <td>golf</td>\n",
       "      <td>150000</td>\n",
       "      <td>6</td>\n",
       "      <td>petrol</td>\n",
       "      <td>volkswagen</td>\n",
       "      <td>no</td>\n",
       "      <td>2016-03-17 00:00:00</td>\n",
       "      <td>0</td>\n",
       "      <td>91074</td>\n",
       "      <td>2016-03-17 17:40:17</td>\n",
       "    </tr>\n",
       "    <tr>\n",
       "      <th>4</th>\n",
       "      <td>2016-03-31 17:25:20</td>\n",
       "      <td>3600</td>\n",
       "      <td>small</td>\n",
       "      <td>2008</td>\n",
       "      <td>manual</td>\n",
       "      <td>69</td>\n",
       "      <td>fabia</td>\n",
       "      <td>90000</td>\n",
       "      <td>7</td>\n",
       "      <td>gasoline</td>\n",
       "      <td>skoda</td>\n",
       "      <td>no</td>\n",
       "      <td>2016-03-31 00:00:00</td>\n",
       "      <td>0</td>\n",
       "      <td>60437</td>\n",
       "      <td>2016-04-06 10:17:21</td>\n",
       "    </tr>\n",
       "    <tr>\n",
       "      <th>5</th>\n",
       "      <td>2016-04-04 17:36:23</td>\n",
       "      <td>650</td>\n",
       "      <td>sedan</td>\n",
       "      <td>1995</td>\n",
       "      <td>manual</td>\n",
       "      <td>102</td>\n",
       "      <td>3er</td>\n",
       "      <td>150000</td>\n",
       "      <td>10</td>\n",
       "      <td>petrol</td>\n",
       "      <td>bmw</td>\n",
       "      <td>yes</td>\n",
       "      <td>2016-04-04 00:00:00</td>\n",
       "      <td>0</td>\n",
       "      <td>33775</td>\n",
       "      <td>2016-04-06 19:17:07</td>\n",
       "    </tr>\n",
       "    <tr>\n",
       "      <th>6</th>\n",
       "      <td>2016-04-01 20:48:51</td>\n",
       "      <td>2200</td>\n",
       "      <td>convertible</td>\n",
       "      <td>2004</td>\n",
       "      <td>manual</td>\n",
       "      <td>109</td>\n",
       "      <td>2_reihe</td>\n",
       "      <td>150000</td>\n",
       "      <td>8</td>\n",
       "      <td>petrol</td>\n",
       "      <td>peugeot</td>\n",
       "      <td>no</td>\n",
       "      <td>2016-04-01 00:00:00</td>\n",
       "      <td>0</td>\n",
       "      <td>67112</td>\n",
       "      <td>2016-04-05 18:18:39</td>\n",
       "    </tr>\n",
       "    <tr>\n",
       "      <th>7</th>\n",
       "      <td>2016-03-21 18:54:38</td>\n",
       "      <td>0</td>\n",
       "      <td>sedan</td>\n",
       "      <td>1980</td>\n",
       "      <td>manual</td>\n",
       "      <td>50</td>\n",
       "      <td>other</td>\n",
       "      <td>40000</td>\n",
       "      <td>7</td>\n",
       "      <td>petrol</td>\n",
       "      <td>volkswagen</td>\n",
       "      <td>no</td>\n",
       "      <td>2016-03-21 00:00:00</td>\n",
       "      <td>0</td>\n",
       "      <td>19348</td>\n",
       "      <td>2016-03-25 16:47:58</td>\n",
       "    </tr>\n",
       "    <tr>\n",
       "      <th>8</th>\n",
       "      <td>2016-04-04 23:42:13</td>\n",
       "      <td>14500</td>\n",
       "      <td>bus</td>\n",
       "      <td>2014</td>\n",
       "      <td>manual</td>\n",
       "      <td>125</td>\n",
       "      <td>c_max</td>\n",
       "      <td>30000</td>\n",
       "      <td>8</td>\n",
       "      <td>petrol</td>\n",
       "      <td>ford</td>\n",
       "      <td>NaN</td>\n",
       "      <td>2016-04-04 00:00:00</td>\n",
       "      <td>0</td>\n",
       "      <td>94505</td>\n",
       "      <td>2016-04-04 23:42:13</td>\n",
       "    </tr>\n",
       "    <tr>\n",
       "      <th>9</th>\n",
       "      <td>2016-03-17 10:53:50</td>\n",
       "      <td>999</td>\n",
       "      <td>small</td>\n",
       "      <td>1998</td>\n",
       "      <td>manual</td>\n",
       "      <td>101</td>\n",
       "      <td>golf</td>\n",
       "      <td>150000</td>\n",
       "      <td>0</td>\n",
       "      <td>NaN</td>\n",
       "      <td>volkswagen</td>\n",
       "      <td>NaN</td>\n",
       "      <td>2016-03-17 00:00:00</td>\n",
       "      <td>0</td>\n",
       "      <td>27472</td>\n",
       "      <td>2016-03-31 17:17:06</td>\n",
       "    </tr>\n",
       "  </tbody>\n",
       "</table>\n",
       "</div>"
      ],
      "text/plain": [
       "           DateCrawled  Price  VehicleType  RegistrationYear Gearbox  Power  \\\n",
       "0  2016-03-24 11:52:17    480          NaN              1993  manual      0   \n",
       "1  2016-03-24 10:58:45  18300        coupe              2011  manual    190   \n",
       "2  2016-03-14 12:52:21   9800          suv              2004    auto    163   \n",
       "3  2016-03-17 16:54:04   1500        small              2001  manual     75   \n",
       "4  2016-03-31 17:25:20   3600        small              2008  manual     69   \n",
       "5  2016-04-04 17:36:23    650        sedan              1995  manual    102   \n",
       "6  2016-04-01 20:48:51   2200  convertible              2004  manual    109   \n",
       "7  2016-03-21 18:54:38      0        sedan              1980  manual     50   \n",
       "8  2016-04-04 23:42:13  14500          bus              2014  manual    125   \n",
       "9  2016-03-17 10:53:50    999        small              1998  manual    101   \n",
       "\n",
       "     Model  Kilometer  RegistrationMonth  FuelType       Brand Repaired  \\\n",
       "0     golf     150000                  0    petrol  volkswagen      NaN   \n",
       "1      NaN     125000                  5  gasoline        audi      yes   \n",
       "2    grand     125000                  8  gasoline        jeep      NaN   \n",
       "3     golf     150000                  6    petrol  volkswagen       no   \n",
       "4    fabia      90000                  7  gasoline       skoda       no   \n",
       "5      3er     150000                 10    petrol         bmw      yes   \n",
       "6  2_reihe     150000                  8    petrol     peugeot       no   \n",
       "7    other      40000                  7    petrol  volkswagen       no   \n",
       "8    c_max      30000                  8    petrol        ford      NaN   \n",
       "9     golf     150000                  0       NaN  volkswagen      NaN   \n",
       "\n",
       "           DateCreated  NumberOfPictures  PostalCode             LastSeen  \n",
       "0  2016-03-24 00:00:00                 0       70435  2016-04-07 03:16:57  \n",
       "1  2016-03-24 00:00:00                 0       66954  2016-04-07 01:46:50  \n",
       "2  2016-03-14 00:00:00                 0       90480  2016-04-05 12:47:46  \n",
       "3  2016-03-17 00:00:00                 0       91074  2016-03-17 17:40:17  \n",
       "4  2016-03-31 00:00:00                 0       60437  2016-04-06 10:17:21  \n",
       "5  2016-04-04 00:00:00                 0       33775  2016-04-06 19:17:07  \n",
       "6  2016-04-01 00:00:00                 0       67112  2016-04-05 18:18:39  \n",
       "7  2016-03-21 00:00:00                 0       19348  2016-03-25 16:47:58  \n",
       "8  2016-04-04 00:00:00                 0       94505  2016-04-04 23:42:13  \n",
       "9  2016-03-17 00:00:00                 0       27472  2016-03-31 17:17:06  "
      ]
     },
     "execution_count": 5,
     "metadata": {},
     "output_type": "execute_result"
    }
   ],
   "source": [
    "try:\n",
    "    df = pd.read_csv('/datasets/autos.csv')\n",
    "    df.info()\n",
    "except:\n",
    "    print('alarm, волк унес зайчат')\n",
    "\n",
    "    \n",
    "df.head(10)"
   ]
  },
  {
   "cell_type": "markdown",
   "metadata": {},
   "source": [
    "В данных много пропусков, изучим этот момент и приведем данные к рабочему виду"
   ]
  },
  {
   "cell_type": "code",
   "execution_count": 6,
   "metadata": {},
   "outputs": [
    {
     "data": {
      "text/plain": [
       "array(['manual', 'auto', nan], dtype=object)"
      ]
     },
     "execution_count": 6,
     "metadata": {},
     "output_type": "execute_result"
    }
   ],
   "source": [
    "df['Gearbox'].unique()"
   ]
  },
  {
   "cell_type": "code",
   "execution_count": 7,
   "metadata": {},
   "outputs": [
    {
     "data": {
      "text/plain": [
       "no     0.872697\n",
       "yes    0.127303\n",
       "Name: Repaired, dtype: float64"
      ]
     },
     "execution_count": 7,
     "metadata": {},
     "output_type": "execute_result"
    }
   ],
   "source": [
    "df['Repaired'].value_counts(normalize=True)"
   ]
  },
  {
   "cell_type": "code",
   "execution_count": 8,
   "metadata": {
    "scrolled": false
   },
   "outputs": [
    {
     "data": {
      "text/plain": [
       "array(['golf', nan, 'grand', 'fabia', '3er', '2_reihe', 'other', 'c_max',\n",
       "       '3_reihe', 'passat', 'navara', 'ka', 'polo', 'twingo', 'a_klasse',\n",
       "       'scirocco', '5er', 'meriva', 'arosa', 'c4', 'civic', 'transporter',\n",
       "       'punto', 'e_klasse', 'clio', 'kadett', 'kangoo', 'corsa', 'one',\n",
       "       'fortwo', '1er', 'b_klasse', 'signum', 'astra', 'a8', 'jetta',\n",
       "       'fiesta', 'c_klasse', 'micra', 'vito', 'sprinter', '156', 'escort',\n",
       "       'forester', 'xc_reihe', 'scenic', 'a4', 'a1', 'insignia', 'combo',\n",
       "       'focus', 'tt', 'a6', 'jazz', 'omega', 'slk', '7er', '80', '147',\n",
       "       '100', 'z_reihe', 'sportage', 'sorento', 'v40', 'ibiza', 'mustang',\n",
       "       'eos', 'touran', 'getz', 'a3', 'almera', 'megane', 'lupo', 'r19',\n",
       "       'zafira', 'caddy', 'mondeo', 'cordoba', 'colt', 'impreza',\n",
       "       'vectra', 'berlingo', 'tiguan', 'i_reihe', 'espace', 'sharan',\n",
       "       '6_reihe', 'panda', 'up', 'seicento', 'ceed', '5_reihe', 'yeti',\n",
       "       'octavia', 'mii', 'rx_reihe', '6er', 'modus', 'fox', 'matiz',\n",
       "       'beetle', 'c1', 'rio', 'touareg', 'logan', 'spider', 'cuore',\n",
       "       's_max', 'a2', 'galaxy', 'c3', 'viano', 's_klasse', '1_reihe',\n",
       "       'avensis', 'roomster', 'sl', 'kaefer', 'santa', 'cooper', 'leon',\n",
       "       '4_reihe', 'a5', '500', 'laguna', 'ptcruiser', 'clk', 'primera',\n",
       "       'x_reihe', 'exeo', '159', 'transit', 'juke', 'qashqai', 'carisma',\n",
       "       'accord', 'corolla', 'lanos', 'phaeton', 'verso', 'swift', 'rav',\n",
       "       'picanto', 'boxster', 'kalos', 'superb', 'stilo', 'alhambra',\n",
       "       'mx_reihe', 'roadster', 'ypsilon', 'cayenne', 'galant', 'justy',\n",
       "       '90', 'sirion', 'crossfire', 'agila', 'duster', 'cr_reihe', 'v50',\n",
       "       'c_reihe', 'v_klasse', 'm_klasse', 'yaris', 'c5', 'aygo', 'cc',\n",
       "       'carnival', 'fusion', '911', 'bora', 'forfour', 'm_reihe', 'cl',\n",
       "       'tigra', '300c', 'spark', 'v70', 'kuga', 'x_type', 'ducato',\n",
       "       's_type', 'x_trail', 'toledo', 'altea', 'voyager', 'calibra',\n",
       "       'bravo', 'antara', 'tucson', 'citigo', 'jimny', 'wrangler',\n",
       "       'lybra', 'q7', 'lancer', 'captiva', 'c2', 'discovery',\n",
       "       'freelander', 'sandero', 'note', '900', 'cherokee', 'clubman',\n",
       "       'samara', 'defender', '601', 'cx_reihe', 'legacy', 'pajero',\n",
       "       'auris', 'niva', 's60', 'nubira', 'vivaro', 'g_klasse', 'lodgy',\n",
       "       '850', 'range_rover', 'q3', 'serie_2', 'glk', 'charade', 'croma',\n",
       "       'outlander', 'doblo', 'musa', 'move', '9000', 'v60', '145', 'aveo',\n",
       "       '200', 'b_max', 'range_rover_sport', 'terios', 'rangerover', 'q5',\n",
       "       'range_rover_evoque', 'materia', 'delta', 'gl', 'kalina', 'amarok',\n",
       "       'elefantino', 'i3', 'kappa', 'serie_3', 'serie_1'], dtype=object)"
      ]
     },
     "execution_count": 8,
     "metadata": {},
     "output_type": "execute_result"
    }
   ],
   "source": [
    "df['Model'].unique()"
   ]
  },
  {
   "cell_type": "code",
   "execution_count": 9,
   "metadata": {},
   "outputs": [
    {
     "data": {
      "text/plain": [
       "array(['manual', 'auto', nan], dtype=object)"
      ]
     },
     "execution_count": 9,
     "metadata": {},
     "output_type": "execute_result"
    }
   ],
   "source": [
    "df['Gearbox'].unique()"
   ]
  },
  {
   "cell_type": "code",
   "execution_count": 10,
   "metadata": {},
   "outputs": [
    {
     "data": {
      "text/plain": [
       "array([nan, 'coupe', 'suv', 'small', 'sedan', 'convertible', 'bus',\n",
       "       'wagon', 'other'], dtype=object)"
      ]
     },
     "execution_count": 10,
     "metadata": {},
     "output_type": "execute_result"
    }
   ],
   "source": [
    "df['VehicleType'].unique()"
   ]
  },
  {
   "cell_type": "code",
   "execution_count": 11,
   "metadata": {},
   "outputs": [
    {
     "data": {
      "text/plain": [
       "array(['petrol', 'gasoline', nan, 'lpg', 'other', 'hybrid', 'cng',\n",
       "       'electric'], dtype=object)"
      ]
     },
     "execution_count": 11,
     "metadata": {},
     "output_type": "execute_result"
    }
   ],
   "source": [
    "df['FuelType'].unique()"
   ]
  },
  {
   "cell_type": "code",
   "execution_count": 12,
   "metadata": {
    "scrolled": true
   },
   "outputs": [
    {
     "data": {
      "text/plain": [
       "array([1993, 2011, 2004, 2001, 2008, 1995, 1980, 2014, 1998, 2005, 1910,\n",
       "       2016, 2007, 2009, 2002, 2018, 1997, 1990, 2017, 1981, 2003, 1994,\n",
       "       1991, 1984, 2006, 1999, 2012, 2010, 2000, 1992, 2013, 1996, 1985,\n",
       "       1989, 2015, 1982, 1976, 1983, 1973, 1111, 1969, 1971, 1987, 1986,\n",
       "       1988, 1970, 1965, 1945, 1925, 1974, 1979, 1955, 1978, 1972, 1968,\n",
       "       1977, 1961, 1960, 1966, 1975, 1963, 1964, 5000, 1954, 1958, 1967,\n",
       "       1959, 9999, 1956, 3200, 1000, 1941, 8888, 1500, 2200, 4100, 1962,\n",
       "       1929, 1957, 1940, 3000, 2066, 1949, 2019, 1937, 1951, 1800, 1953,\n",
       "       1234, 8000, 5300, 9000, 2900, 6000, 5900, 5911, 1933, 1400, 1950,\n",
       "       4000, 1948, 1952, 1200, 8500, 1932, 1255, 3700, 3800, 4800, 1942,\n",
       "       7000, 1935, 1936, 6500, 1923, 2290, 2500, 1930, 1001, 9450, 1944,\n",
       "       1943, 1934, 1938, 1688, 2800, 1253, 1928, 1919, 5555, 5600, 1600,\n",
       "       2222, 1039, 9996, 1300, 8455, 1931, 1915, 4500, 1920, 1602, 7800,\n",
       "       9229, 1947, 1927, 7100, 8200, 1946, 7500, 3500])"
      ]
     },
     "execution_count": 12,
     "metadata": {},
     "output_type": "execute_result"
    }
   ],
   "source": [
    "df['RegistrationYear'].unique()"
   ]
  },
  {
   "cell_type": "code",
   "execution_count": 13,
   "metadata": {
    "scrolled": true
   },
   "outputs": [
    {
     "data": {
      "text/plain": [
       "array([    0,   190,   163,    75,    69,   102,   109,    50,   125,\n",
       "         101,   105,   140,   115,   131,    60,   136,   160,   231,\n",
       "          90,   118,   193,    99,   113,   218,   122,   129,    70,\n",
       "         306,    95,    61,   177,    80,   170,    55,   143,    64,\n",
       "         286,   232,   150,   156,    82,   155,    54,   185,    87,\n",
       "         180,    86,    84,   224,   235,   200,   178,   265,    77,\n",
       "         110,   144,   120,   116,   184,   126,   204,    88,   194,\n",
       "         305,   197,   179,   250,    45,   313,    41,   165,    98,\n",
       "         130,   114,   211,    56,   201,   213,    58,   107,    83,\n",
       "         174,   100,   220,    85,    73,   192,    68,    66,   299,\n",
       "          74,    52,   147,    65,   310,    71,    97,   239,   203,\n",
       "           5,   300,   103,   258,   320,    63,    81,   148,    44,\n",
       "         145,   230,   280,   260,   104,   188,   333,   186,   117,\n",
       "         141,    59,   132,   234,   158,    39,    92,    51,   135,\n",
       "          53,   209,    43,   146,    67,   106,   166,   276,   344,\n",
       "          72,   249,   237,   245,   111,   326,   279,    23,   138,\n",
       "         175,    96,   226,    26,    37,   301,   334,   128,   133,\n",
       "         124,    33,   219,   241,   167,    94,   182,   196,   238,\n",
       "        1398,   228,   112,    48,   272,   139,  1799,    40,   240,\n",
       "          79,   256,   360,   243,   375,   252,   396,   340,   108,\n",
       "         121,   345,   187,   289,   222,   198,   284,   450,   233,\n",
       "         387,   152,   347,   172,    57,   137,   212,   476,   314,\n",
       "          30,     7,    47,   173,   290,   207,   205,   171,   750,\n",
       "          78,    91,    89,   349,   325,    76,   151,   350,   953,\n",
       "          93,   142,   500,   343,   199,   119,   164,    16,   264,\n",
       "         367,   208,   210,    46,   435,  1001,   225,   127,   176,\n",
       "         161,   603,   307,   354,    35,   206,   771,   355,   273,\n",
       "         223,   255,   123,   154,   149,  7515,  1400,   268,   620,\n",
       "         169,   400,   275,    34,     2,   242,  1779,   285,   162,\n",
       "         328,  1753,   329,   134,   420,   247,   168, 10317,   215,\n",
       "          18,   330,   283,    62,    10,   214,   183,   254,    15,\n",
       "         321,   322,   315,   952,   600,   181,   426,   599,   379,\n",
       "         999,    22,   157,    42,   195,   553,     4,   309,   507,\n",
       "         381,   271,   440,   189,   401,  1111,  2729,    21,   236,\n",
       "        1240,  1704,   521,     1,  1900,   270,    24,   159,   292,\n",
       "         808,   515,  1200,   303,    29,    38,  1993,    14,   216,\n",
       "         610,   504,    49,   267,   331,   363,   261,   385,  1011,\n",
       "         253,   696, 10520,   376,   227,   311,    27,   217,    20,\n",
       "        1999,    11,  1056,    25,   394,    12,   298,   296,  1659,\n",
       "         294,   551,  6920,   246,    17,  1800,  1625,   368,   390,\n",
       "         221,  1367,   259,   606,   327,  2017,  1597,   266,   374,\n",
       "         392,     9,   405,    13,   262,   601,   430,   295,     8,\n",
       "         411,   900,   541,  7512,   382, 10218,  7544,  1102,   287,\n",
       "          19,   751,   297,  1090,   457,   282,   602,   388,     6,\n",
       "        1000,  5411,   335,  1360,   202,  3750,   805,  1062,  1024,\n",
       "       11530,   364,  1796,  5000,   269,   460,  1002,   288,  1780,\n",
       "       12012, 17932,   316,  2005,  1399,   191,   278,  1300,   380,\n",
       "         257,   449,  1256,   153,  1653,   520,   560,   281, 12510,\n",
       "           3,  1500,   386,    32,  1202,  2016,  1436,  1405,   671,\n",
       "         274,  1288,  1055, 10912, 15016,  6226,  1115,   277,  1105,\n",
       "         341,  1223,  2340,  8404,  1968,   338,   445,  1920,   370,\n",
       "         517,  4400, 10710, 10522,  9010,   431,  1164, 11509,   371,\n",
       "        1501,   428, 11635,    36,   304,   348,  1703,  1910,  1995,\n",
       "         579, 10000,   580,   408,    31,  1005,   358,  1403,   489,\n",
       "        5575, 19211,   585,   960,   365,   353,   490,   352,  1801,\n",
       "         346,   550,  3199,   800,  7508,  1312,   357,  1937,   950,\n",
       "        4700,  1600,  3454, 19208,   251,   850,   337,   700,  8011,\n",
       "        2331,  2789,   487,   519,  2461,  6006,  3500,  5815,  6018,\n",
       "        1781,  1503,   612,  1596,   229,  1506,  5809, 15020,  5867,\n",
       "        2172,  1598, 17410,  1363,   584,  1054,   851,  1339,   318,\n",
       "         510,   525,  1700,    28,  1151,   685,  6011,   317,   703,\n",
       "        1771, 15001,   514,   362,   332,   324,  6045,   530,   425,\n",
       "         308,  6010,   475,   903,   640,  2000,   248,   651,  2799,\n",
       "       17011,   505,  1103,  1521,   351, 16051,   398,  9000,  1998,\n",
       "       10311,   409,  1230, 17019, 12684,  8259,  1895,   901,  1317,\n",
       "         871,   909,  2201,  1595,   776, 17700, 11011,  1199,   459,\n",
       "        1162,  1120, 15033,  1896,   339,   361,   574,  6512,   454,\n",
       "         650, 13616,   604,   607, 16312,  1082,   336, 20000,   416,\n",
       "         678,  6012,  1401,  1021,  1870, 13636,  1250,  9710,   323,\n",
       "        1158,  2009,   902,  6062,  1275,   572,   244,   399,  1016,\n",
       "         743,  1221,  2402, 16011,  1362,   544,   645,   907,   702,\n",
       "       12512,  1986,  1003,  1432,  9013,  9011,   442,  1017,  1394,\n",
       "       15017, 10910,  1992,   540,  2018, 11025,  1433,  1701,  2792,\n",
       "        1502,  1239,  1390, 14009,  1160,  1351, 11111,  1783,  9007,\n",
       "         923,  1149,   754,  1988,   402,  2004,  5420,  1793,  1324,\n",
       "         356,  7511,  1299,   293, 19312,  1079,  1689,   998,  1100,\n",
       "        9012,  1933,   508, 16311,   682,  1252,  1922,  7529,   732,\n",
       "        2389,  2200,  1707,  1416,  8500,  1012,   485,  3000, 10110,\n",
       "         421,  4507,  1631,  7518,   377,  1004,  2007,  2598,  1548,\n",
       "        1241])"
      ]
     },
     "execution_count": 13,
     "metadata": {},
     "output_type": "execute_result"
    }
   ],
   "source": [
    "df['Power'].unique()"
   ]
  },
  {
   "cell_type": "markdown",
   "metadata": {},
   "source": [
    "Убираем ненужные столбцы"
   ]
  },
  {
   "cell_type": "code",
   "execution_count": 14,
   "metadata": {
    "scrolled": false
   },
   "outputs": [],
   "source": [
    "df.drop(['DateCrawled',\n",
    "         'RegistrationMonth', 'DateCreated', 'NumberOfPictures',\n",
    "         'PostalCode', 'LastSeen'],\n",
    "        axis='columns', inplace=True)"
   ]
  },
  {
   "cell_type": "markdown",
   "metadata": {},
   "source": [
    "заполняем пропуски в данных"
   ]
  },
  {
   "cell_type": "code",
   "execution_count": 15,
   "metadata": {},
   "outputs": [],
   "source": [
    "df['Repaired'] = df['Repaired'].fillna(\"no\") #был ли ремонт"
   ]
  },
  {
   "cell_type": "code",
   "execution_count": 16,
   "metadata": {},
   "outputs": [],
   "source": [
    "df['Model'] = df['Model'].fillna('other') #модель машины"
   ]
  },
  {
   "cell_type": "code",
   "execution_count": 17,
   "metadata": {},
   "outputs": [],
   "source": [
    "df['Gearbox'] = df['Gearbox'].fillna(\"other\") #какая коробка"
   ]
  },
  {
   "cell_type": "code",
   "execution_count": 18,
   "metadata": {},
   "outputs": [],
   "source": [
    "df['VehicleType'] = df['VehicleType'].fillna(\"other\") #кузов"
   ]
  },
  {
   "cell_type": "code",
   "execution_count": 19,
   "metadata": {},
   "outputs": [],
   "source": [
    "df['FuelType'] = df['FuelType'].fillna(\"other\") #тип топлива"
   ]
  },
  {
   "cell_type": "markdown",
   "metadata": {},
   "source": [
    "Убираем аномальные значения : год постановления на учет и количество лошадиных сил"
   ]
  },
  {
   "cell_type": "code",
   "execution_count": 20,
   "metadata": {},
   "outputs": [],
   "source": [
    "df = df.query('1980 <= RegistrationYear <= 2016')"
   ]
  },
  {
   "cell_type": "code",
   "execution_count": 21,
   "metadata": {},
   "outputs": [],
   "source": [
    "df = df.query('50 <= Power <= 1500')"
   ]
  },
  {
   "cell_type": "markdown",
   "metadata": {},
   "source": [
    "Проверяем и удаляем дубликаты"
   ]
  },
  {
   "cell_type": "code",
   "execution_count": 22,
   "metadata": {},
   "outputs": [
    {
     "data": {
      "text/plain": [
       "45551"
      ]
     },
     "execution_count": 22,
     "metadata": {},
     "output_type": "execute_result"
    }
   ],
   "source": [
    "df.duplicated().sum()"
   ]
  },
  {
   "cell_type": "code",
   "execution_count": 23,
   "metadata": {},
   "outputs": [
    {
     "name": "stdout",
     "output_type": "stream",
     "text": [
      "0\n"
     ]
    }
   ],
   "source": [
    "df = df.drop_duplicates()\n",
    "print(df.duplicated().sum())"
   ]
  },
  {
   "cell_type": "markdown",
   "metadata": {},
   "source": [
    "Посмотрим на данные"
   ]
  },
  {
   "cell_type": "code",
   "execution_count": 24,
   "metadata": {},
   "outputs": [],
   "source": [
    "numeric = []\n",
    "for i in df.columns:\n",
    "    if df[i].dtypes == 'int64':\n",
    "        numeric.append(i)"
   ]
  },
  {
   "cell_type": "code",
   "execution_count": 25,
   "metadata": {},
   "outputs": [
    {
     "name": "stderr",
     "output_type": "stream",
     "text": [
      "/opt/conda/lib/python3.9/site-packages/seaborn/distributions.py:2557: FutureWarning: `distplot` is a deprecated function and will be removed in a future version. Please adapt your code to use either `displot` (a figure-level function with similar flexibility) or `histplot` (an axes-level function for histograms).\n",
      "  warnings.warn(msg, FutureWarning)\n"
     ]
    },
    {
     "data": {
      "image/png": "[encoded data removed]",
      "text/plain": [
       "<Figure size 1080x288 with 1 Axes>"
      ]
     },
     "metadata": {
      "needs_background": "light"
     },
     "output_type": "display_data"
    },
    {
     "data": {
      "image/png": "[encoded data removed]",
      "text/plain": [
       "<Figure size 1080x288 with 1 Axes>"
      ]
     },
     "metadata": {
      "needs_background": "light"
     },
     "output_type": "display_data"
    },
    {
     "data": {
      "image/png": "[encoded data removed]",
      "text/plain": [
       "<Figure size 1080x288 with 1 Axes>"
      ]
     },
     "metadata": {
      "needs_background": "light"
     },
     "output_type": "display_data"
    },
    {
     "data": {
      "image/png": "[encoded data removed]",
      "text/plain": [
       "<Figure size 1080x288 with 1 Axes>"
      ]
     },
     "metadata": {
      "needs_background": "light"
     },
     "output_type": "display_data"
    }
   ],
   "source": [
    "for i in numeric:\n",
    "    plt.figure(figsize=(15, 4))\n",
    "    sns.distplot(df[i], kde=False, bins=100)"
   ]
  },
  {
   "cell_type": "code",
   "execution_count": 26,
   "metadata": {
    "scrolled": true
   },
   "outputs": [
    {
     "name": "stdout",
     "output_type": "stream",
     "text": [
      "<class 'pandas.core.frame.DataFrame'>\n",
      "Int64Index: 250093 entries, 1 to 354368\n",
      "Data columns (total 10 columns):\n",
      " #   Column            Non-Null Count   Dtype \n",
      "---  ------            --------------   ----- \n",
      " 0   Price             250093 non-null  int64 \n",
      " 1   VehicleType       250093 non-null  object\n",
      " 2   RegistrationYear  250093 non-null  int64 \n",
      " 3   Gearbox           250093 non-null  object\n",
      " 4   Power             250093 non-null  int64 \n",
      " 5   Model             250093 non-null  object\n",
      " 6   Kilometer         250093 non-null  int64 \n",
      " 7   FuelType          250093 non-null  object\n",
      " 8   Brand             250093 non-null  object\n",
      " 9   Repaired          250093 non-null  object\n",
      "dtypes: int64(4), object(6)\n",
      "memory usage: 21.0+ MB\n"
     ]
    }
   ],
   "source": [
    "df.info()"
   ]
  },
  {
   "cell_type": "code",
   "execution_count": 27,
   "metadata": {
    "scrolled": true
   },
   "outputs": [
    {
     "data": {
      "text/html": [
       "<div>\n",
       "<style scoped>\n",
       "    .dataframe tbody tr th:only-of-type {\n",
       "        vertical-align: middle;\n",
       "    }\n",
       "\n",
       "    .dataframe tbody tr th {\n",
       "        vertical-align: top;\n",
       "    }\n",
       "\n",
       "    .dataframe thead th {\n",
       "        text-align: right;\n",
       "    }\n",
       "</style>\n",
       "<table border=\"1\" class=\"dataframe\">\n",
       "  <thead>\n",
       "    <tr style=\"text-align: right;\">\n",
       "      <th></th>\n",
       "      <th>Price</th>\n",
       "      <th>VehicleType</th>\n",
       "      <th>RegistrationYear</th>\n",
       "      <th>Gearbox</th>\n",
       "      <th>Power</th>\n",
       "      <th>Model</th>\n",
       "      <th>Kilometer</th>\n",
       "      <th>FuelType</th>\n",
       "      <th>Brand</th>\n",
       "      <th>Repaired</th>\n",
       "    </tr>\n",
       "  </thead>\n",
       "  <tbody>\n",
       "    <tr>\n",
       "      <th>1</th>\n",
       "      <td>18300</td>\n",
       "      <td>coupe</td>\n",
       "      <td>2011</td>\n",
       "      <td>manual</td>\n",
       "      <td>190</td>\n",
       "      <td>other</td>\n",
       "      <td>125000</td>\n",
       "      <td>gasoline</td>\n",
       "      <td>audi</td>\n",
       "      <td>yes</td>\n",
       "    </tr>\n",
       "    <tr>\n",
       "      <th>2</th>\n",
       "      <td>9800</td>\n",
       "      <td>suv</td>\n",
       "      <td>2004</td>\n",
       "      <td>auto</td>\n",
       "      <td>163</td>\n",
       "      <td>grand</td>\n",
       "      <td>125000</td>\n",
       "      <td>gasoline</td>\n",
       "      <td>jeep</td>\n",
       "      <td>no</td>\n",
       "    </tr>\n",
       "    <tr>\n",
       "      <th>3</th>\n",
       "      <td>1500</td>\n",
       "      <td>small</td>\n",
       "      <td>2001</td>\n",
       "      <td>manual</td>\n",
       "      <td>75</td>\n",
       "      <td>golf</td>\n",
       "      <td>150000</td>\n",
       "      <td>petrol</td>\n",
       "      <td>volkswagen</td>\n",
       "      <td>no</td>\n",
       "    </tr>\n",
       "    <tr>\n",
       "      <th>4</th>\n",
       "      <td>3600</td>\n",
       "      <td>small</td>\n",
       "      <td>2008</td>\n",
       "      <td>manual</td>\n",
       "      <td>69</td>\n",
       "      <td>fabia</td>\n",
       "      <td>90000</td>\n",
       "      <td>gasoline</td>\n",
       "      <td>skoda</td>\n",
       "      <td>no</td>\n",
       "    </tr>\n",
       "    <tr>\n",
       "      <th>5</th>\n",
       "      <td>650</td>\n",
       "      <td>sedan</td>\n",
       "      <td>1995</td>\n",
       "      <td>manual</td>\n",
       "      <td>102</td>\n",
       "      <td>3er</td>\n",
       "      <td>150000</td>\n",
       "      <td>petrol</td>\n",
       "      <td>bmw</td>\n",
       "      <td>yes</td>\n",
       "    </tr>\n",
       "    <tr>\n",
       "      <th>...</th>\n",
       "      <td>...</td>\n",
       "      <td>...</td>\n",
       "      <td>...</td>\n",
       "      <td>...</td>\n",
       "      <td>...</td>\n",
       "      <td>...</td>\n",
       "      <td>...</td>\n",
       "      <td>...</td>\n",
       "      <td>...</td>\n",
       "      <td>...</td>\n",
       "    </tr>\n",
       "    <tr>\n",
       "      <th>354361</th>\n",
       "      <td>5250</td>\n",
       "      <td>other</td>\n",
       "      <td>2016</td>\n",
       "      <td>auto</td>\n",
       "      <td>150</td>\n",
       "      <td>159</td>\n",
       "      <td>150000</td>\n",
       "      <td>other</td>\n",
       "      <td>alfa_romeo</td>\n",
       "      <td>no</td>\n",
       "    </tr>\n",
       "    <tr>\n",
       "      <th>354362</th>\n",
       "      <td>3200</td>\n",
       "      <td>sedan</td>\n",
       "      <td>2004</td>\n",
       "      <td>manual</td>\n",
       "      <td>225</td>\n",
       "      <td>leon</td>\n",
       "      <td>150000</td>\n",
       "      <td>petrol</td>\n",
       "      <td>seat</td>\n",
       "      <td>yes</td>\n",
       "    </tr>\n",
       "    <tr>\n",
       "      <th>354366</th>\n",
       "      <td>1199</td>\n",
       "      <td>convertible</td>\n",
       "      <td>2000</td>\n",
       "      <td>auto</td>\n",
       "      <td>101</td>\n",
       "      <td>fortwo</td>\n",
       "      <td>125000</td>\n",
       "      <td>petrol</td>\n",
       "      <td>smart</td>\n",
       "      <td>no</td>\n",
       "    </tr>\n",
       "    <tr>\n",
       "      <th>354367</th>\n",
       "      <td>9200</td>\n",
       "      <td>bus</td>\n",
       "      <td>1996</td>\n",
       "      <td>manual</td>\n",
       "      <td>102</td>\n",
       "      <td>transporter</td>\n",
       "      <td>150000</td>\n",
       "      <td>gasoline</td>\n",
       "      <td>volkswagen</td>\n",
       "      <td>no</td>\n",
       "    </tr>\n",
       "    <tr>\n",
       "      <th>354368</th>\n",
       "      <td>3400</td>\n",
       "      <td>wagon</td>\n",
       "      <td>2002</td>\n",
       "      <td>manual</td>\n",
       "      <td>100</td>\n",
       "      <td>golf</td>\n",
       "      <td>150000</td>\n",
       "      <td>gasoline</td>\n",
       "      <td>volkswagen</td>\n",
       "      <td>no</td>\n",
       "    </tr>\n",
       "  </tbody>\n",
       "</table>\n",
       "<p>250093 rows × 10 columns</p>\n",
       "</div>"
      ],
      "text/plain": [
       "        Price  VehicleType  RegistrationYear Gearbox  Power        Model  \\\n",
       "1       18300        coupe              2011  manual    190        other   \n",
       "2        9800          suv              2004    auto    163        grand   \n",
       "3        1500        small              2001  manual     75         golf   \n",
       "4        3600        small              2008  manual     69        fabia   \n",
       "5         650        sedan              1995  manual    102          3er   \n",
       "...       ...          ...               ...     ...    ...          ...   \n",
       "354361   5250        other              2016    auto    150          159   \n",
       "354362   3200        sedan              2004  manual    225         leon   \n",
       "354366   1199  convertible              2000    auto    101       fortwo   \n",
       "354367   9200          bus              1996  manual    102  transporter   \n",
       "354368   3400        wagon              2002  manual    100         golf   \n",
       "\n",
       "        Kilometer  FuelType       Brand Repaired  \n",
       "1          125000  gasoline        audi      yes  \n",
       "2          125000  gasoline        jeep       no  \n",
       "3          150000    petrol  volkswagen       no  \n",
       "4           90000  gasoline       skoda       no  \n",
       "5          150000    petrol         bmw      yes  \n",
       "...           ...       ...         ...      ...  \n",
       "354361     150000     other  alfa_romeo       no  \n",
       "354362     150000    petrol        seat      yes  \n",
       "354366     125000    petrol       smart       no  \n",
       "354367     150000  gasoline  volkswagen       no  \n",
       "354368     150000  gasoline  volkswagen       no  \n",
       "\n",
       "[250093 rows x 10 columns]"
      ]
     },
     "execution_count": 27,
     "metadata": {},
     "output_type": "execute_result"
    }
   ],
   "source": [
    "df"
   ]
  },
  {
   "cell_type": "markdown",
   "metadata": {},
   "source": [
    "Выводы по предобработке:\n",
    "1.Удалили ненужные строки\n",
    "\n",
    "2.Заменили пропуски в столбце `Repaired` на \"no\" , думаю что если не указали, знаичт не ремонтировались(допустим мы живем в идеальном мире без врунов)\n",
    "\n",
    "3.В столбцах \"модель, коробка, тип кузова и топливо\" были значения `other` на них и заменили пропуски\n",
    "\n",
    "4.Отфильтровали данные в столбце год  регистрации от 1980 до 2022 и в столбце лошадиные силы от 50 до 1500( допустим на нашей площадке будут продавать такие машины как Koenigsegg)\n",
    "\n",
    "Данные отшлифованны , будет приступать к обучению модели"
   ]
  },
  {
   "cell_type": "markdown",
   "metadata": {},
   "source": [
    "## Обучение моделей"
   ]
  },
  {
   "cell_type": "markdown",
   "metadata": {},
   "source": [
    "Разобьем данные на 3 выборки\n",
    "Закодируем данные для дальнейшего обучения"
   ]
  },
  {
   "cell_type": "code",
   "execution_count": 28,
   "metadata": {},
   "outputs": [],
   "source": [
    "df_encoded = df.drop(['Model', 'Brand'], axis=1)"
   ]
  },
  {
   "cell_type": "code",
   "execution_count": 29,
   "metadata": {},
   "outputs": [],
   "source": [
    "ohe = OneHotEncoder()\n",
    "df_encoded = pd.get_dummies(df_encoded)"
   ]
  },
  {
   "cell_type": "code",
   "execution_count": 30,
   "metadata": {},
   "outputs": [],
   "source": [
    "df_encoded = pd.concat([df[['Model', 'Brand']], df_encoded], axis=1)"
   ]
  },
  {
   "cell_type": "code",
   "execution_count": 31,
   "metadata": {},
   "outputs": [
    {
     "data": {
      "text/html": [
       "<div>\n",
       "<style scoped>\n",
       "    .dataframe tbody tr th:only-of-type {\n",
       "        vertical-align: middle;\n",
       "    }\n",
       "\n",
       "    .dataframe tbody tr th {\n",
       "        vertical-align: top;\n",
       "    }\n",
       "\n",
       "    .dataframe thead th {\n",
       "        text-align: right;\n",
       "    }\n",
       "</style>\n",
       "<table border=\"1\" class=\"dataframe\">\n",
       "  <thead>\n",
       "    <tr style=\"text-align: right;\">\n",
       "      <th></th>\n",
       "      <th>Model</th>\n",
       "      <th>Brand</th>\n",
       "      <th>Price</th>\n",
       "      <th>RegistrationYear</th>\n",
       "      <th>Power</th>\n",
       "      <th>Kilometer</th>\n",
       "      <th>VehicleType_bus</th>\n",
       "      <th>VehicleType_convertible</th>\n",
       "      <th>VehicleType_coupe</th>\n",
       "      <th>VehicleType_other</th>\n",
       "      <th>...</th>\n",
       "      <th>Gearbox_other</th>\n",
       "      <th>FuelType_cng</th>\n",
       "      <th>FuelType_electric</th>\n",
       "      <th>FuelType_gasoline</th>\n",
       "      <th>FuelType_hybrid</th>\n",
       "      <th>FuelType_lpg</th>\n",
       "      <th>FuelType_other</th>\n",
       "      <th>FuelType_petrol</th>\n",
       "      <th>Repaired_no</th>\n",
       "      <th>Repaired_yes</th>\n",
       "    </tr>\n",
       "  </thead>\n",
       "  <tbody>\n",
       "    <tr>\n",
       "      <th>1</th>\n",
       "      <td>other</td>\n",
       "      <td>audi</td>\n",
       "      <td>18300</td>\n",
       "      <td>2011</td>\n",
       "      <td>190</td>\n",
       "      <td>125000</td>\n",
       "      <td>0</td>\n",
       "      <td>0</td>\n",
       "      <td>1</td>\n",
       "      <td>0</td>\n",
       "      <td>...</td>\n",
       "      <td>0</td>\n",
       "      <td>0</td>\n",
       "      <td>0</td>\n",
       "      <td>1</td>\n",
       "      <td>0</td>\n",
       "      <td>0</td>\n",
       "      <td>0</td>\n",
       "      <td>0</td>\n",
       "      <td>0</td>\n",
       "      <td>1</td>\n",
       "    </tr>\n",
       "    <tr>\n",
       "      <th>2</th>\n",
       "      <td>grand</td>\n",
       "      <td>jeep</td>\n",
       "      <td>9800</td>\n",
       "      <td>2004</td>\n",
       "      <td>163</td>\n",
       "      <td>125000</td>\n",
       "      <td>0</td>\n",
       "      <td>0</td>\n",
       "      <td>0</td>\n",
       "      <td>0</td>\n",
       "      <td>...</td>\n",
       "      <td>0</td>\n",
       "      <td>0</td>\n",
       "      <td>0</td>\n",
       "      <td>1</td>\n",
       "      <td>0</td>\n",
       "      <td>0</td>\n",
       "      <td>0</td>\n",
       "      <td>0</td>\n",
       "      <td>1</td>\n",
       "      <td>0</td>\n",
       "    </tr>\n",
       "    <tr>\n",
       "      <th>3</th>\n",
       "      <td>golf</td>\n",
       "      <td>volkswagen</td>\n",
       "      <td>1500</td>\n",
       "      <td>2001</td>\n",
       "      <td>75</td>\n",
       "      <td>150000</td>\n",
       "      <td>0</td>\n",
       "      <td>0</td>\n",
       "      <td>0</td>\n",
       "      <td>0</td>\n",
       "      <td>...</td>\n",
       "      <td>0</td>\n",
       "      <td>0</td>\n",
       "      <td>0</td>\n",
       "      <td>0</td>\n",
       "      <td>0</td>\n",
       "      <td>0</td>\n",
       "      <td>0</td>\n",
       "      <td>1</td>\n",
       "      <td>1</td>\n",
       "      <td>0</td>\n",
       "    </tr>\n",
       "    <tr>\n",
       "      <th>4</th>\n",
       "      <td>fabia</td>\n",
       "      <td>skoda</td>\n",
       "      <td>3600</td>\n",
       "      <td>2008</td>\n",
       "      <td>69</td>\n",
       "      <td>90000</td>\n",
       "      <td>0</td>\n",
       "      <td>0</td>\n",
       "      <td>0</td>\n",
       "      <td>0</td>\n",
       "      <td>...</td>\n",
       "      <td>0</td>\n",
       "      <td>0</td>\n",
       "      <td>0</td>\n",
       "      <td>1</td>\n",
       "      <td>0</td>\n",
       "      <td>0</td>\n",
       "      <td>0</td>\n",
       "      <td>0</td>\n",
       "      <td>1</td>\n",
       "      <td>0</td>\n",
       "    </tr>\n",
       "    <tr>\n",
       "      <th>5</th>\n",
       "      <td>3er</td>\n",
       "      <td>bmw</td>\n",
       "      <td>650</td>\n",
       "      <td>1995</td>\n",
       "      <td>102</td>\n",
       "      <td>150000</td>\n",
       "      <td>0</td>\n",
       "      <td>0</td>\n",
       "      <td>0</td>\n",
       "      <td>0</td>\n",
       "      <td>...</td>\n",
       "      <td>0</td>\n",
       "      <td>0</td>\n",
       "      <td>0</td>\n",
       "      <td>0</td>\n",
       "      <td>0</td>\n",
       "      <td>0</td>\n",
       "      <td>0</td>\n",
       "      <td>1</td>\n",
       "      <td>0</td>\n",
       "      <td>1</td>\n",
       "    </tr>\n",
       "    <tr>\n",
       "      <th>...</th>\n",
       "      <td>...</td>\n",
       "      <td>...</td>\n",
       "      <td>...</td>\n",
       "      <td>...</td>\n",
       "      <td>...</td>\n",
       "      <td>...</td>\n",
       "      <td>...</td>\n",
       "      <td>...</td>\n",
       "      <td>...</td>\n",
       "      <td>...</td>\n",
       "      <td>...</td>\n",
       "      <td>...</td>\n",
       "      <td>...</td>\n",
       "      <td>...</td>\n",
       "      <td>...</td>\n",
       "      <td>...</td>\n",
       "      <td>...</td>\n",
       "      <td>...</td>\n",
       "      <td>...</td>\n",
       "      <td>...</td>\n",
       "      <td>...</td>\n",
       "    </tr>\n",
       "    <tr>\n",
       "      <th>354361</th>\n",
       "      <td>159</td>\n",
       "      <td>alfa_romeo</td>\n",
       "      <td>5250</td>\n",
       "      <td>2016</td>\n",
       "      <td>150</td>\n",
       "      <td>150000</td>\n",
       "      <td>0</td>\n",
       "      <td>0</td>\n",
       "      <td>0</td>\n",
       "      <td>1</td>\n",
       "      <td>...</td>\n",
       "      <td>0</td>\n",
       "      <td>0</td>\n",
       "      <td>0</td>\n",
       "      <td>0</td>\n",
       "      <td>0</td>\n",
       "      <td>0</td>\n",
       "      <td>1</td>\n",
       "      <td>0</td>\n",
       "      <td>1</td>\n",
       "      <td>0</td>\n",
       "    </tr>\n",
       "    <tr>\n",
       "      <th>354362</th>\n",
       "      <td>leon</td>\n",
       "      <td>seat</td>\n",
       "      <td>3200</td>\n",
       "      <td>2004</td>\n",
       "      <td>225</td>\n",
       "      <td>150000</td>\n",
       "      <td>0</td>\n",
       "      <td>0</td>\n",
       "      <td>0</td>\n",
       "      <td>0</td>\n",
       "      <td>...</td>\n",
       "      <td>0</td>\n",
       "      <td>0</td>\n",
       "      <td>0</td>\n",
       "      <td>0</td>\n",
       "      <td>0</td>\n",
       "      <td>0</td>\n",
       "      <td>0</td>\n",
       "      <td>1</td>\n",
       "      <td>0</td>\n",
       "      <td>1</td>\n",
       "    </tr>\n",
       "    <tr>\n",
       "      <th>354366</th>\n",
       "      <td>fortwo</td>\n",
       "      <td>smart</td>\n",
       "      <td>1199</td>\n",
       "      <td>2000</td>\n",
       "      <td>101</td>\n",
       "      <td>125000</td>\n",
       "      <td>0</td>\n",
       "      <td>1</td>\n",
       "      <td>0</td>\n",
       "      <td>0</td>\n",
       "      <td>...</td>\n",
       "      <td>0</td>\n",
       "      <td>0</td>\n",
       "      <td>0</td>\n",
       "      <td>0</td>\n",
       "      <td>0</td>\n",
       "      <td>0</td>\n",
       "      <td>0</td>\n",
       "      <td>1</td>\n",
       "      <td>1</td>\n",
       "      <td>0</td>\n",
       "    </tr>\n",
       "    <tr>\n",
       "      <th>354367</th>\n",
       "      <td>transporter</td>\n",
       "      <td>volkswagen</td>\n",
       "      <td>9200</td>\n",
       "      <td>1996</td>\n",
       "      <td>102</td>\n",
       "      <td>150000</td>\n",
       "      <td>1</td>\n",
       "      <td>0</td>\n",
       "      <td>0</td>\n",
       "      <td>0</td>\n",
       "      <td>...</td>\n",
       "      <td>0</td>\n",
       "      <td>0</td>\n",
       "      <td>0</td>\n",
       "      <td>1</td>\n",
       "      <td>0</td>\n",
       "      <td>0</td>\n",
       "      <td>0</td>\n",
       "      <td>0</td>\n",
       "      <td>1</td>\n",
       "      <td>0</td>\n",
       "    </tr>\n",
       "    <tr>\n",
       "      <th>354368</th>\n",
       "      <td>golf</td>\n",
       "      <td>volkswagen</td>\n",
       "      <td>3400</td>\n",
       "      <td>2002</td>\n",
       "      <td>100</td>\n",
       "      <td>150000</td>\n",
       "      <td>0</td>\n",
       "      <td>0</td>\n",
       "      <td>0</td>\n",
       "      <td>0</td>\n",
       "      <td>...</td>\n",
       "      <td>0</td>\n",
       "      <td>0</td>\n",
       "      <td>0</td>\n",
       "      <td>1</td>\n",
       "      <td>0</td>\n",
       "      <td>0</td>\n",
       "      <td>0</td>\n",
       "      <td>0</td>\n",
       "      <td>1</td>\n",
       "      <td>0</td>\n",
       "    </tr>\n",
       "  </tbody>\n",
       "</table>\n",
       "<p>250093 rows × 26 columns</p>\n",
       "</div>"
      ],
      "text/plain": [
       "              Model       Brand  Price  RegistrationYear  Power  Kilometer  \\\n",
       "1             other        audi  18300              2011    190     125000   \n",
       "2             grand        jeep   9800              2004    163     125000   \n",
       "3              golf  volkswagen   1500              2001     75     150000   \n",
       "4             fabia       skoda   3600              2008     69      90000   \n",
       "5               3er         bmw    650              1995    102     150000   \n",
       "...             ...         ...    ...               ...    ...        ...   \n",
       "354361          159  alfa_romeo   5250              2016    150     150000   \n",
       "354362         leon        seat   3200              2004    225     150000   \n",
       "354366       fortwo       smart   1199              2000    101     125000   \n",
       "354367  transporter  volkswagen   9200              1996    102     150000   \n",
       "354368         golf  volkswagen   3400              2002    100     150000   \n",
       "\n",
       "        VehicleType_bus  VehicleType_convertible  VehicleType_coupe  \\\n",
       "1                     0                        0                  1   \n",
       "2                     0                        0                  0   \n",
       "3                     0                        0                  0   \n",
       "4                     0                        0                  0   \n",
       "5                     0                        0                  0   \n",
       "...                 ...                      ...                ...   \n",
       "354361                0                        0                  0   \n",
       "354362                0                        0                  0   \n",
       "354366                0                        1                  0   \n",
       "354367                1                        0                  0   \n",
       "354368                0                        0                  0   \n",
       "\n",
       "        VehicleType_other  ...  Gearbox_other  FuelType_cng  \\\n",
       "1                       0  ...              0             0   \n",
       "2                       0  ...              0             0   \n",
       "3                       0  ...              0             0   \n",
       "4                       0  ...              0             0   \n",
       "5                       0  ...              0             0   \n",
       "...                   ...  ...            ...           ...   \n",
       "354361                  1  ...              0             0   \n",
       "354362                  0  ...              0             0   \n",
       "354366                  0  ...              0             0   \n",
       "354367                  0  ...              0             0   \n",
       "354368                  0  ...              0             0   \n",
       "\n",
       "        FuelType_electric  FuelType_gasoline  FuelType_hybrid  FuelType_lpg  \\\n",
       "1                       0                  1                0             0   \n",
       "2                       0                  1                0             0   \n",
       "3                       0                  0                0             0   \n",
       "4                       0                  1                0             0   \n",
       "5                       0                  0                0             0   \n",
       "...                   ...                ...              ...           ...   \n",
       "354361                  0                  0                0             0   \n",
       "354362                  0                  0                0             0   \n",
       "354366                  0                  0                0             0   \n",
       "354367                  0                  1                0             0   \n",
       "354368                  0                  1                0             0   \n",
       "\n",
       "        FuelType_other  FuelType_petrol  Repaired_no  Repaired_yes  \n",
       "1                    0                0            0             1  \n",
       "2                    0                0            1             0  \n",
       "3                    0                1            1             0  \n",
       "4                    0                0            1             0  \n",
       "5                    0                1            0             1  \n",
       "...                ...              ...          ...           ...  \n",
       "354361               1                0            1             0  \n",
       "354362               0                1            0             1  \n",
       "354366               0                1            1             0  \n",
       "354367               0                0            1             0  \n",
       "354368               0                0            1             0  \n",
       "\n",
       "[250093 rows x 26 columns]"
      ]
     },
     "execution_count": 31,
     "metadata": {},
     "output_type": "execute_result"
    }
   ],
   "source": [
    "df_encoded"
   ]
  },
  {
   "cell_type": "code",
   "execution_count": 32,
   "metadata": {},
   "outputs": [],
   "source": [
    "# target = df_encoded.drop('Price', axis=1)\n",
    "# features = df_encoded['Price']"
   ]
  },
  {
   "cell_type": "code",
   "execution_count": 33,
   "metadata": {},
   "outputs": [],
   "source": [
    "df_train, df_valid, df_test = np.split(df_encoded.sample(frac=1, random_state=12345), [int(.6*len(df)), int(.8*len(df))])"
   ]
  },
  {
   "cell_type": "code",
   "execution_count": 34,
   "metadata": {},
   "outputs": [],
   "source": [
    "features_train = df_train.drop(['Price'], axis=1)\n",
    "target_train = df_train['Price']\n",
    "features_valid = df_valid.drop(['Price'], axis=1)\n",
    "target_valid = df_valid['Price']\n",
    "test_features = df_test.drop(['Price'], axis=1)\n",
    "test_target = df_test['Price']"
   ]
  },
  {
   "cell_type": "code",
   "execution_count": null,
   "metadata": {},
   "outputs": [],
   "source": [
    "print(\"Train shape:\", df_train.shape)\n",
    "print(\"Valid shape:\", df_valid.shape)\n",
    "print(\"Test shape:\", df_test.shape)"
   ]
  },
  {
   "cell_type": "markdown",
   "metadata": {},
   "source": [
    "Закодируем все данные!!!\n",
    "Для начала таргет энкод"
   ]
  },
  {
   "cell_type": "code",
   "execution_count": 36,
   "metadata": {},
   "outputs": [],
   "source": [
    "target_encoder = ce.TargetEncoder()\n",
    "encoded_features_train = target_encoder.fit_transform(features_train[['Brand', 'Model']], target_train)\n",
    "\n",
    "encoded_features_valid = target_encoder.transform(features_valid[['Brand', 'Model']])\n",
    "\n",
    "encoded_test_features = target_encoder.transform(test_features[['Brand', 'Model']])"
   ]
  },
  {
   "cell_type": "markdown",
   "metadata": {},
   "source": [
    "Далее OHE"
   ]
  },
  {
   "cell_type": "code",
   "execution_count": 37,
   "metadata": {},
   "outputs": [],
   "source": [
    "onehot_encoder = OneHotEncoder()\n",
    "encoded_features_train = pd.get_dummies(features_train.drop(['Brand', 'Model'], axis=1))\n",
    "encoded_features_valid = pd.get_dummies(features_valid.drop(['Brand', 'Model'], axis=1))\n",
    "encoded_test_features = pd.get_dummies(test_features.drop(['Brand', 'Model'], axis=1))"
   ]
  },
  {
   "cell_type": "markdown",
   "metadata": {},
   "source": [
    "Затем масштабируем данные"
   ]
  },
  {
   "cell_type": "code",
   "execution_count": 38,
   "metadata": {},
   "outputs": [],
   "source": [
    "scaler = StandardScaler()\n",
    "scaled_features_train = scaler.fit_transform(encoded_features_train)\n",
    "scaled_features_valid = scaler.transform(encoded_features_valid)\n",
    "scaled_test_features = scaler.transform(encoded_test_features)"
   ]
  },
  {
   "cell_type": "markdown",
   "metadata": {},
   "source": [
    "Напишем функцию для расчета RMSE"
   ]
  },
  {
   "cell_type": "code",
   "execution_count": 39,
   "metadata": {},
   "outputs": [],
   "source": [
    "def RMSE(target, predict):\n",
    "    return (mean_squared_error(target, predict)) ** 0.5\n",
    "\n",
    "RMSE_score = make_scorer(RMSE, greater_is_better=False)"
   ]
  },
  {
   "cell_type": "markdown",
   "metadata": {},
   "source": [
    "Обучим 4 модели\n",
    "\n",
    "1.LinearRegression"
   ]
  },
  {
   "cell_type": "code",
   "execution_count": 40,
   "metadata": {},
   "outputs": [
    {
     "name": "stdout",
     "output_type": "stream",
     "text": [
      "Linear Regression:\n",
      "RMSE (Train): 4004.3296882945883\n",
      "_____________________\n",
      "CPU times: user 7.3 ms, sys: 19.2 ms, total: 26.5 ms\n",
      "Wall time: 14.3 ms\n"
     ]
    }
   ],
   "source": [
    "%%time\n",
    "linear_reg = LinearRegression()\n",
    "linear_reg.fit(scaled_features_train, target_train)\n",
    "\n",
    "linear_reg_rmse_train = RMSE(target_train, linear_reg.predict(scaled_features_train))\n",
    "\n",
    "print(\"Linear Regression:\")\n",
    "print(\"RMSE (Train):\", linear_reg_rmse_train)\n",
    "print('_____________________')"
   ]
  },
  {
   "cell_type": "markdown",
   "metadata": {},
   "source": [
    "2.RandomForestRegressor"
   ]
  },
  {
   "cell_type": "code",
   "execution_count": 41,
   "metadata": {},
   "outputs": [
    {
     "name": "stdout",
     "output_type": "stream",
     "text": [
      "Random Forest:\n",
      "Best Parameters: {'max_depth': 15, 'min_samples_split': 2, 'n_estimators': 15}\n",
      "RMSE (Train): 3970.0195218046115\n",
      "_____________________\n",
      "CPU times: user 37.3 s, sys: 80.4 ms, total: 37.4 s\n",
      "Wall time: 38.3 s\n"
     ]
    }
   ],
   "source": [
    "%%time\n",
    "rf = RandomForestRegressor(random_state=12345)\n",
    "\n",
    "rf_param_grid = {\n",
    "    'n_estimators': [5, 15, 5], \n",
    "    'max_depth': [5, 10, 15],  \n",
    "    'min_samples_split': [2, 5, 10],  \n",
    "}\n",
    "\n",
    "rf_grid = GridSearchCV(rf, rf_param_grid, scoring=RMSE_score, cv=5)\n",
    "rf_grid.fit(scaled_features_train, target_train)\n",
    "\n",
    "rf_best_params = rf_grid.best_params_\n",
    "rf_best_model = rf_grid.best_estimator_\n",
    "rf_rmse_train = RMSE(target_train, rf_best_model.predict(scaled_features_train))\n",
    "\n",
    "print(\"Random Forest:\")\n",
    "print(\"Best Parameters:\", rf_best_params)\n",
    "print(\"RMSE (Train):\", rf_rmse_train)\n",
    "print('_____________________')"
   ]
  },
  {
   "cell_type": "markdown",
   "metadata": {},
   "source": [
    "3.LGBMRegressor"
   ]
  },
  {
   "cell_type": "code",
   "execution_count": null,
   "metadata": {},
   "outputs": [],
   "source": [
    "%%time\n",
    "lgbm = lgb.LGBMRegressor(random_state=12345)\n",
    "\n",
    "lgbm_param_grid = {\n",
    "    'learning_rate': [0.1, 0.01, 0.001], \n",
    "    'n_estimators': [5, 15, 5],  \n",
    "    'max_depth': [5, 10, 15], \n",
    "}\n",
    "\n",
    "lgbm_grid = GridSearchCV(lgbm, lgbm_param_grid, scoring=RMSE_score, cv=5)\n",
    "lgbm_grid.fit(scaled_features_train, target_train)\n",
    "\n",
    "lgbm_best_params = lgbm_grid.best_params_\n",
    "lgbm_best_model = lgbm_grid.best_estimator_\n",
    "lgbm_rmse_train = RMSE(target_train, lgbm_best_model.predict(scaled_features_train))\n",
    "\n",
    "print(\"LightGBM:\")\n",
    "print(\"Best Parameters:\", lgbm_best_params)\n",
    "print(\"RMSE (Train):\", lgbm_rmse_train)\n",
    "print('_____________________')"
   ]
  },
  {
   "cell_type": "markdown",
   "metadata": {},
   "source": [
    "4.CatBoostRegressor"
   ]
  },
  {
   "cell_type": "code",
   "execution_count": null,
   "metadata": {},
   "outputs": [],
   "source": [
    "%%time\n",
    "catboost = CatBoostRegressor(random_state=12345, verbose=False)\n",
    "\n",
    "catboost_param_grid = {\n",
    "    'learning_rate': [0.1, 0.01, 0.001], \n",
    "    'n_estimators': [5, 15, 5],  \n",
    "    'max_depth': [5, 10, 15],  \n",
    "}\n",
    "\n",
    "catboost_grid = GridSearchCV(catboost, catboost_param_grid, scoring=RMSE_score, cv=5)\n",
    "catboost_grid.fit(scaled_features_train, target_train)\n",
    "\n",
    "catboost_best_params = catboost_grid.best_params_\n",
    "catboost_best_model = catboost_grid.best_estimator_\n",
    "catboost_rmse_train = RMSE(target_train, catboost_best_model.predict(scaled_features_train))\n",
    "\n",
    "print(\"CatBoost:\")\n",
    "print(\"Best Parameters:\", catboost_best_params)\n",
    "print(\"RMSE (Train):\", catboost_rmse_train)\n",
    "print('_____________________')"
   ]
  },
  {
   "cell_type": "markdown",
   "metadata": {},
   "source": [
    "## Анализ моделей"
   ]
  },
  {
   "cell_type": "markdown",
   "metadata": {},
   "source": [
    "Проверим результаты моделей на тестовой выборке"
   ]
  },
  {
   "cell_type": "markdown",
   "metadata": {},
   "source": [
    "1.Линейная регрессия"
   ]
  },
  {
   "cell_type": "code",
   "execution_count": null,
   "metadata": {
    "scrolled": true
   },
   "outputs": [],
   "source": [
    "%%time\n",
    "linear_reg_test_rmse = RMSE(test_target, linear_reg.predict(scaled_test_features))\n",
    "print(\"Linear Regression (Test RMSE):\", linear_reg_test_rmse)\n",
    "print('_____________________')"
   ]
  },
  {
   "cell_type": "markdown",
   "metadata": {},
   "source": [
    "2.Случайный лес"
   ]
  },
  {
   "cell_type": "code",
   "execution_count": null,
   "metadata": {},
   "outputs": [],
   "source": [
    "%%time\n",
    "rf_test_rmse = RMSE(test_target, rf_best_model.predict(scaled_test_features))\n",
    "print(\"Random Forest (Test RMSE):\", rf_test_rmse)\n",
    "print('_____________________')"
   ]
  },
  {
   "cell_type": "markdown",
   "metadata": {},
   "source": [
    "3.LGBMRegressor"
   ]
  },
  {
   "cell_type": "code",
   "execution_count": null,
   "metadata": {},
   "outputs": [],
   "source": [
    "%%time\n",
    "lgbm_test_rmse = RMSE(test_target, lgbm_best_model.predict(scaled_test_features))\n",
    "print(\"LightGBM (Test RMSE):\", lgbm_test_rmse)\n",
    "print('_____________________')"
   ]
  },
  {
   "cell_type": "markdown",
   "metadata": {},
   "source": [
    "4.CatBoostRegressor"
   ]
  },
  {
   "cell_type": "code",
   "execution_count": null,
   "metadata": {},
   "outputs": [],
   "source": [
    "%%time\n",
    "catboost_test_rmse = RMSE(test_target, catboost_best_model.predict(scaled_test_features))\n",
    "print(\"CatBoost (Test RMSE):\", catboost_test_rmse)\n",
    "print('_____________________')"
   ]
  },
  {
   "cell_type": "markdown",
   "metadata": {},
   "source": [
    "Соберем все в табличку для наглядности"
   ]
  },
  {
   "cell_type": "code",
   "execution_count": null,
   "metadata": {
    "scrolled": true
   },
   "outputs": [],
   "source": [
    "columns = ['Модель', 'Время работы модели на тестовой выборке, ms.', 'RMSE',]\n",
    "regression_model = ['Линейная регрессия', 2.99, linear_reg_test_rmse]\n",
    "forest_model = ['Случайный лес', 107, rf_test_rmse]\n",
    "lg_model = ['LGBMRegressor', 15, lgbm_test_rmse]\n",
    "cb_model = ['CatBoostRegressor', 9.99, catboost_test_rmse]\n",
    "\n",
    "table = pd.DataFrame([regression_model, forest_model, lg_model, cb_model], columns = columns)\n",
    "\n",
    "table"
   ]
  },
  {
   "cell_type": "markdown",
   "metadata": {},
   "source": [
    "Наилучший показатель RMSE показала модель `Случайный лес` = 1923.74 и временем 107ms. Все модели прошли по порогу RMSE , кроме линейной регрессии. Лучшее время из прошедших порог показала модель CatBoostRegressor -- 9,99ms\n",
    "ДУмаю лучшая моделью является модель случайного леса и рекомедую ее к работе"
   ]
  },
  {
   "cell_type": "markdown",
   "metadata": {},
   "source": [
    "Добавим функцию для расчета RMSE"
   ]
  },
  {
   "cell_type": "markdown",
   "metadata": {},
   "source": [
    "Линейная регрессия"
   ]
  },
  {
   "cell_type": "markdown",
   "metadata": {},
   "source": [
    "ОБучаем модель и определяем rmse с помощью кросс валидации"
   ]
  },
  {
   "cell_type": "code",
   "execution_count": null,
   "metadata": {},
   "outputs": [],
   "source": [
    "%%time\n",
    "\n",
    "linear_regression_model = LinearRegression()\n",
    "linear_regression_model.fit(scaled_features_train, target_train)\n",
    "\n",
    "predictions_valid = linear_regression_model.predict(scaled_features_valid)"
   ]
  },
  {
   "cell_type": "markdown",
   "metadata": {},
   "source": [
    "Далее случайный лес"
   ]
  },
  {
   "cell_type": "code",
   "execution_count": null,
   "metadata": {},
   "outputs": [],
   "source": [
    "%%time\n",
    "forest = RandomForestRegressor()\n",
    "forest_parametrs = { 'n_estimators': range(5, 15, 5),\n",
    "                     'max_depth': range(1, 6, 2),\n",
    "                     'min_samples_leaf': range(1,4),\n",
    "                     'min_samples_split': range(2,6,2) }\n",
    "\n",
    "forest_grid = GridSearchCV(forest, forest_parametrs, scoring=RMSE_score, cv=3)\n",
    "forest_grid.fit(features_test, target_test)"
   ]
  },
  {
   "cell_type": "markdown",
   "metadata": {},
   "source": [
    "Найдем лучшие параметры"
   ]
  },
  {
   "cell_type": "code",
   "execution_count": null,
   "metadata": {
    "scrolled": true
   },
   "outputs": [],
   "source": [
    "%%time\n",
    "\n",
    "forest_params = forest_grid.best_params_\n",
    "forest_score = forest_grid.score(features_test, target_test) * (-1)\n",
    "print(forest_params)\n",
    "print(forest_score)"
   ]
  },
  {
   "cell_type": "markdown",
   "metadata": {},
   "source": [
    "Далее LGBM регрессия"
   ]
  },
  {
   "cell_type": "code",
   "execution_count": null,
   "metadata": {},
   "outputs": [],
   "source": [
    "%%time\n",
    "lg = lgb.LGBMRegressor()\n",
    "lg_parametrs = {\"max_depth\": [25, 50, 75],\n",
    "               \"learning_rate\" : [0.01, 0.1],\n",
    "               \"num_leaves\": [500, 1200],\n",
    "               \"n_estimators\": range (5, 15, 5)\n",
    "             }\n",
    "lg_grid = GridSearchCV(lg, lg_parametrs, scoring=RMSE_score, cv=3)\n",
    "lg_grid.fit(features_test, target_test)"
   ]
  },
  {
   "cell_type": "code",
   "execution_count": null,
   "metadata": {
    "scrolled": true
   },
   "outputs": [],
   "source": [
    "%%time\n",
    "\n",
    "lg_params = lg_grid.best_params_\n",
    "lg_score = lg_grid.score(features_test, target_test) * (-1)\n",
    "print(lg_params)\n",
    "print(lg_score)"
   ]
  },
  {
   "cell_type": "markdown",
   "metadata": {},
   "source": [
    "И наконец кот"
   ]
  },
  {
   "cell_type": "code",
   "execution_count": null,
   "metadata": {
    "scrolled": true
   },
   "outputs": [],
   "source": [
    "%%time\n",
    "cb = cb.CatBoostRegressor()\n",
    "cb_parametrs = {\"iterations\": [100],\n",
    "                \"depth\": range(8, 16, 2),\n",
    "                \"learning_rate\" : [0.15]\n",
    "             }\n",
    "cb_grid = GridSearchCV(cb, cb_parametrs, scoring=RMSE_score, cv=3)\n",
    "cb_grid.fit(features_test, target_test, verbose=10)"
   ]
  },
  {
   "cell_type": "code",
   "execution_count": null,
   "metadata": {},
   "outputs": [],
   "source": [
    "%%time\n",
    "\n",
    "cb_params = cb_grid.best_params_\n",
    "cb_score = cb_grid.score(features_test, target_test) * (-1)\n",
    "print(cb_params)\n",
    "print(cb_score)"
   ]
  },
  {
   "cell_type": "markdown",
   "metadata": {},
   "source": [
    "CatBoostRegressor имеет лучший показатель метрики RMSE -- 1546.23"
   ]
  },
  {
   "cell_type": "markdown",
   "metadata": {},
   "source": [
    "## Анализ моделей"
   ]
  },
  {
   "cell_type": "markdown",
   "metadata": {},
   "source": [
    "Будем использовать лучшие параметры из прошлого раздела"
   ]
  },
  {
   "cell_type": "markdown",
   "metadata": {},
   "source": [
    "Линенйная регрессия"
   ]
  },
  {
   "cell_type": "code",
   "execution_count": null,
   "metadata": {
    "scrolled": true
   },
   "outputs": [],
   "source": [
    "%%time\n",
    "regression_model = LinearRegression()\n",
    "regression_model.fit(features_train, target_train)\n",
    "regression_model_predictions = regression_model.predict(features_test)\n",
    "\n",
    "regression_RMSE = round(RMSE(target_test, regression_model_predictions), 3)\n",
    "print('RMSE LR:', regression_RMSE)"
   ]
  },
  {
   "cell_type": "markdown",
   "metadata": {},
   "source": [
    "Случайный лес"
   ]
  },
  {
   "cell_type": "code",
   "execution_count": null,
   "metadata": {
    "scrolled": true
   },
   "outputs": [],
   "source": [
    "%%time\n",
    "forest_model = RandomForestRegressor(random_state=42,\n",
    "                                     max_depth=forest_params['max_depth'],\n",
    "                                     min_samples_leaf = forest_params['min_samples_leaf'],\n",
    "                                     min_samples_split = forest_params['min_samples_split'],\n",
    "                                     n_estimators = forest_params['n_estimators'])\n",
    "\n",
    "forest_model.fit(features_train, target_train)\n",
    "forest_model_predictions = forest_model.predict(features_test)\n",
    "\n",
    "forest_RMSE = round(RMSE(target_test, forest_model_predictions), 3)\n",
    "print('RMSE RF:', forest_RMSE)"
   ]
  },
  {
   "cell_type": "markdown",
   "metadata": {},
   "source": [
    "LGBM"
   ]
  },
  {
   "cell_type": "code",
   "execution_count": null,
   "metadata": {},
   "outputs": [],
   "source": [
    "%%time\n",
    "lg_model = lgb.LGBMRegressor(max_depth= lg_params['max_depth'],\n",
    "                             learning_rate = lg_params['learning_rate'],\n",
    "                             num_leaves = lg_params['num_leaves'],\n",
    "                             n_estimators = lg_params['n_estimators'])\n",
    "\n",
    "lg_model.fit(features_train, target_train)\n",
    "lg_model_predictions = lg_model.predict(features_test)\n",
    "\n",
    "lg_RMSE = round(RMSE(target_test, lg_model_predictions), 3)\n",
    "print('RMSE LGBMRegressor:', lg_RMSE)"
   ]
  },
  {
   "cell_type": "markdown",
   "metadata": {},
   "source": [
    "кот"
   ]
  },
  {
   "cell_type": "code",
   "execution_count": null,
   "metadata": {},
   "outputs": [],
   "source": [
    "%%time\n",
    "cb_model = CatBoostRegressor(iterations=cb_params['iterations'],\n",
    "                                learning_rate=cb_params['learning_rate'],\n",
    "                                depth=cb_params['depth'])\n",
    "\n",
    "cb_model.fit(features_train, target_train, verbose=10)\n",
    "cb_model_predictions = cb_model.predict(features_test)\n",
    "\n",
    "cb_RMSE = round(RMSE(target_test, cb_model_predictions), 3)\n",
    "print('RMSE модели CatBoostRegressor:', cb_RMSE)"
   ]
  },
  {
   "cell_type": "code",
   "execution_count": null,
   "metadata": {},
   "outputs": [],
   "source": [
    "columns = ['Модель', 'Время работы модели, сек.', 'RMSE',]\n",
    "regression_model = ['Линейная регрессия', 0.06, regression_RMSE]\n",
    "forest_model = ['Случайный лес', 1.4, forest_RMSE]\n",
    "lg_model = ['LGBMRegressor', 0.7, lg_RMSE]\n",
    "cb_model = ['CatBoostRegressor', 18.1, cb_RMSE]\n",
    "\n",
    "table = pd.DataFrame([forest_model, regression_model, lg_model, cb_model], columns = columns)\n",
    "\n",
    "table"
   ]
  },
  {
   "cell_type": "markdown",
   "metadata": {},
   "source": [
    " Наилучший показатель RMSE показала модель `CatBoostRegressor` = 1698,892 и временем 18.1 секунд. Модель LGBM показала тоже неплохой результат RMSE=2344 и 0,7сек. Я думаю что модель CatBoost более подходящая для работы, рекомендую ее!"
   ]
  }
 ],
 "metadata": {
  "ExecuteTimeLog": [
   {
    "duration": 43,
    "start_time": "2023-05-23T05:43:55.305Z"
   },
   {
    "duration": 1698,
    "start_time": "2023-05-23T05:44:00.960Z"
   },
   {
    "duration": 2802,
    "start_time": "2023-05-23T05:44:02.661Z"
   },
   {
    "duration": 120,
    "start_time": "2023-05-23T05:44:10.435Z"
   },
   {
    "duration": 548,
    "start_time": "2023-05-23T05:47:13.674Z"
   },
   {
    "duration": 169,
    "start_time": "2023-05-23T05:47:23.292Z"
   },
   {
    "duration": 4,
    "start_time": "2023-05-23T05:47:28.695Z"
   },
   {
    "duration": 740,
    "start_time": "2023-05-23T05:47:28.903Z"
   },
   {
    "duration": 145,
    "start_time": "2023-05-23T05:47:29.645Z"
   },
   {
    "duration": 875,
    "start_time": "2023-05-23T05:47:40.302Z"
   },
   {
    "duration": 837,
    "start_time": "2023-05-23T05:48:04.928Z"
   },
   {
    "duration": 882,
    "start_time": "2023-05-23T05:49:01.361Z"
   },
   {
    "duration": 19,
    "start_time": "2023-05-23T05:49:11.743Z"
   },
   {
    "duration": 19,
    "start_time": "2023-05-23T05:52:18.726Z"
   },
   {
    "duration": 70,
    "start_time": "2023-05-29T15:53:04.040Z"
   },
   {
    "duration": 2064,
    "start_time": "2023-05-29T15:53:06.399Z"
   },
   {
    "duration": 1878,
    "start_time": "2023-05-29T15:53:08.465Z"
   },
   {
    "duration": 30,
    "start_time": "2023-05-29T15:53:10.364Z"
   },
   {
    "duration": 89,
    "start_time": "2023-05-29T15:53:10.396Z"
   },
   {
    "duration": 152,
    "start_time": "2023-05-29T15:53:27.693Z"
   },
   {
    "duration": 52,
    "start_time": "2023-05-29T15:53:37.651Z"
   },
   {
    "duration": 51,
    "start_time": "2023-05-29T15:53:40.631Z"
   },
   {
    "duration": 53,
    "start_time": "2023-05-29T15:53:41.045Z"
   },
   {
    "duration": 9,
    "start_time": "2023-05-29T15:53:49.258Z"
   },
   {
    "duration": 39,
    "start_time": "2023-05-29T15:53:54.244Z"
   },
   {
    "duration": 119,
    "start_time": "2023-05-29T15:54:04.470Z"
   },
   {
    "duration": 23,
    "start_time": "2023-05-29T15:54:10.186Z"
   },
   {
    "duration": 43,
    "start_time": "2023-05-29T15:56:20.664Z"
   },
   {
    "duration": 47,
    "start_time": "2023-05-29T20:07:26.414Z"
   },
   {
    "duration": 1767,
    "start_time": "2023-05-29T20:07:29.041Z"
   },
   {
    "duration": 4139,
    "start_time": "2023-05-29T20:07:30.813Z"
   },
   {
    "duration": 33,
    "start_time": "2023-05-29T20:07:34.954Z"
   },
   {
    "duration": 44,
    "start_time": "2023-05-29T20:07:34.991Z"
   },
   {
    "duration": 24,
    "start_time": "2023-05-29T20:07:35.037Z"
   },
   {
    "duration": 22,
    "start_time": "2023-05-29T20:07:45.721Z"
   },
   {
    "duration": 182,
    "start_time": "2023-05-29T20:07:57.511Z"
   },
   {
    "duration": 44,
    "start_time": "2023-05-29T20:08:11.510Z"
   },
   {
    "duration": 98,
    "start_time": "2023-05-29T20:08:18.910Z"
   },
   {
    "duration": 62,
    "start_time": "2023-05-29T20:08:23.558Z"
   },
   {
    "duration": 13,
    "start_time": "2023-05-29T20:08:23.742Z"
   },
   {
    "duration": 219,
    "start_time": "2023-05-29T20:08:23.906Z"
   },
   {
    "duration": 83,
    "start_time": "2023-05-29T20:08:24.128Z"
   },
   {
    "duration": 1419,
    "start_time": "2023-05-29T20:08:31.731Z"
   },
   {
    "duration": 1108,
    "start_time": "2023-05-29T20:08:33.152Z"
   },
   {
    "duration": 31,
    "start_time": "2023-05-29T20:08:34.261Z"
   },
   {
    "duration": 48,
    "start_time": "2023-05-29T20:08:34.295Z"
   },
   {
    "duration": 149,
    "start_time": "2023-05-29T20:08:34.346Z"
   },
   {
    "duration": 0,
    "start_time": "2023-05-29T20:08:34.502Z"
   },
   {
    "duration": 0,
    "start_time": "2023-05-29T20:08:34.503Z"
   },
   {
    "duration": 22,
    "start_time": "2023-05-29T20:08:41.506Z"
   },
   {
    "duration": 140,
    "start_time": "2023-05-29T20:08:42.220Z"
   },
   {
    "duration": 37,
    "start_time": "2023-05-29T20:08:42.444Z"
   },
   {
    "duration": 1034,
    "start_time": "2023-05-29T21:36:51.211Z"
   },
   {
    "duration": 42,
    "start_time": "2023-05-29T21:37:02.575Z"
   },
   {
    "duration": 36,
    "start_time": "2023-05-29T21:39:12.346Z"
   },
   {
    "duration": 30,
    "start_time": "2023-05-29T21:39:55.604Z"
   },
   {
    "duration": 176,
    "start_time": "2023-05-29T21:41:33.042Z"
   },
   {
    "duration": 68,
    "start_time": "2023-05-29T21:41:51.272Z"
   },
   {
    "duration": 144,
    "start_time": "2023-05-29T21:41:52.228Z"
   },
   {
    "duration": 56,
    "start_time": "2023-05-29T21:43:26.091Z"
   },
   {
    "duration": 176,
    "start_time": "2023-05-29T21:43:26.288Z"
   },
   {
    "duration": 27,
    "start_time": "2023-05-29T21:43:36.163Z"
   },
   {
    "duration": 37,
    "start_time": "2023-05-29T21:43:38.091Z"
   },
   {
    "duration": 22,
    "start_time": "2023-05-29T21:43:38.213Z"
   },
   {
    "duration": 152,
    "start_time": "2023-05-29T21:43:38.510Z"
   },
   {
    "duration": 27,
    "start_time": "2023-05-29T21:51:20.799Z"
   },
   {
    "duration": 20,
    "start_time": "2023-05-29T21:52:19.601Z"
   },
   {
    "duration": 188,
    "start_time": "2023-05-29T21:52:27.940Z"
   },
   {
    "duration": 1495,
    "start_time": "2023-05-29T21:52:39.391Z"
   },
   {
    "duration": 1095,
    "start_time": "2023-05-29T21:52:40.894Z"
   },
   {
    "duration": 24,
    "start_time": "2023-05-29T21:52:42.000Z"
   },
   {
    "duration": 39,
    "start_time": "2023-05-29T21:52:42.025Z"
   },
   {
    "duration": 43,
    "start_time": "2023-05-29T21:52:42.066Z"
   },
   {
    "duration": 150,
    "start_time": "2023-05-29T21:52:42.110Z"
   },
   {
    "duration": 47,
    "start_time": "2023-05-29T21:52:42.262Z"
   },
   {
    "duration": 24,
    "start_time": "2023-05-29T21:52:42.311Z"
   },
   {
    "duration": 23,
    "start_time": "2023-05-29T21:52:42.337Z"
   },
   {
    "duration": 57,
    "start_time": "2023-05-29T21:52:42.362Z"
   },
   {
    "duration": 165,
    "start_time": "2023-05-29T21:52:42.421Z"
   },
   {
    "duration": 30,
    "start_time": "2023-05-29T21:52:42.590Z"
   },
   {
    "duration": 24,
    "start_time": "2023-05-29T21:52:42.622Z"
   },
   {
    "duration": 162,
    "start_time": "2023-05-29T21:52:42.649Z"
   },
   {
    "duration": 20,
    "start_time": "2023-05-29T21:53:02.031Z"
   },
   {
    "duration": 26,
    "start_time": "2023-05-29T21:53:58.803Z"
   },
   {
    "duration": 196,
    "start_time": "2023-05-29T21:54:04.101Z"
   },
   {
    "duration": 149,
    "start_time": "2023-05-29T21:59:08.996Z"
   },
   {
    "duration": 1442,
    "start_time": "2023-05-29T21:59:22.505Z"
   },
   {
    "duration": 1164,
    "start_time": "2023-05-29T21:59:23.949Z"
   },
   {
    "duration": 19,
    "start_time": "2023-05-29T21:59:25.115Z"
   },
   {
    "duration": 77,
    "start_time": "2023-05-29T21:59:25.136Z"
   },
   {
    "duration": 22,
    "start_time": "2023-05-29T21:59:25.215Z"
   },
   {
    "duration": 23,
    "start_time": "2023-05-29T21:59:25.238Z"
   },
   {
    "duration": 37,
    "start_time": "2023-05-29T21:59:25.276Z"
   },
   {
    "duration": 20,
    "start_time": "2023-05-29T21:59:25.315Z"
   },
   {
    "duration": 61,
    "start_time": "2023-05-29T21:59:25.336Z"
   },
   {
    "duration": 27,
    "start_time": "2023-05-29T21:59:25.404Z"
   },
   {
    "duration": 21,
    "start_time": "2023-05-29T21:59:25.433Z"
   },
   {
    "duration": 34,
    "start_time": "2023-05-29T21:59:25.456Z"
   },
   {
    "duration": 25,
    "start_time": "2023-05-29T21:59:25.500Z"
   },
   {
    "duration": 175,
    "start_time": "2023-05-29T21:59:25.528Z"
   },
   {
    "duration": 0,
    "start_time": "2023-05-29T21:59:25.706Z"
   },
   {
    "duration": 43,
    "start_time": "2023-05-29T21:59:46.181Z"
   },
   {
    "duration": 105,
    "start_time": "2023-05-29T21:59:48.259Z"
   },
   {
    "duration": 57,
    "start_time": "2023-05-29T22:00:12.068Z"
   },
   {
    "duration": 7,
    "start_time": "2023-05-29T22:00:55.333Z"
   },
   {
    "duration": 52,
    "start_time": "2023-05-29T22:03:16.492Z"
   },
   {
    "duration": 51,
    "start_time": "2023-05-29T22:03:24.916Z"
   },
   {
    "duration": 68,
    "start_time": "2023-05-29T22:03:32.852Z"
   },
   {
    "duration": 7,
    "start_time": "2023-05-29T22:03:40.520Z"
   },
   {
    "duration": 7,
    "start_time": "2023-05-29T22:03:44.911Z"
   },
   {
    "duration": 5,
    "start_time": "2023-05-29T22:03:50.940Z"
   },
   {
    "duration": 8,
    "start_time": "2023-05-29T22:04:34.154Z"
   },
   {
    "duration": 6,
    "start_time": "2023-05-29T22:04:34.964Z"
   },
   {
    "duration": 7,
    "start_time": "2023-05-29T22:04:37.237Z"
   },
   {
    "duration": 9,
    "start_time": "2023-05-29T22:04:37.524Z"
   },
   {
    "duration": 10,
    "start_time": "2023-05-29T22:05:12.552Z"
   },
   {
    "duration": 14,
    "start_time": "2023-05-29T22:05:16.017Z"
   },
   {
    "duration": 24,
    "start_time": "2023-05-29T22:05:54.774Z"
   },
   {
    "duration": 15,
    "start_time": "2023-05-29T22:06:29.273Z"
   },
   {
    "duration": 6,
    "start_time": "2023-05-29T22:06:30.502Z"
   },
   {
    "duration": 3,
    "start_time": "2023-05-29T22:06:43.068Z"
   },
   {
    "duration": 2,
    "start_time": "2023-05-29T22:06:43.240Z"
   },
   {
    "duration": 6,
    "start_time": "2023-05-29T22:06:46.758Z"
   },
   {
    "duration": 2,
    "start_time": "2023-05-29T22:09:14.411Z"
   },
   {
    "duration": 38,
    "start_time": "2023-05-29T22:10:45.450Z"
   },
   {
    "duration": 12,
    "start_time": "2023-05-29T22:17:05.095Z"
   },
   {
    "duration": 14,
    "start_time": "2023-05-29T22:18:43.719Z"
   },
   {
    "duration": 9,
    "start_time": "2023-05-29T22:19:22.242Z"
   },
   {
    "duration": 14,
    "start_time": "2023-05-29T22:19:57.403Z"
   },
   {
    "duration": 23,
    "start_time": "2023-05-29T22:20:03.494Z"
   },
   {
    "duration": 14,
    "start_time": "2023-05-29T22:20:07.366Z"
   },
   {
    "duration": 6,
    "start_time": "2023-05-29T22:20:18.214Z"
   },
   {
    "duration": 16,
    "start_time": "2023-05-29T22:20:27.706Z"
   },
   {
    "duration": 13,
    "start_time": "2023-05-29T22:23:44.059Z"
   },
   {
    "duration": 15,
    "start_time": "2023-05-29T22:24:07.613Z"
   },
   {
    "duration": 20,
    "start_time": "2023-05-29T22:24:10.895Z"
   },
   {
    "duration": 10,
    "start_time": "2023-05-29T22:26:39.630Z"
   },
   {
    "duration": 13,
    "start_time": "2023-05-29T22:26:49.716Z"
   },
   {
    "duration": 30,
    "start_time": "2023-05-29T22:27:03.610Z"
   },
   {
    "duration": 23,
    "start_time": "2023-05-29T22:34:02.939Z"
   },
   {
    "duration": 14,
    "start_time": "2023-05-29T22:34:44.868Z"
   },
   {
    "duration": 26,
    "start_time": "2023-05-29T22:35:43.629Z"
   },
   {
    "duration": 28,
    "start_time": "2023-05-29T22:36:41.696Z"
   },
   {
    "duration": 8,
    "start_time": "2023-05-29T22:36:44.306Z"
   },
   {
    "duration": 32,
    "start_time": "2023-05-29T22:36:44.959Z"
   },
   {
    "duration": 27,
    "start_time": "2023-05-29T22:37:15.056Z"
   },
   {
    "duration": 22,
    "start_time": "2023-05-29T22:37:33.043Z"
   },
   {
    "duration": 22,
    "start_time": "2023-05-29T22:38:00.352Z"
   },
   {
    "duration": 24,
    "start_time": "2023-05-29T22:38:13.604Z"
   },
   {
    "duration": 34,
    "start_time": "2023-05-29T22:39:45.261Z"
   },
   {
    "duration": 30,
    "start_time": "2023-05-29T22:39:47.226Z"
   },
   {
    "duration": 22,
    "start_time": "2023-05-29T22:40:06.722Z"
   },
   {
    "duration": 19,
    "start_time": "2023-05-29T22:40:12.820Z"
   },
   {
    "duration": 14,
    "start_time": "2023-05-29T22:40:37.113Z"
   },
   {
    "duration": 24,
    "start_time": "2023-05-29T22:40:41.133Z"
   },
   {
    "duration": 63,
    "start_time": "2023-05-29T22:43:33.427Z"
   },
   {
    "duration": 52,
    "start_time": "2023-05-29T22:43:55.283Z"
   },
   {
    "duration": 105,
    "start_time": "2023-05-29T22:44:50.348Z"
   },
   {
    "duration": 9,
    "start_time": "2023-05-29T22:45:01.227Z"
   },
   {
    "duration": 8,
    "start_time": "2023-05-29T22:45:08.702Z"
   },
   {
    "duration": 8,
    "start_time": "2023-05-29T22:46:25.321Z"
   },
   {
    "duration": 113,
    "start_time": "2023-05-29T22:46:30.304Z"
   },
   {
    "duration": 38,
    "start_time": "2023-05-29T22:46:30.650Z"
   },
   {
    "duration": 7,
    "start_time": "2023-05-29T22:46:30.765Z"
   },
   {
    "duration": 1423,
    "start_time": "2023-05-29T22:46:50.332Z"
   },
   {
    "duration": 1104,
    "start_time": "2023-05-29T22:46:51.757Z"
   },
   {
    "duration": 25,
    "start_time": "2023-05-29T22:46:52.863Z"
   },
   {
    "duration": 45,
    "start_time": "2023-05-29T22:46:52.890Z"
   },
   {
    "duration": 48,
    "start_time": "2023-05-29T22:46:52.939Z"
   },
   {
    "duration": 24,
    "start_time": "2023-05-29T22:46:52.999Z"
   },
   {
    "duration": 23,
    "start_time": "2023-05-29T22:46:53.024Z"
   },
   {
    "duration": 24,
    "start_time": "2023-05-29T22:46:53.048Z"
   },
   {
    "duration": 45,
    "start_time": "2023-05-29T22:46:53.075Z"
   },
   {
    "duration": 21,
    "start_time": "2023-05-29T22:46:53.122Z"
   },
   {
    "duration": 22,
    "start_time": "2023-05-29T22:46:53.145Z"
   },
   {
    "duration": 40,
    "start_time": "2023-05-29T22:46:53.169Z"
   },
   {
    "duration": 20,
    "start_time": "2023-05-29T22:46:53.211Z"
   },
   {
    "duration": 24,
    "start_time": "2023-05-29T22:46:53.233Z"
   },
   {
    "duration": 125,
    "start_time": "2023-05-29T22:46:53.258Z"
   },
   {
    "duration": 21,
    "start_time": "2023-05-29T22:46:53.384Z"
   },
   {
    "duration": 48,
    "start_time": "2023-05-29T22:46:53.406Z"
   },
   {
    "duration": 9,
    "start_time": "2023-05-29T22:46:53.455Z"
   },
   {
    "duration": 54,
    "start_time": "2023-05-29T22:46:53.477Z"
   },
   {
    "duration": 2,
    "start_time": "2023-05-29T22:46:53.533Z"
   },
   {
    "duration": 4,
    "start_time": "2023-05-29T22:46:53.537Z"
   },
   {
    "duration": 113,
    "start_time": "2023-05-29T22:46:53.543Z"
   },
   {
    "duration": 54,
    "start_time": "2023-05-29T22:46:53.658Z"
   },
   {
    "duration": 8,
    "start_time": "2023-05-29T22:46:53.714Z"
   },
   {
    "duration": 42,
    "start_time": "2023-05-29T22:47:13.297Z"
   },
   {
    "duration": 7,
    "start_time": "2023-05-29T22:47:13.710Z"
   },
   {
    "duration": 40,
    "start_time": "2023-05-29T22:47:13.907Z"
   },
   {
    "duration": 3,
    "start_time": "2023-05-29T22:47:14.452Z"
   },
   {
    "duration": 3,
    "start_time": "2023-05-29T22:47:14.594Z"
   },
   {
    "duration": 117,
    "start_time": "2023-05-29T22:47:14.705Z"
   },
   {
    "duration": 53,
    "start_time": "2023-05-29T22:47:15.069Z"
   },
   {
    "duration": 8,
    "start_time": "2023-05-29T22:47:15.160Z"
   },
   {
    "duration": 5,
    "start_time": "2023-05-29T22:49:12.930Z"
   },
   {
    "duration": 8,
    "start_time": "2023-05-29T22:49:13.100Z"
   },
   {
    "duration": 3,
    "start_time": "2023-05-29T22:49:30.940Z"
   },
   {
    "duration": 6,
    "start_time": "2023-05-29T22:49:31.235Z"
   },
   {
    "duration": 116,
    "start_time": "2023-05-29T22:50:48.303Z"
   },
   {
    "duration": 3,
    "start_time": "2023-05-29T22:51:05.134Z"
   },
   {
    "duration": 1178,
    "start_time": "2023-05-29T22:51:05.308Z"
   },
   {
    "duration": 1515,
    "start_time": "2023-05-29T22:55:40.436Z"
   },
   {
    "duration": 1110,
    "start_time": "2023-05-29T22:55:41.953Z"
   },
   {
    "duration": 41,
    "start_time": "2023-05-29T22:55:43.064Z"
   },
   {
    "duration": 36,
    "start_time": "2023-05-29T22:55:43.107Z"
   },
   {
    "duration": 38,
    "start_time": "2023-05-29T22:55:43.144Z"
   },
   {
    "duration": 31,
    "start_time": "2023-05-29T22:55:43.189Z"
   },
   {
    "duration": 20,
    "start_time": "2023-05-29T22:55:43.222Z"
   },
   {
    "duration": 22,
    "start_time": "2023-05-29T22:55:43.243Z"
   },
   {
    "duration": 13,
    "start_time": "2023-05-29T22:55:43.266Z"
   },
   {
    "duration": 20,
    "start_time": "2023-05-29T22:55:43.281Z"
   },
   {
    "duration": 236,
    "start_time": "2023-05-29T22:55:43.302Z"
   },
   {
    "duration": 92,
    "start_time": "2023-05-29T22:55:43.540Z"
   },
   {
    "duration": 3,
    "start_time": "2023-05-29T22:55:43.633Z"
   },
   {
    "duration": 1326,
    "start_time": "2023-05-29T22:55:43.639Z"
   },
   {
    "duration": 17,
    "start_time": "2023-05-29T22:56:34.457Z"
   },
   {
    "duration": 4,
    "start_time": "2023-05-29T22:57:52.050Z"
   },
   {
    "duration": 1195,
    "start_time": "2023-05-29T22:57:52.206Z"
   },
   {
    "duration": 86,
    "start_time": "2023-05-29T22:57:53.405Z"
   },
   {
    "duration": 26,
    "start_time": "2023-05-29T22:57:53.492Z"
   },
   {
    "duration": 715,
    "start_time": "2023-05-29T23:08:44.498Z"
   },
   {
    "duration": 718,
    "start_time": "2023-05-29T23:08:49.409Z"
   },
   {
    "duration": 678,
    "start_time": "2023-05-29T23:09:06.436Z"
   },
   {
    "duration": 15,
    "start_time": "2023-05-29T23:10:47.010Z"
   },
   {
    "duration": 135,
    "start_time": "2023-05-29T23:16:43.756Z"
   },
   {
    "duration": 194,
    "start_time": "2023-05-29T23:22:30.463Z"
   },
   {
    "duration": 1513,
    "start_time": "2023-05-29T23:23:14.461Z"
   },
   {
    "duration": 1087,
    "start_time": "2023-05-29T23:23:15.985Z"
   },
   {
    "duration": 36,
    "start_time": "2023-05-29T23:23:17.074Z"
   },
   {
    "duration": 36,
    "start_time": "2023-05-29T23:23:17.112Z"
   },
   {
    "duration": 45,
    "start_time": "2023-05-29T23:23:17.149Z"
   },
   {
    "duration": 29,
    "start_time": "2023-05-29T23:23:17.199Z"
   },
   {
    "duration": 20,
    "start_time": "2023-05-29T23:23:17.230Z"
   },
   {
    "duration": 28,
    "start_time": "2023-05-29T23:23:17.252Z"
   },
   {
    "duration": 11,
    "start_time": "2023-05-29T23:23:17.282Z"
   },
   {
    "duration": 17,
    "start_time": "2023-05-29T23:23:17.296Z"
   },
   {
    "duration": 230,
    "start_time": "2023-05-29T23:23:17.314Z"
   },
   {
    "duration": 4,
    "start_time": "2023-05-29T23:23:17.545Z"
   },
   {
    "duration": 1270,
    "start_time": "2023-05-29T23:23:17.551Z"
   },
   {
    "duration": 99,
    "start_time": "2023-05-29T23:23:18.823Z"
   },
   {
    "duration": 17,
    "start_time": "2023-05-29T23:23:18.923Z"
   },
   {
    "duration": 41,
    "start_time": "2023-05-29T23:23:18.942Z"
   },
   {
    "duration": 152,
    "start_time": "2023-05-29T23:23:18.985Z"
   },
   {
    "duration": 200,
    "start_time": "2023-05-29T23:23:19.139Z"
   },
   {
    "duration": 11,
    "start_time": "2023-05-29T23:24:26.405Z"
   },
   {
    "duration": 1590,
    "start_time": "2023-05-29T23:24:32.341Z"
   },
   {
    "duration": 1263,
    "start_time": "2023-05-29T23:24:33.934Z"
   },
   {
    "duration": 24,
    "start_time": "2023-05-29T23:24:35.204Z"
   },
   {
    "duration": 73,
    "start_time": "2023-05-29T23:24:35.231Z"
   },
   {
    "duration": 22,
    "start_time": "2023-05-29T23:24:35.307Z"
   },
   {
    "duration": 19,
    "start_time": "2023-05-29T23:24:35.330Z"
   },
   {
    "duration": 19,
    "start_time": "2023-05-29T23:24:35.351Z"
   },
   {
    "duration": 39,
    "start_time": "2023-05-29T23:24:35.372Z"
   },
   {
    "duration": 7,
    "start_time": "2023-05-29T23:24:35.413Z"
   },
   {
    "duration": 8,
    "start_time": "2023-05-29T23:24:35.422Z"
   },
   {
    "duration": 261,
    "start_time": "2023-05-29T23:24:35.432Z"
   },
   {
    "duration": 5,
    "start_time": "2023-05-29T23:24:35.701Z"
   },
   {
    "duration": 1260,
    "start_time": "2023-05-29T23:24:35.707Z"
   },
   {
    "duration": 99,
    "start_time": "2023-05-29T23:24:36.969Z"
   },
   {
    "duration": 28,
    "start_time": "2023-05-29T23:24:37.079Z"
   },
   {
    "duration": 131,
    "start_time": "2023-05-29T23:24:37.109Z"
   },
   {
    "duration": 0,
    "start_time": "2023-05-29T23:24:37.241Z"
   },
   {
    "duration": 0,
    "start_time": "2023-05-29T23:24:37.242Z"
   },
   {
    "duration": 0,
    "start_time": "2023-05-29T23:24:37.243Z"
   },
   {
    "duration": 3,
    "start_time": "2023-05-29T23:25:14.560Z"
   },
   {
    "duration": 15,
    "start_time": "2023-05-29T23:25:14.915Z"
   },
   {
    "duration": 3,
    "start_time": "2023-05-29T23:25:47.307Z"
   },
   {
    "duration": 11,
    "start_time": "2023-05-29T23:25:49.624Z"
   },
   {
    "duration": 1573,
    "start_time": "2023-05-29T23:25:58.227Z"
   },
   {
    "duration": 1110,
    "start_time": "2023-05-29T23:25:59.802Z"
   },
   {
    "duration": 23,
    "start_time": "2023-05-29T23:26:00.914Z"
   },
   {
    "duration": 80,
    "start_time": "2023-05-29T23:26:00.939Z"
   },
   {
    "duration": 31,
    "start_time": "2023-05-29T23:26:01.022Z"
   },
   {
    "duration": 66,
    "start_time": "2023-05-29T23:26:01.055Z"
   },
   {
    "duration": 65,
    "start_time": "2023-05-29T23:26:01.122Z"
   },
   {
    "duration": 44,
    "start_time": "2023-05-29T23:26:01.189Z"
   },
   {
    "duration": 31,
    "start_time": "2023-05-29T23:26:01.234Z"
   },
   {
    "duration": 38,
    "start_time": "2023-05-29T23:26:01.267Z"
   },
   {
    "duration": 203,
    "start_time": "2023-05-29T23:26:01.307Z"
   },
   {
    "duration": 4,
    "start_time": "2023-05-29T23:26:01.512Z"
   },
   {
    "duration": 1294,
    "start_time": "2023-05-29T23:26:01.518Z"
   },
   {
    "duration": 92,
    "start_time": "2023-05-29T23:26:02.815Z"
   },
   {
    "duration": 17,
    "start_time": "2023-05-29T23:26:02.909Z"
   },
   {
    "duration": 3,
    "start_time": "2023-05-29T23:26:02.927Z"
   },
   {
    "duration": 150,
    "start_time": "2023-05-29T23:26:02.932Z"
   },
   {
    "duration": 0,
    "start_time": "2023-05-29T23:26:03.085Z"
   },
   {
    "duration": 0,
    "start_time": "2023-05-29T23:26:03.086Z"
   },
   {
    "duration": 0,
    "start_time": "2023-05-29T23:26:03.086Z"
   },
   {
    "duration": 5,
    "start_time": "2023-05-29T23:26:22.272Z"
   },
   {
    "duration": 913,
    "start_time": "2023-05-29T23:26:22.527Z"
   },
   {
    "duration": 17,
    "start_time": "2023-05-29T23:26:28.732Z"
   },
   {
    "duration": 103,
    "start_time": "2023-05-29T23:26:28.867Z"
   },
   {
    "duration": 48,
    "start_time": "2023-05-29T23:26:29.824Z"
   },
   {
    "duration": 1623,
    "start_time": "2023-05-29T23:26:35.804Z"
   },
   {
    "duration": 4,
    "start_time": "2023-05-29T23:27:29.494Z"
   },
   {
    "duration": 613,
    "start_time": "2023-05-29T23:27:29.800Z"
   },
   {
    "duration": 797,
    "start_time": "2023-05-29T23:27:52.466Z"
   },
   {
    "duration": 3,
    "start_time": "2023-05-29T23:28:01.066Z"
   },
   {
    "duration": 772,
    "start_time": "2023-05-29T23:28:01.355Z"
   },
   {
    "duration": 736,
    "start_time": "2023-05-29T23:28:17.695Z"
   },
   {
    "duration": 743,
    "start_time": "2023-05-29T23:28:40.804Z"
   },
   {
    "duration": 755,
    "start_time": "2023-05-29T23:28:56.551Z"
   },
   {
    "duration": 769,
    "start_time": "2023-05-29T23:29:01.334Z"
   },
   {
    "duration": 6,
    "start_time": "2023-05-29T23:29:24.393Z"
   },
   {
    "duration": 701,
    "start_time": "2023-05-29T23:29:24.961Z"
   },
   {
    "duration": 42,
    "start_time": "2023-05-29T23:31:24.007Z"
   },
   {
    "duration": 36,
    "start_time": "2023-05-29T23:31:31.213Z"
   },
   {
    "duration": 4,
    "start_time": "2023-05-29T23:31:34.335Z"
   },
   {
    "duration": 555,
    "start_time": "2023-05-29T23:32:30.660Z"
   },
   {
    "duration": 4,
    "start_time": "2023-05-29T23:32:34.050Z"
   },
   {
    "duration": 27,
    "start_time": "2023-05-29T23:32:37.626Z"
   },
   {
    "duration": 3,
    "start_time": "2023-05-29T23:33:22.870Z"
   },
   {
    "duration": 854,
    "start_time": "2023-05-29T23:33:23.611Z"
   },
   {
    "duration": 31,
    "start_time": "2023-05-29T23:33:24.901Z"
   },
   {
    "duration": 15,
    "start_time": "2023-05-29T23:33:33.347Z"
   },
   {
    "duration": 752,
    "start_time": "2023-05-29T23:43:37.189Z"
   },
   {
    "duration": 15,
    "start_time": "2023-05-29T23:43:37.943Z"
   },
   {
    "duration": 1931,
    "start_time": "2023-05-29T23:48:23.901Z"
   },
   {
    "duration": 14,
    "start_time": "2023-05-29T23:49:17.884Z"
   },
   {
    "duration": 40,
    "start_time": "2023-05-29T23:49:32.715Z"
   },
   {
    "duration": 4,
    "start_time": "2023-05-29T23:50:35.762Z"
   },
   {
    "duration": 1850,
    "start_time": "2023-05-29T23:50:53.016Z"
   },
   {
    "duration": 35,
    "start_time": "2023-05-29T23:56:20.973Z"
   },
   {
    "duration": 5,
    "start_time": "2023-05-29T23:56:55.314Z"
   },
   {
    "duration": 1519,
    "start_time": "2023-05-29T23:56:59.850Z"
   },
   {
    "duration": 1111,
    "start_time": "2023-05-29T23:57:01.371Z"
   },
   {
    "duration": 29,
    "start_time": "2023-05-29T23:57:02.490Z"
   },
   {
    "duration": 39,
    "start_time": "2023-05-29T23:57:02.522Z"
   },
   {
    "duration": 47,
    "start_time": "2023-05-29T23:57:02.563Z"
   },
   {
    "duration": 20,
    "start_time": "2023-05-29T23:57:02.613Z"
   },
   {
    "duration": 34,
    "start_time": "2023-05-29T23:57:02.634Z"
   },
   {
    "duration": 55,
    "start_time": "2023-05-29T23:57:02.670Z"
   },
   {
    "duration": 8,
    "start_time": "2023-05-29T23:57:02.727Z"
   },
   {
    "duration": 9,
    "start_time": "2023-05-29T23:57:02.737Z"
   },
   {
    "duration": 224,
    "start_time": "2023-05-29T23:57:02.747Z"
   },
   {
    "duration": 27,
    "start_time": "2023-05-29T23:57:02.973Z"
   },
   {
    "duration": 1289,
    "start_time": "2023-05-29T23:57:03.006Z"
   },
   {
    "duration": 92,
    "start_time": "2023-05-29T23:57:04.304Z"
   },
   {
    "duration": 18,
    "start_time": "2023-05-29T23:57:04.408Z"
   },
   {
    "duration": 3,
    "start_time": "2023-05-29T23:57:04.427Z"
   },
   {
    "duration": 1120,
    "start_time": "2023-05-29T23:57:04.431Z"
   },
   {
    "duration": 15,
    "start_time": "2023-05-29T23:57:05.553Z"
   },
   {
    "duration": 60,
    "start_time": "2023-05-29T23:57:05.580Z"
   },
   {
    "duration": 3,
    "start_time": "2023-05-29T23:57:05.641Z"
   },
   {
    "duration": 26,
    "start_time": "2023-05-29T23:57:05.646Z"
   },
   {
    "duration": 3,
    "start_time": "2023-05-29T23:57:44.012Z"
   },
   {
    "duration": 220,
    "start_time": "2023-05-29T23:58:07.411Z"
   },
   {
    "duration": 13,
    "start_time": "2023-05-29T23:58:28.214Z"
   },
   {
    "duration": 1101,
    "start_time": "2023-05-29T23:58:28.777Z"
   },
   {
    "duration": 31,
    "start_time": "2023-05-29T23:58:29.896Z"
   },
   {
    "duration": 32,
    "start_time": "2023-05-29T23:58:29.929Z"
   },
   {
    "duration": 46,
    "start_time": "2023-05-29T23:58:29.963Z"
   },
   {
    "duration": 20,
    "start_time": "2023-05-29T23:58:30.012Z"
   },
   {
    "duration": 81,
    "start_time": "2023-05-29T23:58:30.034Z"
   },
   {
    "duration": 27,
    "start_time": "2023-05-29T23:58:30.117Z"
   },
   {
    "duration": 8,
    "start_time": "2023-05-29T23:58:30.146Z"
   },
   {
    "duration": 6,
    "start_time": "2023-05-29T23:58:30.156Z"
   },
   {
    "duration": 208,
    "start_time": "2023-05-29T23:58:30.164Z"
   },
   {
    "duration": 4,
    "start_time": "2023-05-29T23:58:30.376Z"
   },
   {
    "duration": 1242,
    "start_time": "2023-05-29T23:58:30.381Z"
   },
   {
    "duration": 101,
    "start_time": "2023-05-29T23:58:31.625Z"
   },
   {
    "duration": 16,
    "start_time": "2023-05-29T23:58:31.727Z"
   },
   {
    "duration": 73,
    "start_time": "2023-05-29T23:58:31.745Z"
   },
   {
    "duration": 1163,
    "start_time": "2023-05-29T23:58:31.820Z"
   },
   {
    "duration": 28,
    "start_time": "2023-05-29T23:58:32.985Z"
   },
   {
    "duration": 50,
    "start_time": "2023-05-29T23:58:33.017Z"
   },
   {
    "duration": 16,
    "start_time": "2023-05-29T23:58:33.069Z"
   },
   {
    "duration": 7,
    "start_time": "2023-05-29T23:58:33.086Z"
   },
   {
    "duration": 146,
    "start_time": "2023-05-29T23:58:33.095Z"
   },
   {
    "duration": 654,
    "start_time": "2023-05-29T23:58:56.430Z"
   },
   {
    "duration": 8,
    "start_time": "2023-05-30T00:02:36.598Z"
   },
   {
    "duration": 1498,
    "start_time": "2023-05-30T00:02:42.414Z"
   },
   {
    "duration": 1138,
    "start_time": "2023-05-30T00:02:43.914Z"
   },
   {
    "duration": 35,
    "start_time": "2023-05-30T00:02:45.054Z"
   },
   {
    "duration": 54,
    "start_time": "2023-05-30T00:02:45.091Z"
   },
   {
    "duration": 68,
    "start_time": "2023-05-30T00:02:45.147Z"
   },
   {
    "duration": 21,
    "start_time": "2023-05-30T00:02:45.217Z"
   },
   {
    "duration": 26,
    "start_time": "2023-05-30T00:02:45.240Z"
   },
   {
    "duration": 48,
    "start_time": "2023-05-30T00:02:45.268Z"
   },
   {
    "duration": 8,
    "start_time": "2023-05-30T00:02:45.318Z"
   },
   {
    "duration": 7,
    "start_time": "2023-05-30T00:02:45.328Z"
   },
   {
    "duration": 210,
    "start_time": "2023-05-30T00:02:45.336Z"
   },
   {
    "duration": 4,
    "start_time": "2023-05-30T00:02:45.547Z"
   },
   {
    "duration": 1248,
    "start_time": "2023-05-30T00:02:45.553Z"
   },
   {
    "duration": 94,
    "start_time": "2023-05-30T00:02:46.813Z"
   },
   {
    "duration": 16,
    "start_time": "2023-05-30T00:02:46.912Z"
   },
   {
    "duration": 16,
    "start_time": "2023-05-30T00:02:46.930Z"
   },
   {
    "duration": 1151,
    "start_time": "2023-05-30T00:02:46.948Z"
   },
   {
    "duration": 24,
    "start_time": "2023-05-30T00:02:48.102Z"
   },
   {
    "duration": 55,
    "start_time": "2023-05-30T00:02:48.128Z"
   },
   {
    "duration": 9,
    "start_time": "2023-05-30T00:02:48.188Z"
   },
   {
    "duration": 12,
    "start_time": "2023-05-30T00:02:48.205Z"
   },
   {
    "duration": 666,
    "start_time": "2023-05-30T00:02:48.218Z"
   },
   {
    "duration": 312,
    "start_time": "2023-05-30T00:05:39.819Z"
   },
   {
    "duration": 12,
    "start_time": "2023-05-30T00:05:41.502Z"
   },
   {
    "duration": 572,
    "start_time": "2023-05-30T00:05:41.804Z"
   },
   {
    "duration": 66338,
    "start_time": "2023-05-30T00:10:54.203Z"
   },
   {
    "duration": 661,
    "start_time": "2023-05-30T00:14:42.024Z"
   },
   {
    "duration": 108,
    "start_time": "2023-05-30T00:15:47.035Z"
   },
   {
    "duration": 66979,
    "start_time": "2023-05-30T00:28:39.352Z"
   },
   {
    "duration": 87,
    "start_time": "2023-05-30T00:32:22.936Z"
   },
   {
    "duration": 4,
    "start_time": "2023-05-30T00:32:48.313Z"
   },
   {
    "duration": 1592,
    "start_time": "2023-05-30T00:42:23.560Z"
   },
   {
    "duration": 1152,
    "start_time": "2023-05-30T00:42:25.154Z"
   },
   {
    "duration": 30,
    "start_time": "2023-05-30T00:42:26.312Z"
   },
   {
    "duration": 57,
    "start_time": "2023-05-30T00:42:26.343Z"
   },
   {
    "duration": 29,
    "start_time": "2023-05-30T00:42:26.404Z"
   },
   {
    "duration": 21,
    "start_time": "2023-05-30T00:42:26.435Z"
   },
   {
    "duration": 36,
    "start_time": "2023-05-30T00:42:26.458Z"
   },
   {
    "duration": 27,
    "start_time": "2023-05-30T00:42:26.503Z"
   },
   {
    "duration": 9,
    "start_time": "2023-05-30T00:42:26.532Z"
   },
   {
    "duration": 9,
    "start_time": "2023-05-30T00:42:26.542Z"
   },
   {
    "duration": 242,
    "start_time": "2023-05-30T00:42:26.552Z"
   },
   {
    "duration": 4,
    "start_time": "2023-05-30T00:42:26.796Z"
   },
   {
    "duration": 1289,
    "start_time": "2023-05-30T00:42:26.804Z"
   },
   {
    "duration": 106,
    "start_time": "2023-05-30T00:42:28.101Z"
   },
   {
    "duration": 19,
    "start_time": "2023-05-30T00:42:28.208Z"
   },
   {
    "duration": 3,
    "start_time": "2023-05-30T00:42:28.228Z"
   },
   {
    "duration": 1181,
    "start_time": "2023-05-30T00:42:28.232Z"
   },
   {
    "duration": 15,
    "start_time": "2023-05-30T00:42:29.415Z"
   },
   {
    "duration": 85,
    "start_time": "2023-05-30T00:42:29.432Z"
   },
   {
    "duration": 4,
    "start_time": "2023-05-30T00:42:29.519Z"
   },
   {
    "duration": 8,
    "start_time": "2023-05-30T00:42:29.524Z"
   },
   {
    "duration": 644,
    "start_time": "2023-05-30T00:42:29.533Z"
   },
   {
    "duration": 64558,
    "start_time": "2023-05-30T00:42:30.179Z"
   },
   {
    "duration": 410263,
    "start_time": "2023-05-30T00:43:34.738Z"
   },
   {
    "duration": 21035,
    "start_time": "2023-05-30T00:50:25.007Z"
   },
   {
    "duration": 5,
    "start_time": "2023-05-30T00:54:11.024Z"
   },
   {
    "duration": 8,
    "start_time": "2023-05-30T00:54:22.551Z"
   },
   {
    "duration": 4,
    "start_time": "2023-05-30T00:55:10.243Z"
   },
   {
    "duration": 7,
    "start_time": "2023-05-30T00:55:10.449Z"
   },
   {
    "duration": 91,
    "start_time": "2023-05-30T00:55:10.611Z"
   },
   {
    "duration": 1862,
    "start_time": "2023-05-30T00:55:10.989Z"
   },
   {
    "duration": 303,
    "start_time": "2023-05-30T00:55:12.853Z"
   },
   {
    "duration": 0,
    "start_time": "2023-05-30T00:55:13.158Z"
   },
   {
    "duration": 0,
    "start_time": "2023-05-30T00:55:13.159Z"
   },
   {
    "duration": 0,
    "start_time": "2023-05-30T00:55:13.160Z"
   },
   {
    "duration": 0,
    "start_time": "2023-05-30T00:55:13.161Z"
   },
   {
    "duration": 0,
    "start_time": "2023-05-30T00:55:13.162Z"
   },
   {
    "duration": 73,
    "start_time": "2023-05-30T01:05:48.511Z"
   },
   {
    "duration": 48,
    "start_time": "2023-05-30T01:06:13.326Z"
   },
   {
    "duration": 44,
    "start_time": "2023-05-30T01:06:45.219Z"
   },
   {
    "duration": 3,
    "start_time": "2023-05-30T01:06:45.555Z"
   },
   {
    "duration": 1848,
    "start_time": "2023-05-30T01:06:50.003Z"
   },
   {
    "duration": 7,
    "start_time": "2023-05-30T01:10:23.711Z"
   },
   {
    "duration": 13,
    "start_time": "2023-05-30T01:10:24.452Z"
   },
   {
    "duration": 10,
    "start_time": "2023-05-30T01:10:40.569Z"
   },
   {
    "duration": 14,
    "start_time": "2023-05-30T01:10:41.233Z"
   },
   {
    "duration": 98,
    "start_time": "2023-05-30T01:10:44.016Z"
   },
   {
    "duration": 4,
    "start_time": "2023-05-30T01:10:45.542Z"
   },
   {
    "duration": 3973,
    "start_time": "2023-05-30T01:10:50.049Z"
   },
   {
    "duration": 3921,
    "start_time": "2023-05-30T01:11:02.198Z"
   },
   {
    "duration": 3897,
    "start_time": "2023-05-30T01:12:41.744Z"
   },
   {
    "duration": 45943,
    "start_time": "2023-05-30T01:14:18.113Z"
   },
   {
    "duration": 52191,
    "start_time": "2023-05-30T01:18:37.744Z"
   },
   {
    "duration": 3135,
    "start_time": "2023-05-30T01:20:15.767Z"
   },
   {
    "duration": 6695,
    "start_time": "2023-05-30T01:20:34.563Z"
   },
   {
    "duration": 15,
    "start_time": "2023-05-30T01:20:57.206Z"
   },
   {
    "duration": 4,
    "start_time": "2023-05-30T01:21:09.211Z"
   },
   {
    "duration": 12,
    "start_time": "2023-05-30T01:21:30.240Z"
   },
   {
    "duration": 1537,
    "start_time": "2023-05-30T01:22:55.604Z"
   },
   {
    "duration": 1160,
    "start_time": "2023-05-30T01:22:57.143Z"
   },
   {
    "duration": 31,
    "start_time": "2023-05-30T01:22:58.305Z"
   },
   {
    "duration": 61,
    "start_time": "2023-05-30T01:22:58.338Z"
   },
   {
    "duration": 28,
    "start_time": "2023-05-30T01:22:58.410Z"
   },
   {
    "duration": 21,
    "start_time": "2023-05-30T01:22:58.440Z"
   },
   {
    "duration": 30,
    "start_time": "2023-05-30T01:22:58.462Z"
   },
   {
    "duration": 37,
    "start_time": "2023-05-30T01:22:58.494Z"
   },
   {
    "duration": 8,
    "start_time": "2023-05-30T01:22:58.532Z"
   },
   {
    "duration": 8,
    "start_time": "2023-05-30T01:22:58.541Z"
   },
   {
    "duration": 266,
    "start_time": "2023-05-30T01:22:58.551Z"
   },
   {
    "duration": 3,
    "start_time": "2023-05-30T01:22:58.819Z"
   },
   {
    "duration": 1271,
    "start_time": "2023-05-30T01:22:58.824Z"
   },
   {
    "duration": 90,
    "start_time": "2023-05-30T01:23:00.113Z"
   },
   {
    "duration": 21,
    "start_time": "2023-05-30T01:23:00.207Z"
   },
   {
    "duration": 2,
    "start_time": "2023-05-30T01:23:00.230Z"
   },
   {
    "duration": 1155,
    "start_time": "2023-05-30T01:23:00.234Z"
   },
   {
    "duration": 13,
    "start_time": "2023-05-30T01:23:01.390Z"
   },
   {
    "duration": 47,
    "start_time": "2023-05-30T01:23:01.405Z"
   },
   {
    "duration": 91,
    "start_time": "2023-05-30T01:23:01.453Z"
   },
   {
    "duration": 3,
    "start_time": "2023-05-30T01:23:01.546Z"
   },
   {
    "duration": 1701,
    "start_time": "2023-05-30T01:23:01.551Z"
   },
   {
    "duration": 148,
    "start_time": "2023-05-30T01:23:03.254Z"
   },
   {
    "duration": 10,
    "start_time": "2023-05-30T01:23:03.404Z"
   },
   {
    "duration": 1593,
    "start_time": "2023-05-30T01:39:49.060Z"
   },
   {
    "duration": 1210,
    "start_time": "2023-05-30T01:39:50.655Z"
   },
   {
    "duration": 38,
    "start_time": "2023-05-30T01:39:51.867Z"
   },
   {
    "duration": 33,
    "start_time": "2023-05-30T01:39:51.912Z"
   },
   {
    "duration": 23,
    "start_time": "2023-05-30T01:39:51.946Z"
   },
   {
    "duration": 48,
    "start_time": "2023-05-30T01:39:51.970Z"
   },
   {
    "duration": 21,
    "start_time": "2023-05-30T01:39:52.020Z"
   },
   {
    "duration": 69,
    "start_time": "2023-05-30T01:39:52.043Z"
   },
   {
    "duration": 8,
    "start_time": "2023-05-30T01:39:52.114Z"
   },
   {
    "duration": 6,
    "start_time": "2023-05-30T01:39:52.124Z"
   },
   {
    "duration": 202,
    "start_time": "2023-05-30T01:39:52.132Z"
   },
   {
    "duration": 3,
    "start_time": "2023-05-30T01:39:52.336Z"
   },
   {
    "duration": 1305,
    "start_time": "2023-05-30T01:39:52.341Z"
   },
   {
    "duration": 95,
    "start_time": "2023-05-30T01:39:53.648Z"
   },
   {
    "duration": 16,
    "start_time": "2023-05-30T01:39:53.745Z"
   },
   {
    "duration": 24,
    "start_time": "2023-05-30T01:39:53.762Z"
   },
   {
    "duration": 1147,
    "start_time": "2023-05-30T01:39:53.795Z"
   },
   {
    "duration": 11,
    "start_time": "2023-05-30T01:39:54.943Z"
   },
   {
    "duration": 27,
    "start_time": "2023-05-30T01:39:54.955Z"
   },
   {
    "duration": 149,
    "start_time": "2023-05-30T01:39:54.983Z"
   },
   {
    "duration": 4,
    "start_time": "2023-05-30T01:39:55.134Z"
   },
   {
    "duration": 48700,
    "start_time": "2023-05-30T01:39:55.139Z"
   },
   {
    "duration": 2483,
    "start_time": "2023-05-30T01:40:57.535Z"
   },
   {
    "duration": 121,
    "start_time": "2023-05-30T01:41:37.918Z"
   },
   {
    "duration": 4,
    "start_time": "2023-05-30T01:41:47.636Z"
   },
   {
    "duration": 1468,
    "start_time": "2023-05-30T01:42:34.206Z"
   },
   {
    "duration": 1109,
    "start_time": "2023-05-30T01:42:35.685Z"
   },
   {
    "duration": 32,
    "start_time": "2023-05-30T01:42:36.795Z"
   },
   {
    "duration": 37,
    "start_time": "2023-05-30T01:42:36.829Z"
   },
   {
    "duration": 40,
    "start_time": "2023-05-30T01:42:36.878Z"
   },
   {
    "duration": 19,
    "start_time": "2023-05-30T01:42:36.919Z"
   },
   {
    "duration": 22,
    "start_time": "2023-05-30T01:42:36.940Z"
   },
   {
    "duration": 46,
    "start_time": "2023-05-30T01:42:36.964Z"
   },
   {
    "duration": 9,
    "start_time": "2023-05-30T01:42:37.011Z"
   },
   {
    "duration": 8,
    "start_time": "2023-05-30T01:42:37.022Z"
   },
   {
    "duration": 232,
    "start_time": "2023-05-30T01:42:37.031Z"
   },
   {
    "duration": 3,
    "start_time": "2023-05-30T01:42:37.265Z"
   },
   {
    "duration": 1290,
    "start_time": "2023-05-30T01:42:37.277Z"
   },
   {
    "duration": 122,
    "start_time": "2023-05-30T01:42:38.569Z"
   },
   {
    "duration": 22,
    "start_time": "2023-05-30T01:42:38.697Z"
   },
   {
    "duration": 3,
    "start_time": "2023-05-30T01:42:38.720Z"
   },
   {
    "duration": 1118,
    "start_time": "2023-05-30T01:42:38.725Z"
   },
   {
    "duration": 11,
    "start_time": "2023-05-30T01:42:39.844Z"
   },
   {
    "duration": 30,
    "start_time": "2023-05-30T01:42:39.856Z"
   },
   {
    "duration": 108,
    "start_time": "2023-05-30T01:42:39.887Z"
   },
   {
    "duration": 5,
    "start_time": "2023-05-30T01:42:39.997Z"
   },
   {
    "duration": 43746,
    "start_time": "2023-05-30T01:42:40.003Z"
   },
   {
    "duration": 2494,
    "start_time": "2023-05-30T01:43:23.751Z"
   },
   {
    "duration": 4,
    "start_time": "2023-05-30T01:43:26.246Z"
   },
   {
    "duration": 58515,
    "start_time": "2023-05-30T01:43:26.251Z"
   },
   {
    "duration": 0,
    "start_time": "2023-05-30T01:44:24.769Z"
   },
   {
    "duration": 87,
    "start_time": "2023-05-30T01:44:31.052Z"
   },
   {
    "duration": 85705,
    "start_time": "2023-05-30T01:44:41.106Z"
   },
   {
    "duration": 93,
    "start_time": "2023-05-30T02:11:19.861Z"
   },
   {
    "duration": 4,
    "start_time": "2023-05-30T02:11:20.155Z"
   },
   {
    "duration": 3,
    "start_time": "2023-05-30T02:11:20.437Z"
   },
   {
    "duration": 128,
    "start_time": "2023-05-30T02:11:20.717Z"
   },
   {
    "duration": 3,
    "start_time": "2023-05-30T02:11:37.520Z"
   },
   {
    "duration": 477,
    "start_time": "2023-05-30T02:11:37.720Z"
   },
   {
    "duration": 1493,
    "start_time": "2023-05-30T02:12:25.540Z"
   },
   {
    "duration": 1168,
    "start_time": "2023-05-30T02:12:27.034Z"
   },
   {
    "duration": 29,
    "start_time": "2023-05-30T02:12:28.203Z"
   },
   {
    "duration": 64,
    "start_time": "2023-05-30T02:12:28.234Z"
   },
   {
    "duration": 30,
    "start_time": "2023-05-30T02:12:28.308Z"
   },
   {
    "duration": 23,
    "start_time": "2023-05-30T02:12:28.340Z"
   },
   {
    "duration": 41,
    "start_time": "2023-05-30T02:12:28.365Z"
   },
   {
    "duration": 27,
    "start_time": "2023-05-30T02:12:28.408Z"
   },
   {
    "duration": 8,
    "start_time": "2023-05-30T02:12:28.436Z"
   },
   {
    "duration": 9,
    "start_time": "2023-05-30T02:12:28.446Z"
   },
   {
    "duration": 271,
    "start_time": "2023-05-30T02:12:28.456Z"
   },
   {
    "duration": 4,
    "start_time": "2023-05-30T02:12:28.728Z"
   },
   {
    "duration": 1372,
    "start_time": "2023-05-30T02:12:28.734Z"
   },
   {
    "duration": 104,
    "start_time": "2023-05-30T02:12:30.108Z"
   },
   {
    "duration": 29,
    "start_time": "2023-05-30T02:12:30.214Z"
   },
   {
    "duration": 15,
    "start_time": "2023-05-30T02:12:30.245Z"
   },
   {
    "duration": 1196,
    "start_time": "2023-05-30T02:12:30.262Z"
   },
   {
    "duration": 27,
    "start_time": "2023-05-30T02:12:31.460Z"
   },
   {
    "duration": 31,
    "start_time": "2023-05-30T02:12:31.489Z"
   },
   {
    "duration": 128,
    "start_time": "2023-05-30T02:12:31.522Z"
   },
   {
    "duration": 3,
    "start_time": "2023-05-30T02:12:31.652Z"
   },
   {
    "duration": 10,
    "start_time": "2023-05-30T02:12:31.657Z"
   },
   {
    "duration": 613,
    "start_time": "2023-05-30T02:12:31.669Z"
   },
   {
    "duration": 50269,
    "start_time": "2023-05-30T02:12:32.284Z"
   },
   {
    "duration": 54,
    "start_time": "2023-05-30T02:13:22.555Z"
   },
   {
    "duration": 217,
    "start_time": "2023-05-30T14:22:32.707Z"
   },
   {
    "duration": 48,
    "start_time": "2023-05-30T14:23:31.703Z"
   },
   {
    "duration": 2425,
    "start_time": "2023-05-30T14:23:38.208Z"
   },
   {
    "duration": 2154,
    "start_time": "2023-05-30T14:23:40.635Z"
   },
   {
    "duration": 2041,
    "start_time": "2023-05-30T14:23:42.791Z"
   },
   {
    "duration": 1093,
    "start_time": "2023-05-30T14:23:44.834Z"
   },
   {
    "duration": 23,
    "start_time": "2023-05-30T14:23:45.929Z"
   },
   {
    "duration": 48,
    "start_time": "2023-05-30T14:23:45.954Z"
   },
   {
    "duration": 23,
    "start_time": "2023-05-30T14:23:46.004Z"
   },
   {
    "duration": 21,
    "start_time": "2023-05-30T14:23:46.028Z"
   },
   {
    "duration": 21,
    "start_time": "2023-05-30T14:23:46.050Z"
   },
   {
    "duration": 22,
    "start_time": "2023-05-30T14:23:46.073Z"
   },
   {
    "duration": 20,
    "start_time": "2023-05-30T14:23:46.096Z"
   },
   {
    "duration": 6,
    "start_time": "2023-05-30T14:23:46.117Z"
   },
   {
    "duration": 20,
    "start_time": "2023-05-30T14:23:46.125Z"
   },
   {
    "duration": 30,
    "start_time": "2023-05-30T14:23:46.147Z"
   },
   {
    "duration": 15,
    "start_time": "2023-05-30T14:23:46.178Z"
   },
   {
    "duration": 27,
    "start_time": "2023-05-30T14:23:46.195Z"
   },
   {
    "duration": 16,
    "start_time": "2023-05-30T14:23:46.224Z"
   },
   {
    "duration": 24,
    "start_time": "2023-05-30T14:23:46.242Z"
   },
   {
    "duration": 32,
    "start_time": "2023-05-30T14:23:46.268Z"
   },
   {
    "duration": 39,
    "start_time": "2023-05-30T14:23:46.301Z"
   },
   {
    "duration": 134,
    "start_time": "2023-05-30T14:23:46.342Z"
   },
   {
    "duration": 237,
    "start_time": "2023-05-30T14:23:46.477Z"
   },
   {
    "duration": 106,
    "start_time": "2023-05-30T14:25:38.760Z"
   },
   {
    "duration": 227,
    "start_time": "2023-05-30T14:25:38.920Z"
   },
   {
    "duration": 92,
    "start_time": "2023-05-30T14:25:44.129Z"
   },
   {
    "duration": 1956,
    "start_time": "2023-05-30T14:25:55.776Z"
   },
   {
    "duration": 2795,
    "start_time": "2023-05-30T14:25:57.734Z"
   },
   {
    "duration": 1649,
    "start_time": "2023-05-30T14:26:00.531Z"
   },
   {
    "duration": 834,
    "start_time": "2023-05-30T14:26:02.182Z"
   },
   {
    "duration": 17,
    "start_time": "2023-05-30T14:26:03.018Z"
   },
   {
    "duration": 63,
    "start_time": "2023-05-30T14:26:03.036Z"
   },
   {
    "duration": 35,
    "start_time": "2023-05-30T14:26:03.100Z"
   },
   {
    "duration": 27,
    "start_time": "2023-05-30T14:26:03.137Z"
   },
   {
    "duration": 32,
    "start_time": "2023-05-30T14:26:03.166Z"
   },
   {
    "duration": 71,
    "start_time": "2023-05-30T14:26:03.199Z"
   },
   {
    "duration": 110,
    "start_time": "2023-05-30T14:26:03.272Z"
   },
   {
    "duration": 8,
    "start_time": "2023-05-30T14:26:03.383Z"
   },
   {
    "duration": 20,
    "start_time": "2023-05-30T14:26:03.393Z"
   },
   {
    "duration": 39,
    "start_time": "2023-05-30T14:26:03.416Z"
   },
   {
    "duration": 18,
    "start_time": "2023-05-30T14:26:03.457Z"
   },
   {
    "duration": 26,
    "start_time": "2023-05-30T14:26:03.477Z"
   },
   {
    "duration": 34,
    "start_time": "2023-05-30T14:26:03.504Z"
   },
   {
    "duration": 23,
    "start_time": "2023-05-30T14:26:03.539Z"
   },
   {
    "duration": 50,
    "start_time": "2023-05-30T14:26:03.564Z"
   },
   {
    "duration": 29,
    "start_time": "2023-05-30T14:26:03.616Z"
   },
   {
    "duration": 147,
    "start_time": "2023-05-30T14:26:03.647Z"
   },
   {
    "duration": 246,
    "start_time": "2023-05-30T14:26:03.795Z"
   },
   {
    "duration": 3,
    "start_time": "2023-05-30T14:26:04.042Z"
   },
   {
    "duration": 970,
    "start_time": "2023-05-30T14:26:04.046Z"
   },
   {
    "duration": 51,
    "start_time": "2023-05-30T14:26:05.018Z"
   },
   {
    "duration": 14,
    "start_time": "2023-05-30T14:26:05.071Z"
   },
   {
    "duration": 6,
    "start_time": "2023-05-30T14:26:05.086Z"
   },
   {
    "duration": 700,
    "start_time": "2023-05-30T14:26:05.093Z"
   },
   {
    "duration": 8,
    "start_time": "2023-05-30T14:26:05.794Z"
   },
   {
    "duration": 25,
    "start_time": "2023-05-30T14:26:05.804Z"
   },
   {
    "duration": 37,
    "start_time": "2023-05-30T14:26:05.830Z"
   },
   {
    "duration": 4,
    "start_time": "2023-05-30T14:26:05.869Z"
   },
   {
    "duration": 8,
    "start_time": "2023-05-30T14:26:05.874Z"
   },
   {
    "duration": 239,
    "start_time": "2023-05-30T14:26:05.883Z"
   },
   {
    "duration": 16087,
    "start_time": "2023-05-30T14:26:06.124Z"
   },
   {
    "duration": 31,
    "start_time": "2023-05-30T14:26:22.215Z"
   },
   {
    "duration": 234676,
    "start_time": "2023-05-30T14:26:22.247Z"
   },
   {
    "duration": 199,
    "start_time": "2023-05-30T14:30:16.925Z"
   },
   {
    "duration": 97878,
    "start_time": "2023-05-30T14:30:17.126Z"
   },
   {
    "duration": 48,
    "start_time": "2023-05-30T14:31:55.006Z"
   },
   {
    "duration": 59,
    "start_time": "2023-05-30T14:31:55.058Z"
   },
   {
    "duration": 1429,
    "start_time": "2023-05-30T14:31:55.118Z"
   },
   {
    "duration": 7571,
    "start_time": "2023-05-30T14:31:56.548Z"
   },
   {
    "duration": 23311,
    "start_time": "2023-05-30T14:32:04.121Z"
   },
   {
    "duration": 9,
    "start_time": "2023-05-30T14:32:27.434Z"
   },
   {
    "duration": 2064,
    "start_time": "2023-05-30T14:35:48.852Z"
   },
   {
    "duration": 2352,
    "start_time": "2023-05-30T14:35:50.918Z"
   },
   {
    "duration": 1593,
    "start_time": "2023-05-30T14:35:53.271Z"
   },
   {
    "duration": 900,
    "start_time": "2023-05-30T14:35:54.866Z"
   },
   {
    "duration": 17,
    "start_time": "2023-05-30T14:35:55.769Z"
   },
   {
    "duration": 46,
    "start_time": "2023-05-30T14:35:55.789Z"
   },
   {
    "duration": 29,
    "start_time": "2023-05-30T14:35:55.837Z"
   },
   {
    "duration": 26,
    "start_time": "2023-05-30T14:35:55.868Z"
   },
   {
    "duration": 28,
    "start_time": "2023-05-30T14:35:55.895Z"
   },
   {
    "duration": 26,
    "start_time": "2023-05-30T14:35:55.925Z"
   },
   {
    "duration": 15,
    "start_time": "2023-05-30T14:35:55.953Z"
   },
   {
    "duration": 15,
    "start_time": "2023-05-30T14:35:55.969Z"
   },
   {
    "duration": 23,
    "start_time": "2023-05-30T14:35:55.986Z"
   },
   {
    "duration": 34,
    "start_time": "2023-05-30T14:35:56.010Z"
   },
   {
    "duration": 24,
    "start_time": "2023-05-30T14:35:56.046Z"
   },
   {
    "duration": 21,
    "start_time": "2023-05-30T14:35:56.071Z"
   },
   {
    "duration": 26,
    "start_time": "2023-05-30T14:35:56.094Z"
   },
   {
    "duration": 22,
    "start_time": "2023-05-30T14:35:56.121Z"
   },
   {
    "duration": 48,
    "start_time": "2023-05-30T14:35:56.145Z"
   },
   {
    "duration": 53,
    "start_time": "2023-05-30T14:35:56.195Z"
   },
   {
    "duration": 165,
    "start_time": "2023-05-30T14:35:56.250Z"
   },
   {
    "duration": 252,
    "start_time": "2023-05-30T14:35:56.416Z"
   },
   {
    "duration": 3,
    "start_time": "2023-05-30T14:35:56.851Z"
   },
   {
    "duration": 947,
    "start_time": "2023-05-30T14:35:57.164Z"
   },
   {
    "duration": 52,
    "start_time": "2023-05-30T14:35:58.472Z"
   },
   {
    "duration": 16,
    "start_time": "2023-05-30T14:36:00.650Z"
   },
   {
    "duration": 3,
    "start_time": "2023-05-30T14:36:09.908Z"
   },
   {
    "duration": 86,
    "start_time": "2023-05-30T14:36:10.925Z"
   },
   {
    "duration": 12,
    "start_time": "2023-05-30T14:36:36.618Z"
   },
   {
    "duration": 82,
    "start_time": "2023-05-30T14:36:37.339Z"
   },
   {
    "duration": 113,
    "start_time": "2023-05-30T14:38:05.894Z"
   },
   {
    "duration": 41,
    "start_time": "2023-05-30T14:40:07.803Z"
   },
   {
    "duration": 13,
    "start_time": "2023-05-30T14:40:23.057Z"
   },
   {
    "duration": 67,
    "start_time": "2023-05-30T14:40:40.713Z"
   },
   {
    "duration": 15,
    "start_time": "2023-05-30T14:40:41.003Z"
   },
   {
    "duration": 3,
    "start_time": "2023-05-30T14:40:41.316Z"
   },
   {
    "duration": 48,
    "start_time": "2023-05-30T14:40:52.144Z"
   },
   {
    "duration": 14,
    "start_time": "2023-05-30T14:40:52.310Z"
   },
   {
    "duration": 3,
    "start_time": "2023-05-30T14:40:52.465Z"
   },
   {
    "duration": 64,
    "start_time": "2023-05-30T14:41:13.103Z"
   },
   {
    "duration": 6,
    "start_time": "2023-05-30T14:47:22.145Z"
   },
   {
    "duration": 10,
    "start_time": "2023-05-30T14:51:01.677Z"
   },
   {
    "duration": 34,
    "start_time": "2023-05-30T14:51:04.815Z"
   },
   {
    "duration": 27,
    "start_time": "2023-05-30T14:53:20.552Z"
   },
   {
    "duration": 11,
    "start_time": "2023-05-30T14:53:42.409Z"
   },
   {
    "duration": 1983,
    "start_time": "2023-05-30T14:53:53.570Z"
   },
   {
    "duration": 1971,
    "start_time": "2023-05-30T14:53:55.555Z"
   },
   {
    "duration": 1494,
    "start_time": "2023-05-30T14:53:57.527Z"
   },
   {
    "duration": 0,
    "start_time": "2023-05-30T14:53:59.024Z"
   },
   {
    "duration": 1,
    "start_time": "2023-05-30T14:53:59.024Z"
   },
   {
    "duration": 0,
    "start_time": "2023-05-30T14:53:59.026Z"
   },
   {
    "duration": 0,
    "start_time": "2023-05-30T14:53:59.027Z"
   },
   {
    "duration": 0,
    "start_time": "2023-05-30T14:53:59.028Z"
   },
   {
    "duration": 0,
    "start_time": "2023-05-30T14:53:59.028Z"
   },
   {
    "duration": 0,
    "start_time": "2023-05-30T14:53:59.030Z"
   },
   {
    "duration": 0,
    "start_time": "2023-05-30T14:53:59.030Z"
   },
   {
    "duration": 0,
    "start_time": "2023-05-30T14:53:59.031Z"
   },
   {
    "duration": 0,
    "start_time": "2023-05-30T14:53:59.032Z"
   },
   {
    "duration": 0,
    "start_time": "2023-05-30T14:53:59.033Z"
   },
   {
    "duration": 0,
    "start_time": "2023-05-30T14:53:59.034Z"
   },
   {
    "duration": 0,
    "start_time": "2023-05-30T14:53:59.035Z"
   },
   {
    "duration": 0,
    "start_time": "2023-05-30T14:53:59.036Z"
   },
   {
    "duration": 0,
    "start_time": "2023-05-30T14:53:59.036Z"
   },
   {
    "duration": 0,
    "start_time": "2023-05-30T14:53:59.037Z"
   },
   {
    "duration": 0,
    "start_time": "2023-05-30T14:53:59.038Z"
   },
   {
    "duration": 0,
    "start_time": "2023-05-30T14:53:59.039Z"
   },
   {
    "duration": 0,
    "start_time": "2023-05-30T14:53:59.040Z"
   },
   {
    "duration": 0,
    "start_time": "2023-05-30T14:53:59.041Z"
   },
   {
    "duration": 0,
    "start_time": "2023-05-30T14:53:59.042Z"
   },
   {
    "duration": 0,
    "start_time": "2023-05-30T14:53:59.042Z"
   },
   {
    "duration": 0,
    "start_time": "2023-05-30T14:53:59.043Z"
   },
   {
    "duration": 0,
    "start_time": "2023-05-30T14:53:59.044Z"
   },
   {
    "duration": 0,
    "start_time": "2023-05-30T14:53:59.045Z"
   },
   {
    "duration": 0,
    "start_time": "2023-05-30T14:53:59.046Z"
   },
   {
    "duration": 0,
    "start_time": "2023-05-30T14:53:59.047Z"
   },
   {
    "duration": 0,
    "start_time": "2023-05-30T14:53:59.048Z"
   },
   {
    "duration": 0,
    "start_time": "2023-05-30T14:53:59.049Z"
   },
   {
    "duration": 0,
    "start_time": "2023-05-30T14:53:59.050Z"
   },
   {
    "duration": 0,
    "start_time": "2023-05-30T14:53:59.051Z"
   },
   {
    "duration": 0,
    "start_time": "2023-05-30T14:53:59.051Z"
   },
   {
    "duration": 0,
    "start_time": "2023-05-30T14:53:59.052Z"
   },
   {
    "duration": 0,
    "start_time": "2023-05-30T14:53:59.053Z"
   },
   {
    "duration": 0,
    "start_time": "2023-05-30T14:53:59.054Z"
   },
   {
    "duration": 0,
    "start_time": "2023-05-30T14:53:59.055Z"
   },
   {
    "duration": 0,
    "start_time": "2023-05-30T14:53:59.056Z"
   },
   {
    "duration": 0,
    "start_time": "2023-05-30T14:53:59.057Z"
   },
   {
    "duration": 0,
    "start_time": "2023-05-30T14:53:59.058Z"
   },
   {
    "duration": 0,
    "start_time": "2023-05-30T14:53:59.116Z"
   },
   {
    "duration": 0,
    "start_time": "2023-05-30T14:53:59.117Z"
   },
   {
    "duration": 0,
    "start_time": "2023-05-30T14:53:59.118Z"
   },
   {
    "duration": 1,
    "start_time": "2023-05-30T14:53:59.118Z"
   },
   {
    "duration": 0,
    "start_time": "2023-05-30T14:53:59.120Z"
   },
   {
    "duration": 0,
    "start_time": "2023-05-30T14:53:59.120Z"
   },
   {
    "duration": 0,
    "start_time": "2023-05-30T14:53:59.122Z"
   },
   {
    "duration": 12,
    "start_time": "2023-05-30T14:55:48.740Z"
   },
   {
    "duration": 2578,
    "start_time": "2023-05-30T14:55:54.921Z"
   },
   {
    "duration": 15,
    "start_time": "2023-05-30T14:55:59.750Z"
   },
   {
    "duration": 2015,
    "start_time": "2023-05-30T14:56:08.016Z"
   },
   {
    "duration": 2078,
    "start_time": "2023-05-30T14:56:10.033Z"
   },
   {
    "duration": 2136,
    "start_time": "2023-05-30T14:56:12.113Z"
   },
   {
    "duration": 1839,
    "start_time": "2023-05-30T14:56:14.251Z"
   },
   {
    "duration": 0,
    "start_time": "2023-05-30T14:56:16.093Z"
   },
   {
    "duration": 0,
    "start_time": "2023-05-30T14:56:16.094Z"
   },
   {
    "duration": 0,
    "start_time": "2023-05-30T14:56:16.095Z"
   },
   {
    "duration": 0,
    "start_time": "2023-05-30T14:56:16.097Z"
   },
   {
    "duration": 0,
    "start_time": "2023-05-30T14:56:16.098Z"
   },
   {
    "duration": 0,
    "start_time": "2023-05-30T14:56:16.099Z"
   },
   {
    "duration": 0,
    "start_time": "2023-05-30T14:56:16.100Z"
   },
   {
    "duration": 0,
    "start_time": "2023-05-30T14:56:16.115Z"
   },
   {
    "duration": 0,
    "start_time": "2023-05-30T14:56:16.116Z"
   },
   {
    "duration": 0,
    "start_time": "2023-05-30T14:56:16.117Z"
   },
   {
    "duration": 0,
    "start_time": "2023-05-30T14:56:16.118Z"
   },
   {
    "duration": 0,
    "start_time": "2023-05-30T14:56:16.119Z"
   },
   {
    "duration": 0,
    "start_time": "2023-05-30T14:56:16.120Z"
   },
   {
    "duration": 0,
    "start_time": "2023-05-30T14:56:16.121Z"
   },
   {
    "duration": 0,
    "start_time": "2023-05-30T14:56:16.123Z"
   },
   {
    "duration": 0,
    "start_time": "2023-05-30T14:56:16.124Z"
   },
   {
    "duration": 0,
    "start_time": "2023-05-30T14:56:16.125Z"
   },
   {
    "duration": 0,
    "start_time": "2023-05-30T14:56:16.127Z"
   },
   {
    "duration": 0,
    "start_time": "2023-05-30T14:56:16.128Z"
   },
   {
    "duration": 0,
    "start_time": "2023-05-30T14:56:16.130Z"
   },
   {
    "duration": 0,
    "start_time": "2023-05-30T14:56:16.131Z"
   },
   {
    "duration": 0,
    "start_time": "2023-05-30T14:56:16.132Z"
   },
   {
    "duration": 0,
    "start_time": "2023-05-30T14:56:16.134Z"
   },
   {
    "duration": 0,
    "start_time": "2023-05-30T14:56:16.135Z"
   },
   {
    "duration": 0,
    "start_time": "2023-05-30T14:56:16.136Z"
   },
   {
    "duration": 0,
    "start_time": "2023-05-30T14:56:16.138Z"
   },
   {
    "duration": 0,
    "start_time": "2023-05-30T14:56:16.139Z"
   },
   {
    "duration": 0,
    "start_time": "2023-05-30T14:56:16.140Z"
   },
   {
    "duration": 0,
    "start_time": "2023-05-30T14:56:16.141Z"
   },
   {
    "duration": 0,
    "start_time": "2023-05-30T14:56:16.143Z"
   },
   {
    "duration": 0,
    "start_time": "2023-05-30T14:56:16.144Z"
   },
   {
    "duration": 0,
    "start_time": "2023-05-30T14:56:16.145Z"
   },
   {
    "duration": 0,
    "start_time": "2023-05-30T14:56:16.147Z"
   },
   {
    "duration": 0,
    "start_time": "2023-05-30T14:56:16.148Z"
   },
   {
    "duration": 0,
    "start_time": "2023-05-30T14:56:16.149Z"
   },
   {
    "duration": 0,
    "start_time": "2023-05-30T14:56:16.150Z"
   },
   {
    "duration": 0,
    "start_time": "2023-05-30T14:56:16.152Z"
   },
   {
    "duration": 0,
    "start_time": "2023-05-30T14:56:16.153Z"
   },
   {
    "duration": 0,
    "start_time": "2023-05-30T14:56:16.216Z"
   },
   {
    "duration": 0,
    "start_time": "2023-05-30T14:56:16.218Z"
   },
   {
    "duration": 0,
    "start_time": "2023-05-30T14:56:16.219Z"
   },
   {
    "duration": 0,
    "start_time": "2023-05-30T14:56:16.220Z"
   },
   {
    "duration": 0,
    "start_time": "2023-05-30T14:56:16.221Z"
   },
   {
    "duration": 0,
    "start_time": "2023-05-30T14:56:16.223Z"
   },
   {
    "duration": 0,
    "start_time": "2023-05-30T14:56:16.224Z"
   },
   {
    "duration": 0,
    "start_time": "2023-05-30T14:56:16.225Z"
   },
   {
    "duration": 79,
    "start_time": "2023-05-30T14:56:29.037Z"
   },
   {
    "duration": 868,
    "start_time": "2023-05-30T14:56:51.778Z"
   },
   {
    "duration": 16,
    "start_time": "2023-05-30T14:56:52.649Z"
   },
   {
    "duration": 45,
    "start_time": "2023-05-30T14:56:52.670Z"
   },
   {
    "duration": 20,
    "start_time": "2023-05-30T14:56:52.789Z"
   },
   {
    "duration": 18,
    "start_time": "2023-05-30T14:56:52.914Z"
   },
   {
    "duration": 18,
    "start_time": "2023-05-30T14:56:53.041Z"
   },
   {
    "duration": 20,
    "start_time": "2023-05-30T14:56:53.164Z"
   },
   {
    "duration": 6,
    "start_time": "2023-05-30T14:56:53.280Z"
   },
   {
    "duration": 6,
    "start_time": "2023-05-30T14:56:53.373Z"
   },
   {
    "duration": 21,
    "start_time": "2023-05-30T14:56:53.616Z"
   },
   {
    "duration": 20,
    "start_time": "2023-05-30T14:56:53.872Z"
   },
   {
    "duration": 16,
    "start_time": "2023-05-30T14:56:53.997Z"
   },
   {
    "duration": 19,
    "start_time": "2023-05-30T14:56:54.107Z"
   },
   {
    "duration": 18,
    "start_time": "2023-05-30T14:56:54.255Z"
   },
   {
    "duration": 18,
    "start_time": "2023-05-30T14:56:54.355Z"
   },
   {
    "duration": 31,
    "start_time": "2023-05-30T14:56:54.598Z"
   },
   {
    "duration": 28,
    "start_time": "2023-05-30T14:56:54.855Z"
   },
   {
    "duration": 130,
    "start_time": "2023-05-30T14:56:55.138Z"
   },
   {
    "duration": 293,
    "start_time": "2023-05-30T14:56:55.269Z"
   },
   {
    "duration": 3,
    "start_time": "2023-05-30T14:56:56.645Z"
   },
   {
    "duration": 983,
    "start_time": "2023-05-30T14:56:57.948Z"
   },
   {
    "duration": 52,
    "start_time": "2023-05-30T14:56:59.567Z"
   },
   {
    "duration": 15,
    "start_time": "2023-05-30T14:56:59.700Z"
   },
   {
    "duration": 61,
    "start_time": "2023-05-30T15:03:11.211Z"
   },
   {
    "duration": 16,
    "start_time": "2023-05-30T15:12:46.562Z"
   },
   {
    "duration": 64,
    "start_time": "2023-05-30T15:12:48.740Z"
   },
   {
    "duration": 13,
    "start_time": "2023-05-30T15:12:49.499Z"
   },
   {
    "duration": 4,
    "start_time": "2023-05-30T15:12:50.014Z"
   },
   {
    "duration": 19,
    "start_time": "2023-05-30T15:12:52.002Z"
   },
   {
    "duration": 126,
    "start_time": "2023-05-30T15:13:27.196Z"
   },
   {
    "duration": 4,
    "start_time": "2023-05-30T15:13:43.541Z"
   },
   {
    "duration": 70,
    "start_time": "2023-05-30T15:13:51.218Z"
   },
   {
    "duration": 16,
    "start_time": "2023-05-30T15:13:51.521Z"
   },
   {
    "duration": 3,
    "start_time": "2023-05-30T15:13:51.862Z"
   },
   {
    "duration": 252,
    "start_time": "2023-05-30T15:13:53.010Z"
   },
   {
    "duration": 140,
    "start_time": "2023-05-30T15:13:54.233Z"
   },
   {
    "duration": 235,
    "start_time": "2023-05-30T15:13:56.040Z"
   },
   {
    "duration": 157,
    "start_time": "2023-05-30T15:13:57.715Z"
   },
   {
    "duration": 9,
    "start_time": "2023-05-30T15:13:59.826Z"
   },
   {
    "duration": 154,
    "start_time": "2023-05-30T15:14:28.383Z"
   },
   {
    "duration": 213,
    "start_time": "2023-05-30T15:14:28.911Z"
   },
   {
    "duration": 4,
    "start_time": "2023-05-30T15:14:29.471Z"
   },
   {
    "duration": 3,
    "start_time": "2023-05-30T15:14:48.276Z"
   },
   {
    "duration": 47,
    "start_time": "2023-05-30T15:14:55.759Z"
   },
   {
    "duration": 109,
    "start_time": "2023-05-30T15:23:45.079Z"
   },
   {
    "duration": 10,
    "start_time": "2023-05-30T15:24:02.905Z"
   },
   {
    "duration": 52,
    "start_time": "2023-05-30T15:24:14.442Z"
   },
   {
    "duration": 59,
    "start_time": "2023-05-30T15:24:25.432Z"
   },
   {
    "duration": 21,
    "start_time": "2023-05-30T15:24:31.899Z"
   },
   {
    "duration": 9,
    "start_time": "2023-05-30T15:24:44.013Z"
   },
   {
    "duration": 19,
    "start_time": "2023-05-30T15:24:48.713Z"
   },
   {
    "duration": 52,
    "start_time": "2023-05-30T15:25:04.381Z"
   },
   {
    "duration": 619,
    "start_time": "2023-05-30T15:25:23.333Z"
   },
   {
    "duration": 25,
    "start_time": "2023-05-30T15:26:30.869Z"
   },
   {
    "duration": 3,
    "start_time": "2023-05-30T15:26:53.026Z"
   },
   {
    "duration": 10,
    "start_time": "2023-05-30T15:33:30.848Z"
   },
   {
    "duration": 52,
    "start_time": "2023-05-30T15:33:33.543Z"
   },
   {
    "duration": 340,
    "start_time": "2023-05-30T15:38:02.714Z"
   },
   {
    "duration": 86,
    "start_time": "2023-05-30T15:38:11.626Z"
   },
   {
    "duration": 87,
    "start_time": "2023-05-30T15:38:17.773Z"
   },
   {
    "duration": 194,
    "start_time": "2023-05-30T15:39:30.028Z"
   },
   {
    "duration": 4,
    "start_time": "2023-05-30T15:39:58.948Z"
   },
   {
    "duration": 8,
    "start_time": "2023-05-30T15:40:11.423Z"
   },
   {
    "duration": 4,
    "start_time": "2023-05-30T15:40:19.427Z"
   },
   {
    "duration": 193,
    "start_time": "2023-05-30T15:40:40.425Z"
   },
   {
    "duration": 175416,
    "start_time": "2023-05-30T15:49:01.387Z"
   },
   {
    "duration": 314,
    "start_time": "2023-05-30T15:51:56.805Z"
   },
   {
    "duration": 13,
    "start_time": "2023-05-30T15:53:10.978Z"
   },
   {
    "duration": 4,
    "start_time": "2023-05-30T15:54:37.615Z"
   },
   {
    "duration": 12,
    "start_time": "2023-05-30T15:54:43.269Z"
   },
   {
    "duration": 4,
    "start_time": "2023-05-30T15:55:34.044Z"
   },
   {
    "duration": 1987,
    "start_time": "2023-05-30T17:41:02.458Z"
   },
   {
    "duration": 1921,
    "start_time": "2023-05-30T17:41:04.447Z"
   },
   {
    "duration": 1978,
    "start_time": "2023-05-30T17:41:06.370Z"
   },
   {
    "duration": 1437,
    "start_time": "2023-05-30T17:41:08.350Z"
   },
   {
    "duration": 787,
    "start_time": "2023-05-30T17:41:09.789Z"
   },
   {
    "duration": 28,
    "start_time": "2023-05-30T17:41:10.577Z"
   },
   {
    "duration": 29,
    "start_time": "2023-05-30T17:41:10.615Z"
   },
   {
    "duration": 38,
    "start_time": "2023-05-30T17:41:10.645Z"
   },
   {
    "duration": 16,
    "start_time": "2023-05-30T17:41:10.685Z"
   },
   {
    "duration": 26,
    "start_time": "2023-05-30T17:41:10.704Z"
   },
   {
    "duration": 18,
    "start_time": "2023-05-30T17:41:10.732Z"
   },
   {
    "duration": 8,
    "start_time": "2023-05-30T17:41:10.751Z"
   },
   {
    "duration": 8,
    "start_time": "2023-05-30T17:41:10.760Z"
   },
   {
    "duration": 46,
    "start_time": "2023-05-30T17:41:10.770Z"
   },
   {
    "duration": 20,
    "start_time": "2023-05-30T17:41:10.817Z"
   },
   {
    "duration": 16,
    "start_time": "2023-05-30T17:41:10.838Z"
   },
   {
    "duration": 19,
    "start_time": "2023-05-30T17:41:10.855Z"
   },
   {
    "duration": 19,
    "start_time": "2023-05-30T17:41:10.875Z"
   },
   {
    "duration": 16,
    "start_time": "2023-05-30T17:41:10.915Z"
   },
   {
    "duration": 33,
    "start_time": "2023-05-30T17:41:10.932Z"
   },
   {
    "duration": 26,
    "start_time": "2023-05-30T17:41:10.966Z"
   },
   {
    "duration": 155,
    "start_time": "2023-05-30T17:41:10.993Z"
   },
   {
    "duration": 230,
    "start_time": "2023-05-30T17:41:11.149Z"
   },
   {
    "duration": 3,
    "start_time": "2023-05-30T17:41:11.380Z"
   },
   {
    "duration": 917,
    "start_time": "2023-05-30T17:41:11.384Z"
   },
   {
    "duration": 60,
    "start_time": "2023-05-30T17:41:12.303Z"
   },
   {
    "duration": 17,
    "start_time": "2023-05-30T17:41:12.364Z"
   },
   {
    "duration": 92,
    "start_time": "2023-05-30T17:41:12.384Z"
   },
   {
    "duration": 14,
    "start_time": "2023-05-30T17:41:12.478Z"
   },
   {
    "duration": 3,
    "start_time": "2023-05-30T17:41:12.494Z"
   },
   {
    "duration": 424,
    "start_time": "2023-05-30T17:41:12.499Z"
   },
   {
    "duration": 117,
    "start_time": "2023-05-30T17:41:12.925Z"
   },
   {
    "duration": 109,
    "start_time": "2023-05-30T17:41:13.044Z"
   },
   {
    "duration": 3,
    "start_time": "2023-05-30T17:41:13.155Z"
   },
   {
    "duration": 262,
    "start_time": "2023-05-30T17:41:13.159Z"
   },
   {
    "duration": 172890,
    "start_time": "2023-05-30T17:41:13.429Z"
   },
   {
    "duration": 2463,
    "start_time": "2023-05-31T06:44:16.841Z"
   },
   {
    "duration": 1999,
    "start_time": "2023-05-31T06:44:19.306Z"
   },
   {
    "duration": 5433,
    "start_time": "2023-05-31T06:44:21.307Z"
   },
   {
    "duration": 2769,
    "start_time": "2023-05-31T06:44:26.742Z"
   },
   {
    "duration": 2880,
    "start_time": "2023-05-31T06:44:29.512Z"
   },
   {
    "duration": 21,
    "start_time": "2023-05-31T06:44:32.394Z"
   },
   {
    "duration": 51,
    "start_time": "2023-05-31T06:44:32.417Z"
   },
   {
    "duration": 25,
    "start_time": "2023-05-31T06:44:32.470Z"
   },
   {
    "duration": 25,
    "start_time": "2023-05-31T06:44:32.497Z"
   },
   {
    "duration": 39,
    "start_time": "2023-05-31T06:44:32.524Z"
   },
   {
    "duration": 24,
    "start_time": "2023-05-31T06:44:32.565Z"
   },
   {
    "duration": 7,
    "start_time": "2023-05-31T06:44:32.590Z"
   },
   {
    "duration": 7,
    "start_time": "2023-05-31T06:44:32.599Z"
   },
   {
    "duration": 21,
    "start_time": "2023-05-31T06:44:32.607Z"
   },
   {
    "duration": 23,
    "start_time": "2023-05-31T06:44:32.651Z"
   },
   {
    "duration": 22,
    "start_time": "2023-05-31T06:44:32.676Z"
   },
   {
    "duration": 22,
    "start_time": "2023-05-31T06:44:32.700Z"
   },
   {
    "duration": 46,
    "start_time": "2023-05-31T06:44:32.725Z"
   },
   {
    "duration": 23,
    "start_time": "2023-05-31T06:44:32.773Z"
   },
   {
    "duration": 55,
    "start_time": "2023-05-31T06:44:32.798Z"
   },
   {
    "duration": 28,
    "start_time": "2023-05-31T06:44:32.855Z"
   },
   {
    "duration": 155,
    "start_time": "2023-05-31T06:44:32.885Z"
   },
   {
    "duration": 244,
    "start_time": "2023-05-31T06:44:33.041Z"
   },
   {
    "duration": 3,
    "start_time": "2023-05-31T06:44:33.286Z"
   },
   {
    "duration": 1235,
    "start_time": "2023-05-31T06:44:33.291Z"
   },
   {
    "duration": 54,
    "start_time": "2023-05-31T06:44:34.528Z"
   },
   {
    "duration": 18,
    "start_time": "2023-05-31T06:44:34.584Z"
   },
   {
    "duration": 95,
    "start_time": "2023-05-31T06:44:34.604Z"
   },
   {
    "duration": 13,
    "start_time": "2023-05-31T06:44:34.701Z"
   },
   {
    "duration": 4,
    "start_time": "2023-05-31T06:44:34.715Z"
   },
   {
    "duration": 398,
    "start_time": "2023-05-31T06:44:34.721Z"
   },
   {
    "duration": 100,
    "start_time": "2023-05-31T06:44:35.121Z"
   },
   {
    "duration": 132,
    "start_time": "2023-05-31T06:44:35.223Z"
   },
   {
    "duration": 4,
    "start_time": "2023-05-31T06:44:35.357Z"
   },
   {
    "duration": 41,
    "start_time": "2023-05-31T06:44:54.417Z"
   },
   {
    "duration": 3632,
    "start_time": "2023-05-31T12:39:34.875Z"
   },
   {
    "duration": 3206,
    "start_time": "2023-05-31T12:39:38.510Z"
   },
   {
    "duration": 3412,
    "start_time": "2023-05-31T12:39:41.718Z"
   },
   {
    "duration": 1954,
    "start_time": "2023-05-31T12:39:45.132Z"
   },
   {
    "duration": 1205,
    "start_time": "2023-05-31T12:39:47.088Z"
   },
   {
    "duration": 34,
    "start_time": "2023-05-31T12:39:48.297Z"
   },
   {
    "duration": 68,
    "start_time": "2023-05-31T12:39:48.333Z"
   },
   {
    "duration": 35,
    "start_time": "2023-05-31T12:39:48.403Z"
   },
   {
    "duration": 46,
    "start_time": "2023-05-31T12:39:48.439Z"
   },
   {
    "duration": 41,
    "start_time": "2023-05-31T12:39:48.488Z"
   },
   {
    "duration": 46,
    "start_time": "2023-05-31T12:39:48.531Z"
   },
   {
    "duration": 30,
    "start_time": "2023-05-31T12:39:48.579Z"
   },
   {
    "duration": 18,
    "start_time": "2023-05-31T12:39:48.612Z"
   },
   {
    "duration": 24,
    "start_time": "2023-05-31T12:39:48.632Z"
   },
   {
    "duration": 46,
    "start_time": "2023-05-31T12:39:48.658Z"
   },
   {
    "duration": 30,
    "start_time": "2023-05-31T12:39:48.706Z"
   },
   {
    "duration": 48,
    "start_time": "2023-05-31T12:39:48.737Z"
   },
   {
    "duration": 47,
    "start_time": "2023-05-31T12:39:48.786Z"
   },
   {
    "duration": 73,
    "start_time": "2023-05-31T12:39:48.834Z"
   },
   {
    "duration": 57,
    "start_time": "2023-05-31T12:39:48.908Z"
   },
   {
    "duration": 34,
    "start_time": "2023-05-31T12:39:48.967Z"
   },
   {
    "duration": 182,
    "start_time": "2023-05-31T12:39:49.003Z"
   },
   {
    "duration": 278,
    "start_time": "2023-05-31T12:39:49.187Z"
   },
   {
    "duration": 3,
    "start_time": "2023-05-31T12:39:49.466Z"
   },
   {
    "duration": 1310,
    "start_time": "2023-05-31T12:39:49.472Z"
   },
   {
    "duration": 67,
    "start_time": "2023-05-31T12:39:50.784Z"
   },
   {
    "duration": 25,
    "start_time": "2023-05-31T12:39:50.853Z"
   },
   {
    "duration": 114,
    "start_time": "2023-05-31T12:39:50.897Z"
   },
   {
    "duration": 95,
    "start_time": "2023-05-31T12:39:51.013Z"
   },
   {
    "duration": 15,
    "start_time": "2023-05-31T12:39:51.110Z"
   },
   {
    "duration": 17,
    "start_time": "2023-05-31T12:39:51.127Z"
   },
   {
    "duration": 425,
    "start_time": "2023-05-31T12:39:51.146Z"
   },
   {
    "duration": 3,
    "start_time": "2023-05-31T12:39:51.573Z"
   },
   {
    "duration": 52,
    "start_time": "2023-05-31T12:39:51.578Z"
   },
   {
    "duration": 40,
    "start_time": "2023-05-31T12:39:51.632Z"
   },
   {
    "duration": 124,
    "start_time": "2023-05-31T12:39:51.674Z"
   },
   {
    "duration": 612,
    "start_time": "2023-05-31T12:39:51.800Z"
   },
   {
    "duration": 36267,
    "start_time": "2023-05-31T12:39:52.415Z"
   },
   {
    "duration": 1207,
    "start_time": "2023-05-31T12:40:28.684Z"
   },
   {
    "duration": 22,
    "start_time": "2023-05-31T12:40:29.893Z"
   },
   {
    "duration": 208,
    "start_time": "2023-05-31T12:40:29.998Z"
   },
   {
    "duration": 109,
    "start_time": "2023-05-31T12:40:30.209Z"
   },
   {
    "duration": 117,
    "start_time": "2023-05-31T12:40:30.320Z"
   },
   {
    "duration": 13,
    "start_time": "2023-05-31T12:40:30.439Z"
   },
   {
    "duration": 0,
    "start_time": "2023-05-31T12:40:30.453Z"
   },
   {
    "duration": 0,
    "start_time": "2023-05-31T12:40:30.455Z"
   },
   {
    "duration": 0,
    "start_time": "2023-05-31T12:40:30.456Z"
   },
   {
    "duration": 0,
    "start_time": "2023-05-31T12:40:30.457Z"
   },
   {
    "duration": 0,
    "start_time": "2023-05-31T12:40:30.458Z"
   },
   {
    "duration": 0,
    "start_time": "2023-05-31T12:40:30.459Z"
   },
   {
    "duration": 0,
    "start_time": "2023-05-31T12:40:30.460Z"
   },
   {
    "duration": 0,
    "start_time": "2023-05-31T12:40:30.462Z"
   },
   {
    "duration": 0,
    "start_time": "2023-05-31T12:40:30.463Z"
   },
   {
    "duration": 0,
    "start_time": "2023-05-31T12:40:30.464Z"
   },
   {
    "duration": 0,
    "start_time": "2023-05-31T12:40:30.465Z"
   },
   {
    "duration": 1,
    "start_time": "2023-05-31T12:40:30.466Z"
   },
   {
    "duration": 0,
    "start_time": "2023-05-31T12:40:30.472Z"
   },
   {
    "duration": 19,
    "start_time": "2023-05-31T12:40:32.954Z"
   },
   {
    "duration": 2403,
    "start_time": "2023-05-31T12:40:45.632Z"
   },
   {
    "duration": 2294,
    "start_time": "2023-05-31T12:40:48.038Z"
   },
   {
    "duration": 2320,
    "start_time": "2023-05-31T12:40:50.334Z"
   },
   {
    "duration": 6,
    "start_time": "2023-05-31T12:40:52.657Z"
   },
   {
    "duration": 1016,
    "start_time": "2023-05-31T12:40:52.664Z"
   },
   {
    "duration": 26,
    "start_time": "2023-05-31T12:40:53.681Z"
   },
   {
    "duration": 42,
    "start_time": "2023-05-31T12:40:53.709Z"
   },
   {
    "duration": 33,
    "start_time": "2023-05-31T12:40:53.753Z"
   },
   {
    "duration": 27,
    "start_time": "2023-05-31T12:40:53.788Z"
   },
   {
    "duration": 28,
    "start_time": "2023-05-31T12:40:53.818Z"
   },
   {
    "duration": 25,
    "start_time": "2023-05-31T12:40:53.848Z"
   },
   {
    "duration": 24,
    "start_time": "2023-05-31T12:40:53.875Z"
   },
   {
    "duration": 11,
    "start_time": "2023-05-31T12:40:53.901Z"
   },
   {
    "duration": 23,
    "start_time": "2023-05-31T12:40:53.914Z"
   },
   {
    "duration": 33,
    "start_time": "2023-05-31T12:40:53.939Z"
   },
   {
    "duration": 43,
    "start_time": "2023-05-31T12:40:53.974Z"
   },
   {
    "duration": 28,
    "start_time": "2023-05-31T12:40:54.020Z"
   },
   {
    "duration": 24,
    "start_time": "2023-05-31T12:40:54.050Z"
   },
   {
    "duration": 23,
    "start_time": "2023-05-31T12:40:54.098Z"
   },
   {
    "duration": 38,
    "start_time": "2023-05-31T12:40:54.123Z"
   },
   {
    "duration": 49,
    "start_time": "2023-05-31T12:40:54.163Z"
   },
   {
    "duration": 155,
    "start_time": "2023-05-31T12:40:54.214Z"
   },
   {
    "duration": 310,
    "start_time": "2023-05-31T12:40:54.371Z"
   },
   {
    "duration": 4,
    "start_time": "2023-05-31T12:40:54.683Z"
   },
   {
    "duration": 1353,
    "start_time": "2023-05-31T12:40:54.697Z"
   },
   {
    "duration": 75,
    "start_time": "2023-05-31T12:40:56.052Z"
   },
   {
    "duration": 24,
    "start_time": "2023-05-31T12:40:56.129Z"
   },
   {
    "duration": 134,
    "start_time": "2023-05-31T12:40:56.621Z"
   },
   {
    "duration": 24,
    "start_time": "2023-05-31T12:40:57.687Z"
   },
   {
    "duration": 90,
    "start_time": "2023-05-31T12:44:32.411Z"
   },
   {
    "duration": 33,
    "start_time": "2023-05-31T12:44:32.611Z"
   },
   {
    "duration": 42,
    "start_time": "2023-05-31T12:44:35.310Z"
   },
   {
    "duration": 16,
    "start_time": "2023-05-31T12:44:35.634Z"
   },
   {
    "duration": 4,
    "start_time": "2023-05-31T12:44:35.756Z"
   },
   {
    "duration": 18,
    "start_time": "2023-05-31T12:44:36.260Z"
   },
   {
    "duration": 17,
    "start_time": "2023-05-31T12:44:36.634Z"
   },
   {
    "duration": 256,
    "start_time": "2023-05-31T12:44:37.011Z"
   },
   {
    "duration": 3,
    "start_time": "2023-05-31T12:44:38.188Z"
   },
   {
    "duration": 101,
    "start_time": "2023-05-31T12:44:38.330Z"
   },
   {
    "duration": 15,
    "start_time": "2023-05-31T12:45:12.635Z"
   },
   {
    "duration": 2375,
    "start_time": "2023-05-31T12:45:18.576Z"
   },
   {
    "duration": 2315,
    "start_time": "2023-05-31T12:45:20.954Z"
   },
   {
    "duration": 2369,
    "start_time": "2023-05-31T12:45:23.271Z"
   },
   {
    "duration": 1618,
    "start_time": "2023-05-31T12:45:25.642Z"
   },
   {
    "duration": 1019,
    "start_time": "2023-05-31T12:45:27.262Z"
   },
   {
    "duration": 26,
    "start_time": "2023-05-31T12:45:28.283Z"
   },
   {
    "duration": 64,
    "start_time": "2023-05-31T12:45:28.312Z"
   },
   {
    "duration": 38,
    "start_time": "2023-05-31T12:45:28.378Z"
   },
   {
    "duration": 50,
    "start_time": "2023-05-31T12:45:28.418Z"
   },
   {
    "duration": 38,
    "start_time": "2023-05-31T12:45:28.469Z"
   },
   {
    "duration": 31,
    "start_time": "2023-05-31T12:45:28.509Z"
   },
   {
    "duration": 13,
    "start_time": "2023-05-31T12:45:28.542Z"
   },
   {
    "duration": 9,
    "start_time": "2023-05-31T12:45:28.557Z"
   },
   {
    "duration": 33,
    "start_time": "2023-05-31T12:45:28.569Z"
   },
   {
    "duration": 37,
    "start_time": "2023-05-31T12:45:28.605Z"
   },
   {
    "duration": 29,
    "start_time": "2023-05-31T12:45:28.644Z"
   },
   {
    "duration": 26,
    "start_time": "2023-05-31T12:45:28.675Z"
   },
   {
    "duration": 40,
    "start_time": "2023-05-31T12:45:28.703Z"
   },
   {
    "duration": 40,
    "start_time": "2023-05-31T12:45:28.746Z"
   },
   {
    "duration": 43,
    "start_time": "2023-05-31T12:45:28.788Z"
   },
   {
    "duration": 32,
    "start_time": "2023-05-31T12:45:28.833Z"
   },
   {
    "duration": 169,
    "start_time": "2023-05-31T12:45:28.867Z"
   },
   {
    "duration": 299,
    "start_time": "2023-05-31T12:45:29.037Z"
   },
   {
    "duration": 3,
    "start_time": "2023-05-31T12:45:29.338Z"
   },
   {
    "duration": 1255,
    "start_time": "2023-05-31T12:45:29.344Z"
   },
   {
    "duration": 69,
    "start_time": "2023-05-31T12:45:30.601Z"
   },
   {
    "duration": 54,
    "start_time": "2023-05-31T12:45:30.672Z"
   },
   {
    "duration": 165,
    "start_time": "2023-05-31T12:45:30.728Z"
   },
   {
    "duration": 33,
    "start_time": "2023-05-31T12:45:30.895Z"
   },
   {
    "duration": 53,
    "start_time": "2023-05-31T12:45:30.930Z"
   },
   {
    "duration": 23,
    "start_time": "2023-05-31T12:45:30.985Z"
   },
   {
    "duration": 126,
    "start_time": "2023-05-31T12:45:31.009Z"
   },
   {
    "duration": 198,
    "start_time": "2023-05-31T12:45:31.137Z"
   },
   {
    "duration": 0,
    "start_time": "2023-05-31T12:45:31.338Z"
   },
   {
    "duration": 0,
    "start_time": "2023-05-31T12:45:31.339Z"
   },
   {
    "duration": 0,
    "start_time": "2023-05-31T12:45:31.341Z"
   },
   {
    "duration": 0,
    "start_time": "2023-05-31T12:45:31.343Z"
   },
   {
    "duration": 0,
    "start_time": "2023-05-31T12:45:31.344Z"
   },
   {
    "duration": 0,
    "start_time": "2023-05-31T12:45:31.345Z"
   },
   {
    "duration": 0,
    "start_time": "2023-05-31T12:45:31.346Z"
   },
   {
    "duration": 0,
    "start_time": "2023-05-31T12:45:31.347Z"
   },
   {
    "duration": 0,
    "start_time": "2023-05-31T12:45:31.348Z"
   },
   {
    "duration": 0,
    "start_time": "2023-05-31T12:45:31.350Z"
   },
   {
    "duration": 0,
    "start_time": "2023-05-31T12:45:31.351Z"
   },
   {
    "duration": 0,
    "start_time": "2023-05-31T12:45:31.352Z"
   },
   {
    "duration": 0,
    "start_time": "2023-05-31T12:45:31.353Z"
   },
   {
    "duration": 0,
    "start_time": "2023-05-31T12:45:31.354Z"
   },
   {
    "duration": 0,
    "start_time": "2023-05-31T12:45:31.356Z"
   },
   {
    "duration": 0,
    "start_time": "2023-05-31T12:45:31.356Z"
   },
   {
    "duration": 0,
    "start_time": "2023-05-31T12:45:31.358Z"
   },
   {
    "duration": 0,
    "start_time": "2023-05-31T12:45:31.359Z"
   },
   {
    "duration": 0,
    "start_time": "2023-05-31T12:45:31.360Z"
   },
   {
    "duration": 0,
    "start_time": "2023-05-31T12:45:31.361Z"
   },
   {
    "duration": 0,
    "start_time": "2023-05-31T12:45:31.398Z"
   },
   {
    "duration": 0,
    "start_time": "2023-05-31T12:45:31.400Z"
   },
   {
    "duration": 0,
    "start_time": "2023-05-31T12:45:31.401Z"
   },
   {
    "duration": 0,
    "start_time": "2023-05-31T12:45:31.403Z"
   },
   {
    "duration": 2487,
    "start_time": "2023-05-31T12:48:27.848Z"
   },
   {
    "duration": 4092,
    "start_time": "2023-05-31T12:48:30.338Z"
   },
   {
    "duration": 2651,
    "start_time": "2023-05-31T12:48:34.431Z"
   },
   {
    "duration": 1597,
    "start_time": "2023-05-31T12:48:37.085Z"
   },
   {
    "duration": 1049,
    "start_time": "2023-05-31T12:48:38.687Z"
   },
   {
    "duration": 22,
    "start_time": "2023-05-31T12:48:39.738Z"
   },
   {
    "duration": 53,
    "start_time": "2023-05-31T12:48:39.763Z"
   },
   {
    "duration": 26,
    "start_time": "2023-05-31T12:48:39.818Z"
   },
   {
    "duration": 25,
    "start_time": "2023-05-31T12:48:39.846Z"
   },
   {
    "duration": 42,
    "start_time": "2023-05-31T12:48:39.873Z"
   },
   {
    "duration": 46,
    "start_time": "2023-05-31T12:48:39.918Z"
   },
   {
    "duration": 29,
    "start_time": "2023-05-31T12:48:39.966Z"
   },
   {
    "duration": 13,
    "start_time": "2023-05-31T12:48:39.997Z"
   },
   {
    "duration": 32,
    "start_time": "2023-05-31T12:48:40.014Z"
   },
   {
    "duration": 59,
    "start_time": "2023-05-31T12:48:40.048Z"
   },
   {
    "duration": 26,
    "start_time": "2023-05-31T12:48:40.109Z"
   },
   {
    "duration": 26,
    "start_time": "2023-05-31T12:48:40.137Z"
   },
   {
    "duration": 44,
    "start_time": "2023-05-31T12:48:40.165Z"
   },
   {
    "duration": 29,
    "start_time": "2023-05-31T12:48:40.211Z"
   },
   {
    "duration": 56,
    "start_time": "2023-05-31T12:48:40.243Z"
   },
   {
    "duration": 37,
    "start_time": "2023-05-31T12:48:40.301Z"
   },
   {
    "duration": 184,
    "start_time": "2023-05-31T12:48:40.340Z"
   },
   {
    "duration": 282,
    "start_time": "2023-05-31T12:48:40.527Z"
   },
   {
    "duration": 4,
    "start_time": "2023-05-31T12:48:40.812Z"
   },
   {
    "duration": 1260,
    "start_time": "2023-05-31T12:48:40.817Z"
   },
   {
    "duration": 71,
    "start_time": "2023-05-31T12:48:42.079Z"
   },
   {
    "duration": 17,
    "start_time": "2023-05-31T12:48:42.153Z"
   },
   {
    "duration": 105,
    "start_time": "2023-05-31T12:48:42.172Z"
   },
   {
    "duration": 29,
    "start_time": "2023-05-31T12:48:42.279Z"
   },
   {
    "duration": 5,
    "start_time": "2023-05-31T12:48:42.310Z"
   },
   {
    "duration": 426,
    "start_time": "2023-05-31T12:48:42.316Z"
   },
   {
    "duration": 3,
    "start_time": "2023-05-31T12:48:42.744Z"
   },
   {
    "duration": 19,
    "start_time": "2023-05-31T12:48:42.749Z"
   },
   {
    "duration": 3,
    "start_time": "2023-05-31T12:48:42.770Z"
   },
   {
    "duration": 39,
    "start_time": "2023-05-31T12:48:42.775Z"
   },
   {
    "duration": 37230,
    "start_time": "2023-05-31T12:48:42.896Z"
   },
   {
    "duration": 839679,
    "start_time": "2023-05-31T12:49:20.128Z"
   },
   {
    "duration": 160127,
    "start_time": "2023-05-31T13:03:19.809Z"
   },
   {
    "duration": 8,
    "start_time": "2023-05-31T13:05:59.939Z"
   },
   {
    "duration": 207,
    "start_time": "2023-05-31T13:05:59.950Z"
   },
   {
    "duration": 46,
    "start_time": "2023-05-31T13:06:00.162Z"
   },
   {
    "duration": 92,
    "start_time": "2023-05-31T13:06:00.211Z"
   },
   {
    "duration": 15,
    "start_time": "2023-05-31T13:06:00.305Z"
   },
   {
    "duration": 0,
    "start_time": "2023-05-31T13:06:00.322Z"
   },
   {
    "duration": 0,
    "start_time": "2023-05-31T13:06:00.324Z"
   },
   {
    "duration": 0,
    "start_time": "2023-05-31T13:06:00.325Z"
   },
   {
    "duration": 0,
    "start_time": "2023-05-31T13:06:00.326Z"
   },
   {
    "duration": 0,
    "start_time": "2023-05-31T13:06:00.328Z"
   },
   {
    "duration": 0,
    "start_time": "2023-05-31T13:06:00.329Z"
   },
   {
    "duration": 0,
    "start_time": "2023-05-31T13:06:00.331Z"
   },
   {
    "duration": 0,
    "start_time": "2023-05-31T13:06:00.332Z"
   },
   {
    "duration": 0,
    "start_time": "2023-05-31T13:06:00.333Z"
   },
   {
    "duration": 0,
    "start_time": "2023-05-31T13:06:00.334Z"
   },
   {
    "duration": 0,
    "start_time": "2023-05-31T13:06:00.336Z"
   },
   {
    "duration": 0,
    "start_time": "2023-05-31T13:06:00.337Z"
   },
   {
    "duration": 0,
    "start_time": "2023-05-31T13:06:00.341Z"
   },
   {
    "duration": 0,
    "start_time": "2023-05-31T13:06:00.342Z"
   },
   {
    "duration": 0,
    "start_time": "2023-05-31T13:06:00.343Z"
   },
   {
    "duration": 0,
    "start_time": "2023-05-31T13:06:00.344Z"
   },
   {
    "duration": 0,
    "start_time": "2023-05-31T13:06:00.346Z"
   },
   {
    "duration": 0,
    "start_time": "2023-05-31T13:06:00.347Z"
   },
   {
    "duration": 0,
    "start_time": "2023-05-31T13:06:00.348Z"
   },
   {
    "duration": 0,
    "start_time": "2023-05-31T13:06:00.397Z"
   },
   {
    "duration": 0,
    "start_time": "2023-05-31T13:06:00.399Z"
   },
   {
    "duration": 0,
    "start_time": "2023-05-31T13:06:00.400Z"
   },
   {
    "duration": 0,
    "start_time": "2023-05-31T13:06:00.401Z"
   },
   {
    "duration": 0,
    "start_time": "2023-05-31T13:06:00.403Z"
   },
   {
    "duration": 0,
    "start_time": "2023-05-31T13:06:00.404Z"
   },
   {
    "duration": 0,
    "start_time": "2023-05-31T13:06:00.405Z"
   },
   {
    "duration": 0,
    "start_time": "2023-05-31T13:06:00.406Z"
   },
   {
    "duration": 0,
    "start_time": "2023-05-31T13:06:00.408Z"
   },
   {
    "duration": 0,
    "start_time": "2023-05-31T13:06:00.410Z"
   },
   {
    "duration": 0,
    "start_time": "2023-05-31T13:06:00.411Z"
   },
   {
    "duration": 0,
    "start_time": "2023-05-31T13:06:00.412Z"
   },
   {
    "duration": 0,
    "start_time": "2023-05-31T13:06:00.413Z"
   },
   {
    "duration": 0,
    "start_time": "2023-05-31T13:06:00.414Z"
   },
   {
    "duration": 0,
    "start_time": "2023-05-31T13:06:00.415Z"
   },
   {
    "duration": 0,
    "start_time": "2023-05-31T13:06:00.416Z"
   },
   {
    "duration": 0,
    "start_time": "2023-05-31T13:06:00.417Z"
   },
   {
    "duration": 2522,
    "start_time": "2023-05-31T13:06:03.352Z"
   },
   {
    "duration": 2561,
    "start_time": "2023-05-31T13:06:05.877Z"
   },
   {
    "duration": 2540,
    "start_time": "2023-05-31T13:06:08.441Z"
   },
   {
    "duration": 6,
    "start_time": "2023-05-31T13:06:10.984Z"
   },
   {
    "duration": 1095,
    "start_time": "2023-05-31T13:06:10.992Z"
   },
   {
    "duration": 22,
    "start_time": "2023-05-31T13:06:12.097Z"
   },
   {
    "duration": 38,
    "start_time": "2023-05-31T13:06:12.121Z"
   },
   {
    "duration": 39,
    "start_time": "2023-05-31T13:06:12.161Z"
   },
   {
    "duration": 22,
    "start_time": "2023-05-31T13:06:12.202Z"
   },
   {
    "duration": 25,
    "start_time": "2023-05-31T13:06:12.226Z"
   },
   {
    "duration": 23,
    "start_time": "2023-05-31T13:06:12.254Z"
   },
   {
    "duration": 7,
    "start_time": "2023-05-31T13:06:12.298Z"
   },
   {
    "duration": 20,
    "start_time": "2023-05-31T13:06:12.306Z"
   },
   {
    "duration": 21,
    "start_time": "2023-05-31T13:06:12.328Z"
   },
   {
    "duration": 23,
    "start_time": "2023-05-31T13:06:12.351Z"
   },
   {
    "duration": 21,
    "start_time": "2023-05-31T13:06:12.397Z"
   },
   {
    "duration": 23,
    "start_time": "2023-05-31T13:06:12.420Z"
   },
   {
    "duration": 22,
    "start_time": "2023-05-31T13:06:12.445Z"
   },
   {
    "duration": 43,
    "start_time": "2023-05-31T13:06:12.469Z"
   },
   {
    "duration": 40,
    "start_time": "2023-05-31T13:06:12.514Z"
   },
   {
    "duration": 48,
    "start_time": "2023-05-31T13:06:12.556Z"
   },
   {
    "duration": 162,
    "start_time": "2023-05-31T13:06:12.606Z"
   },
   {
    "duration": 322,
    "start_time": "2023-05-31T13:06:12.770Z"
   },
   {
    "duration": 3,
    "start_time": "2023-05-31T13:06:13.952Z"
   },
   {
    "duration": 1300,
    "start_time": "2023-05-31T13:06:13.958Z"
   },
   {
    "duration": 74,
    "start_time": "2023-05-31T13:06:15.260Z"
   },
   {
    "duration": 18,
    "start_time": "2023-05-31T13:06:15.336Z"
   },
   {
    "duration": 12,
    "start_time": "2023-05-31T13:06:19.650Z"
   },
   {
    "duration": 249,
    "start_time": "2023-05-31T13:06:21.424Z"
   },
   {
    "duration": 17,
    "start_time": "2023-05-31T13:06:22.167Z"
   },
   {
    "duration": 14,
    "start_time": "2023-05-31T13:06:44.393Z"
   },
   {
    "duration": 22,
    "start_time": "2023-05-31T13:06:50.008Z"
   },
   {
    "duration": 63,
    "start_time": "2023-05-31T13:06:51.078Z"
   },
   {
    "duration": 35,
    "start_time": "2023-05-31T13:06:52.076Z"
   },
   {
    "duration": 22,
    "start_time": "2023-05-31T13:06:56.968Z"
   },
   {
    "duration": 2547,
    "start_time": "2023-05-31T13:07:40.203Z"
   },
   {
    "duration": 2458,
    "start_time": "2023-05-31T13:07:42.752Z"
   },
   {
    "duration": 2543,
    "start_time": "2023-05-31T13:07:45.213Z"
   },
   {
    "duration": 1593,
    "start_time": "2023-05-31T13:07:47.758Z"
   },
   {
    "duration": 1072,
    "start_time": "2023-05-31T13:07:49.353Z"
   },
   {
    "duration": 22,
    "start_time": "2023-05-31T13:07:50.426Z"
   },
   {
    "duration": 48,
    "start_time": "2023-05-31T13:07:50.450Z"
   },
   {
    "duration": 28,
    "start_time": "2023-05-31T13:07:50.500Z"
   },
   {
    "duration": 25,
    "start_time": "2023-05-31T13:07:50.530Z"
   },
   {
    "duration": 32,
    "start_time": "2023-05-31T13:07:50.558Z"
   },
   {
    "duration": 32,
    "start_time": "2023-05-31T13:07:50.598Z"
   },
   {
    "duration": 25,
    "start_time": "2023-05-31T13:07:50.632Z"
   },
   {
    "duration": 19,
    "start_time": "2023-05-31T13:07:50.658Z"
   },
   {
    "duration": 17,
    "start_time": "2023-05-31T13:07:50.679Z"
   },
   {
    "duration": 30,
    "start_time": "2023-05-31T13:07:50.698Z"
   },
   {
    "duration": 22,
    "start_time": "2023-05-31T13:07:50.730Z"
   },
   {
    "duration": 29,
    "start_time": "2023-05-31T13:07:50.754Z"
   },
   {
    "duration": 31,
    "start_time": "2023-05-31T13:07:50.785Z"
   },
   {
    "duration": 29,
    "start_time": "2023-05-31T13:07:50.818Z"
   },
   {
    "duration": 42,
    "start_time": "2023-05-31T13:07:50.849Z"
   },
   {
    "duration": 29,
    "start_time": "2023-05-31T13:07:50.893Z"
   },
   {
    "duration": 171,
    "start_time": "2023-05-31T13:07:50.924Z"
   },
   {
    "duration": 288,
    "start_time": "2023-05-31T13:07:51.098Z"
   },
   {
    "duration": 4,
    "start_time": "2023-05-31T13:07:51.388Z"
   },
   {
    "duration": 1243,
    "start_time": "2023-05-31T13:07:51.397Z"
   },
   {
    "duration": 88,
    "start_time": "2023-05-31T13:07:52.642Z"
   },
   {
    "duration": 21,
    "start_time": "2023-05-31T13:07:52.732Z"
   },
   {
    "duration": 13,
    "start_time": "2023-05-31T13:07:52.757Z"
   },
   {
    "duration": 274,
    "start_time": "2023-05-31T13:07:52.772Z"
   },
   {
    "duration": 24,
    "start_time": "2023-05-31T13:07:53.048Z"
   },
   {
    "duration": 78,
    "start_time": "2023-05-31T13:07:53.074Z"
   },
   {
    "duration": 43,
    "start_time": "2023-05-31T13:07:53.154Z"
   },
   {
    "duration": 148,
    "start_time": "2023-05-31T13:07:53.200Z"
   },
   {
    "duration": 0,
    "start_time": "2023-05-31T13:07:53.350Z"
   },
   {
    "duration": 0,
    "start_time": "2023-05-31T13:07:53.352Z"
   },
   {
    "duration": 0,
    "start_time": "2023-05-31T13:07:53.353Z"
   },
   {
    "duration": 0,
    "start_time": "2023-05-31T13:07:53.355Z"
   },
   {
    "duration": 0,
    "start_time": "2023-05-31T13:07:53.357Z"
   },
   {
    "duration": 0,
    "start_time": "2023-05-31T13:07:53.358Z"
   },
   {
    "duration": 0,
    "start_time": "2023-05-31T13:07:53.360Z"
   },
   {
    "duration": 0,
    "start_time": "2023-05-31T13:07:53.362Z"
   },
   {
    "duration": 0,
    "start_time": "2023-05-31T13:07:53.363Z"
   },
   {
    "duration": 0,
    "start_time": "2023-05-31T13:07:53.365Z"
   },
   {
    "duration": 0,
    "start_time": "2023-05-31T13:07:53.367Z"
   },
   {
    "duration": 0,
    "start_time": "2023-05-31T13:07:53.368Z"
   },
   {
    "duration": 0,
    "start_time": "2023-05-31T13:07:53.400Z"
   },
   {
    "duration": 0,
    "start_time": "2023-05-31T13:07:53.402Z"
   },
   {
    "duration": 0,
    "start_time": "2023-05-31T13:07:53.403Z"
   },
   {
    "duration": 0,
    "start_time": "2023-05-31T13:07:53.404Z"
   },
   {
    "duration": 0,
    "start_time": "2023-05-31T13:07:53.405Z"
   },
   {
    "duration": 0,
    "start_time": "2023-05-31T13:07:53.407Z"
   },
   {
    "duration": 0,
    "start_time": "2023-05-31T13:07:53.408Z"
   },
   {
    "duration": 0,
    "start_time": "2023-05-31T13:07:53.409Z"
   },
   {
    "duration": 0,
    "start_time": "2023-05-31T13:07:53.411Z"
   },
   {
    "duration": 0,
    "start_time": "2023-05-31T13:07:53.412Z"
   },
   {
    "duration": 0,
    "start_time": "2023-05-31T13:07:53.414Z"
   },
   {
    "duration": 0,
    "start_time": "2023-05-31T13:07:53.415Z"
   },
   {
    "duration": 0,
    "start_time": "2023-05-31T13:07:53.416Z"
   },
   {
    "duration": 0,
    "start_time": "2023-05-31T13:07:53.418Z"
   },
   {
    "duration": 0,
    "start_time": "2023-05-31T13:07:53.420Z"
   },
   {
    "duration": 1,
    "start_time": "2023-05-31T13:07:53.420Z"
   },
   {
    "duration": 552,
    "start_time": "2023-05-31T13:08:34.298Z"
   },
   {
    "duration": 75,
    "start_time": "2023-05-31T13:08:37.246Z"
   },
   {
    "duration": 4639,
    "start_time": "2023-05-31T13:08:38.231Z"
   },
   {
    "duration": 0,
    "start_time": "2023-05-31T13:08:42.872Z"
   },
   {
    "duration": 117,
    "start_time": "2023-05-31T13:10:10.390Z"
   },
   {
    "duration": 16,
    "start_time": "2023-05-31T13:10:11.382Z"
   },
   {
    "duration": 4594,
    "start_time": "2023-05-31T13:10:12.184Z"
   },
   {
    "duration": 32,
    "start_time": "2023-05-31T13:10:26.687Z"
   },
   {
    "duration": 42,
    "start_time": "2023-05-31T13:10:36.344Z"
   },
   {
    "duration": 10,
    "start_time": "2023-05-31T13:10:43.994Z"
   },
   {
    "duration": 13,
    "start_time": "2023-05-31T13:10:45.186Z"
   },
   {
    "duration": 4,
    "start_time": "2023-05-31T13:10:51.258Z"
   },
   {
    "duration": 12,
    "start_time": "2023-05-31T13:10:51.814Z"
   },
   {
    "duration": 5,
    "start_time": "2023-05-31T13:11:19.871Z"
   },
   {
    "duration": 2493,
    "start_time": "2023-05-31T13:13:48.006Z"
   },
   {
    "duration": 2483,
    "start_time": "2023-05-31T13:13:50.501Z"
   },
   {
    "duration": 2511,
    "start_time": "2023-05-31T13:13:52.986Z"
   },
   {
    "duration": 1675,
    "start_time": "2023-05-31T13:13:55.500Z"
   },
   {
    "duration": 1192,
    "start_time": "2023-05-31T13:13:57.177Z"
   },
   {
    "duration": 27,
    "start_time": "2023-05-31T13:13:58.372Z"
   },
   {
    "duration": 38,
    "start_time": "2023-05-31T13:13:58.401Z"
   },
   {
    "duration": 24,
    "start_time": "2023-05-31T13:13:58.441Z"
   },
   {
    "duration": 45,
    "start_time": "2023-05-31T13:13:58.467Z"
   },
   {
    "duration": 26,
    "start_time": "2023-05-31T13:13:58.514Z"
   },
   {
    "duration": 30,
    "start_time": "2023-05-31T13:13:58.542Z"
   },
   {
    "duration": 12,
    "start_time": "2023-05-31T13:13:58.573Z"
   },
   {
    "duration": 21,
    "start_time": "2023-05-31T13:13:58.586Z"
   },
   {
    "duration": 28,
    "start_time": "2023-05-31T13:13:58.610Z"
   },
   {
    "duration": 27,
    "start_time": "2023-05-31T13:13:58.640Z"
   },
   {
    "duration": 33,
    "start_time": "2023-05-31T13:13:58.670Z"
   },
   {
    "duration": 22,
    "start_time": "2023-05-31T13:13:58.705Z"
   },
   {
    "duration": 24,
    "start_time": "2023-05-31T13:13:58.729Z"
   },
   {
    "duration": 45,
    "start_time": "2023-05-31T13:13:58.755Z"
   },
   {
    "duration": 42,
    "start_time": "2023-05-31T13:13:58.802Z"
   },
   {
    "duration": 51,
    "start_time": "2023-05-31T13:13:58.846Z"
   },
   {
    "duration": 167,
    "start_time": "2023-05-31T13:13:58.899Z"
   },
   {
    "duration": 305,
    "start_time": "2023-05-31T13:13:59.067Z"
   },
   {
    "duration": 3,
    "start_time": "2023-05-31T13:13:59.374Z"
   },
   {
    "duration": 1271,
    "start_time": "2023-05-31T13:13:59.379Z"
   },
   {
    "duration": 76,
    "start_time": "2023-05-31T13:14:00.652Z"
   },
   {
    "duration": 36,
    "start_time": "2023-05-31T13:14:00.730Z"
   },
   {
    "duration": 57,
    "start_time": "2023-05-31T13:14:00.768Z"
   },
   {
    "duration": 167,
    "start_time": "2023-05-31T13:14:00.827Z"
   },
   {
    "duration": 0,
    "start_time": "2023-05-31T13:14:00.998Z"
   },
   {
    "duration": 0,
    "start_time": "2023-05-31T13:14:01.000Z"
   },
   {
    "duration": 0,
    "start_time": "2023-05-31T13:14:01.001Z"
   },
   {
    "duration": 0,
    "start_time": "2023-05-31T13:14:01.002Z"
   },
   {
    "duration": 0,
    "start_time": "2023-05-31T13:14:01.004Z"
   },
   {
    "duration": 0,
    "start_time": "2023-05-31T13:14:01.005Z"
   },
   {
    "duration": 0,
    "start_time": "2023-05-31T13:14:01.006Z"
   },
   {
    "duration": 0,
    "start_time": "2023-05-31T13:14:01.008Z"
   },
   {
    "duration": 0,
    "start_time": "2023-05-31T13:14:01.009Z"
   },
   {
    "duration": 0,
    "start_time": "2023-05-31T13:14:01.010Z"
   },
   {
    "duration": 0,
    "start_time": "2023-05-31T13:14:01.012Z"
   },
   {
    "duration": 0,
    "start_time": "2023-05-31T13:14:01.013Z"
   },
   {
    "duration": 0,
    "start_time": "2023-05-31T13:14:01.014Z"
   },
   {
    "duration": 0,
    "start_time": "2023-05-31T13:14:01.015Z"
   },
   {
    "duration": 0,
    "start_time": "2023-05-31T13:14:01.017Z"
   },
   {
    "duration": 0,
    "start_time": "2023-05-31T13:14:01.018Z"
   },
   {
    "duration": 0,
    "start_time": "2023-05-31T13:14:01.019Z"
   },
   {
    "duration": 0,
    "start_time": "2023-05-31T13:14:01.021Z"
   },
   {
    "duration": 0,
    "start_time": "2023-05-31T13:14:01.022Z"
   },
   {
    "duration": 0,
    "start_time": "2023-05-31T13:14:01.023Z"
   },
   {
    "duration": 0,
    "start_time": "2023-05-31T13:14:01.024Z"
   },
   {
    "duration": 0,
    "start_time": "2023-05-31T13:14:01.025Z"
   },
   {
    "duration": 0,
    "start_time": "2023-05-31T13:14:01.026Z"
   },
   {
    "duration": 0,
    "start_time": "2023-05-31T13:14:01.027Z"
   },
   {
    "duration": 0,
    "start_time": "2023-05-31T13:14:01.029Z"
   },
   {
    "duration": 0,
    "start_time": "2023-05-31T13:14:01.030Z"
   },
   {
    "duration": 0,
    "start_time": "2023-05-31T13:14:01.031Z"
   },
   {
    "duration": 0,
    "start_time": "2023-05-31T13:14:01.032Z"
   },
   {
    "duration": 0,
    "start_time": "2023-05-31T13:14:01.033Z"
   },
   {
    "duration": 1,
    "start_time": "2023-05-31T13:14:01.034Z"
   },
   {
    "duration": 0,
    "start_time": "2023-05-31T13:14:01.035Z"
   },
   {
    "duration": 58,
    "start_time": "2023-05-31T13:14:30.481Z"
   },
   {
    "duration": 102,
    "start_time": "2023-05-31T13:14:53.022Z"
   },
   {
    "duration": 18,
    "start_time": "2023-05-31T13:14:54.202Z"
   },
   {
    "duration": 48,
    "start_time": "2023-05-31T13:14:54.465Z"
   },
   {
    "duration": 2,
    "start_time": "2023-05-31T13:15:03.509Z"
   },
   {
    "duration": 63,
    "start_time": "2023-05-31T13:15:03.989Z"
   },
   {
    "duration": 14,
    "start_time": "2023-05-31T13:15:05.012Z"
   },
   {
    "duration": 4,
    "start_time": "2023-05-31T13:15:05.427Z"
   },
   {
    "duration": 2631,
    "start_time": "2023-05-31T13:15:11.528Z"
   },
   {
    "duration": 2791,
    "start_time": "2023-05-31T13:15:14.161Z"
   },
   {
    "duration": 2597,
    "start_time": "2023-05-31T13:15:16.954Z"
   },
   {
    "duration": 1614,
    "start_time": "2023-05-31T13:15:19.554Z"
   },
   {
    "duration": 1098,
    "start_time": "2023-05-31T13:15:21.170Z"
   },
   {
    "duration": 30,
    "start_time": "2023-05-31T13:15:22.270Z"
   },
   {
    "duration": 39,
    "start_time": "2023-05-31T13:15:22.302Z"
   },
   {
    "duration": 25,
    "start_time": "2023-05-31T13:15:22.344Z"
   },
   {
    "duration": 42,
    "start_time": "2023-05-31T13:15:22.371Z"
   },
   {
    "duration": 24,
    "start_time": "2023-05-31T13:15:22.416Z"
   },
   {
    "duration": 27,
    "start_time": "2023-05-31T13:15:22.442Z"
   },
   {
    "duration": 9,
    "start_time": "2023-05-31T13:15:22.471Z"
   },
   {
    "duration": 25,
    "start_time": "2023-05-31T13:15:22.481Z"
   },
   {
    "duration": 29,
    "start_time": "2023-05-31T13:15:22.508Z"
   },
   {
    "duration": 28,
    "start_time": "2023-05-31T13:15:22.538Z"
   },
   {
    "duration": 39,
    "start_time": "2023-05-31T13:15:22.568Z"
   },
   {
    "duration": 24,
    "start_time": "2023-05-31T13:15:22.609Z"
   },
   {
    "duration": 21,
    "start_time": "2023-05-31T13:15:22.635Z"
   },
   {
    "duration": 43,
    "start_time": "2023-05-31T13:15:22.658Z"
   },
   {
    "duration": 41,
    "start_time": "2023-05-31T13:15:22.704Z"
   },
   {
    "duration": 50,
    "start_time": "2023-05-31T13:15:22.747Z"
   },
   {
    "duration": 161,
    "start_time": "2023-05-31T13:15:22.799Z"
   },
   {
    "duration": 276,
    "start_time": "2023-05-31T13:15:22.962Z"
   },
   {
    "duration": 4,
    "start_time": "2023-05-31T13:15:23.240Z"
   },
   {
    "duration": 1218,
    "start_time": "2023-05-31T13:15:23.246Z"
   },
   {
    "duration": 85,
    "start_time": "2023-05-31T13:15:24.466Z"
   },
   {
    "duration": 22,
    "start_time": "2023-05-31T13:15:24.554Z"
   },
   {
    "duration": 11,
    "start_time": "2023-05-31T13:15:24.598Z"
   },
   {
    "duration": 107,
    "start_time": "2023-05-31T13:15:24.611Z"
   },
   {
    "duration": 16,
    "start_time": "2023-05-31T13:15:24.720Z"
   },
   {
    "duration": 62,
    "start_time": "2023-05-31T13:15:24.737Z"
   },
   {
    "duration": 2,
    "start_time": "2023-05-31T13:15:24.801Z"
   },
   {
    "duration": 60,
    "start_time": "2023-05-31T13:15:24.805Z"
   },
   {
    "duration": 30,
    "start_time": "2023-05-31T13:15:24.867Z"
   },
   {
    "duration": 4,
    "start_time": "2023-05-31T13:15:24.900Z"
   },
   {
    "duration": 430,
    "start_time": "2023-05-31T13:15:24.906Z"
   },
   {
    "duration": 3,
    "start_time": "2023-05-31T13:15:25.338Z"
   },
   {
    "duration": 21,
    "start_time": "2023-05-31T13:15:25.342Z"
   },
   {
    "duration": 3,
    "start_time": "2023-05-31T13:15:25.365Z"
   },
   {
    "duration": 35,
    "start_time": "2023-05-31T13:15:25.369Z"
   },
   {
    "duration": 38548,
    "start_time": "2023-05-31T13:15:25.406Z"
   }
  ],
  "kernelspec": {
   "display_name": "Python 3 (ipykernel)",
   "language": "python",
   "name": "python3"
  },
  "language_info": {
   "codemirror_mode": {
    "name": "ipython",
    "version": 3
   },
   "file_extension": ".py",
   "mimetype": "text/x-python",
   "name": "python",
   "nbconvert_exporter": "python",
   "pygments_lexer": "ipython3",
   "version": "3.11.4"
  },
  "toc": {
   "base_numbering": 1,
   "nav_menu": {},
   "number_sections": true,
   "sideBar": true,
   "skip_h1_title": true,
   "title_cell": "Table of Contents",
   "title_sidebar": "Contents",
   "toc_cell": false,
   "toc_position": {
    "height": "calc(100% - 180px)",
    "left": "10px",
    "top": "150px",
    "width": "165px"
   },
   "toc_section_display": true,
   "toc_window_display": true
  }
 },
 "nbformat": 4,
 "nbformat_minor": 2
}
